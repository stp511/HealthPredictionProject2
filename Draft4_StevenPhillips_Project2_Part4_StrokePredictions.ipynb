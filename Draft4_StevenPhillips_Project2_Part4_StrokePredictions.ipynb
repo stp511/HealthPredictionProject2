{
  "nbformat": 4,
  "nbformat_minor": 0,
  "metadata": {
    "colab": {
      "provenance": [],
      "collapsed_sections": [
        "4r4RGW9bez53",
        "fAZtI5i16iha",
        "L2e1VdPj6r8G",
        "jOVEh9cj7IQ8",
        "1k1NWyuV78XU",
        "p5D-byjlPRou",
        "ZBx818KmPR22",
        "djIzMa81PTPk",
        "hYnKf27SPTX7",
        "ave7K6j6PThB",
        "nPEIbAtVPTos",
        "SXYOqxUkPTvT",
        "8DkB0C-fPT1L",
        "ujeDXpp3PT-e",
        "sgFOgTNpP3dI",
        "01Jq9hv2PUCD",
        "GqxrF72WMIob",
        "h5q9HWGYO9Y-",
        "YDvAQOVYO4p8",
        "BfBZUXBPTYzH",
        "uBxnV_DoTaVl",
        "5q5YRrG1Taxu",
        "YsBiTdrhDDp3",
        "1SYhZiHaHD-D",
        "ruXji3GKG05Z"
      ],
      "toc_visible": true,
      "authorship_tag": "ABX9TyNTANSsNJ5qxQ7hzV9j3AMi",
      "include_colab_link": true
    },
    "kernelspec": {
      "name": "python3",
      "display_name": "Python 3"
    },
    "language_info": {
      "name": "python"
    }
  },
  "cells": [
    {
      "cell_type": "markdown",
      "metadata": {
        "id": "view-in-github",
        "colab_type": "text"
      },
      "source": [
        "<a href=\"https://colab.research.google.com/github/stp511/HealthPredictionProject2/blob/main/Draft4_StevenPhillips_Project2_Part4_StrokePredictions.ipynb\" target=\"_parent\"><img src=\"https://colab.research.google.com/assets/colab-badge.svg\" alt=\"Open In Colab\"/></a>"
      ]
    },
    {
      "cell_type": "markdown",
      "source": [
        "# **Project 2 Part 4 - Stroke Predictions**\n",
        "- **Steven Phillips**\n",
        "- November 28, 2022\n",
        "\n",
        "The goal of this project will be to use the data set and create a best model for predicting the presence of stroke in patients.  "
      ],
      "metadata": {
        "id": "XAHuLTCOZsR-"
      }
    },
    {
      "cell_type": "markdown",
      "source": [
        "## **Import Libraries, Load, Copy and Explore Data**\n"
      ],
      "metadata": {
        "id": "PX9sd5dCZ8YZ"
      }
    },
    {
      "cell_type": "code",
      "source": [
        "#import seaborn, matplotlib and the pandas and numpy library\n",
        "import pandas as pd\n",
        "import numpy as np\n",
        "import matplotlib.pyplot as plt\n",
        "import seaborn as sns\n",
        "\n",
        "# feature engineering, pipelines, and preprocessing\n",
        "from sklearn.model_selection import train_test_split, GridSearchCV\n",
        "from sklearn.preprocessing import StandardScaler, OneHotEncoder\n",
        "from sklearn.pipeline import make_pipeline\n",
        "from sklearn.impute import SimpleImputer\n",
        "from sklearn.compose import make_column_transformer, make_column_selector\n",
        "from sklearn.decomposition import PCA\n",
        "\n",
        "# metrics\n",
        "from sklearn.metrics import  precision_score, recall_score, accuracy_score, f1_score, \\\n",
        "       confusion_matrix, ConfusionMatrixDisplay, classification_report\n",
        "\n",
        "# models\n",
        "from sklearn.tree import DecisionTreeClassifier\n",
        "from sklearn.neighbors import KNeighborsClassifier\n",
        "from sklearn.linear_model import LogisticRegression\n",
        "from sklearn.ensemble import GradientBoostingClassifier, BaggingClassifier, RandomForestClassifier\n",
        "from lightgbm import LGBMClassifier\n",
        "from xgboost import XGBClassifier"
      ],
      "metadata": {
        "id": "eZSJgu88aHSS"
      },
      "execution_count": 175,
      "outputs": []
    },
    {
      "cell_type": "code",
      "source": [
        "#mount data\n",
        "from google.colab import drive\n",
        "drive.mount('/content/drive')"
      ],
      "metadata": {
        "colab": {
          "base_uri": "https://localhost:8080/"
        },
        "id": "H5UyT7cqaPRs",
        "outputId": "4c6839d0-d7d6-486e-c049-554b2e92a8b3"
      },
      "execution_count": 2,
      "outputs": [
        {
          "output_type": "stream",
          "name": "stdout",
          "text": [
            "Mounted at /content/drive\n"
          ]
        }
      ]
    },
    {
      "cell_type": "code",
      "source": [
        "#Load the data for Stroke Prediction Data Set csv file as a data frame, copy the data frame and present the first five rows\n",
        "filename = '/content/healthcare-dataset-stroke-data.csv'\n",
        "df = pd.read_csv(filename)\n",
        "df_ml = df.copy()\n",
        "df_ml.head()"
      ],
      "metadata": {
        "colab": {
          "base_uri": "https://localhost:8080/",
          "height": 305
        },
        "id": "gdCv1SdwaV-w",
        "outputId": "d41be1ed-e893-4b2a-c009-3a613f5d8c45"
      },
      "execution_count": 3,
      "outputs": [
        {
          "output_type": "execute_result",
          "data": {
            "text/plain": [
              "      id  gender   age  hypertension  heart_disease ever_married  \\\n",
              "0   9046    Male  67.0             0              1          Yes   \n",
              "1  51676  Female  61.0             0              0          Yes   \n",
              "2  31112    Male  80.0             0              1          Yes   \n",
              "3  60182  Female  49.0             0              0          Yes   \n",
              "4   1665  Female  79.0             1              0          Yes   \n",
              "\n",
              "       work_type Residence_type  avg_glucose_level   bmi   smoking_status  \\\n",
              "0        Private          Urban             228.69  36.6  formerly smoked   \n",
              "1  Self-employed          Rural             202.21   NaN     never smoked   \n",
              "2        Private          Rural             105.92  32.5     never smoked   \n",
              "3        Private          Urban             171.23  34.4           smokes   \n",
              "4  Self-employed          Rural             174.12  24.0     never smoked   \n",
              "\n",
              "   stroke  \n",
              "0       1  \n",
              "1       1  \n",
              "2       1  \n",
              "3       1  \n",
              "4       1  "
            ],
            "text/html": [
              "\n",
              "  <div id=\"df-d95a107a-c49e-439f-a232-e23b4dcb647c\">\n",
              "    <div class=\"colab-df-container\">\n",
              "      <div>\n",
              "<style scoped>\n",
              "    .dataframe tbody tr th:only-of-type {\n",
              "        vertical-align: middle;\n",
              "    }\n",
              "\n",
              "    .dataframe tbody tr th {\n",
              "        vertical-align: top;\n",
              "    }\n",
              "\n",
              "    .dataframe thead th {\n",
              "        text-align: right;\n",
              "    }\n",
              "</style>\n",
              "<table border=\"1\" class=\"dataframe\">\n",
              "  <thead>\n",
              "    <tr style=\"text-align: right;\">\n",
              "      <th></th>\n",
              "      <th>id</th>\n",
              "      <th>gender</th>\n",
              "      <th>age</th>\n",
              "      <th>hypertension</th>\n",
              "      <th>heart_disease</th>\n",
              "      <th>ever_married</th>\n",
              "      <th>work_type</th>\n",
              "      <th>Residence_type</th>\n",
              "      <th>avg_glucose_level</th>\n",
              "      <th>bmi</th>\n",
              "      <th>smoking_status</th>\n",
              "      <th>stroke</th>\n",
              "    </tr>\n",
              "  </thead>\n",
              "  <tbody>\n",
              "    <tr>\n",
              "      <th>0</th>\n",
              "      <td>9046</td>\n",
              "      <td>Male</td>\n",
              "      <td>67.0</td>\n",
              "      <td>0</td>\n",
              "      <td>1</td>\n",
              "      <td>Yes</td>\n",
              "      <td>Private</td>\n",
              "      <td>Urban</td>\n",
              "      <td>228.69</td>\n",
              "      <td>36.6</td>\n",
              "      <td>formerly smoked</td>\n",
              "      <td>1</td>\n",
              "    </tr>\n",
              "    <tr>\n",
              "      <th>1</th>\n",
              "      <td>51676</td>\n",
              "      <td>Female</td>\n",
              "      <td>61.0</td>\n",
              "      <td>0</td>\n",
              "      <td>0</td>\n",
              "      <td>Yes</td>\n",
              "      <td>Self-employed</td>\n",
              "      <td>Rural</td>\n",
              "      <td>202.21</td>\n",
              "      <td>NaN</td>\n",
              "      <td>never smoked</td>\n",
              "      <td>1</td>\n",
              "    </tr>\n",
              "    <tr>\n",
              "      <th>2</th>\n",
              "      <td>31112</td>\n",
              "      <td>Male</td>\n",
              "      <td>80.0</td>\n",
              "      <td>0</td>\n",
              "      <td>1</td>\n",
              "      <td>Yes</td>\n",
              "      <td>Private</td>\n",
              "      <td>Rural</td>\n",
              "      <td>105.92</td>\n",
              "      <td>32.5</td>\n",
              "      <td>never smoked</td>\n",
              "      <td>1</td>\n",
              "    </tr>\n",
              "    <tr>\n",
              "      <th>3</th>\n",
              "      <td>60182</td>\n",
              "      <td>Female</td>\n",
              "      <td>49.0</td>\n",
              "      <td>0</td>\n",
              "      <td>0</td>\n",
              "      <td>Yes</td>\n",
              "      <td>Private</td>\n",
              "      <td>Urban</td>\n",
              "      <td>171.23</td>\n",
              "      <td>34.4</td>\n",
              "      <td>smokes</td>\n",
              "      <td>1</td>\n",
              "    </tr>\n",
              "    <tr>\n",
              "      <th>4</th>\n",
              "      <td>1665</td>\n",
              "      <td>Female</td>\n",
              "      <td>79.0</td>\n",
              "      <td>1</td>\n",
              "      <td>0</td>\n",
              "      <td>Yes</td>\n",
              "      <td>Self-employed</td>\n",
              "      <td>Rural</td>\n",
              "      <td>174.12</td>\n",
              "      <td>24.0</td>\n",
              "      <td>never smoked</td>\n",
              "      <td>1</td>\n",
              "    </tr>\n",
              "  </tbody>\n",
              "</table>\n",
              "</div>\n",
              "      <button class=\"colab-df-convert\" onclick=\"convertToInteractive('df-d95a107a-c49e-439f-a232-e23b4dcb647c')\"\n",
              "              title=\"Convert this dataframe to an interactive table.\"\n",
              "              style=\"display:none;\">\n",
              "        \n",
              "  <svg xmlns=\"http://www.w3.org/2000/svg\" height=\"24px\"viewBox=\"0 0 24 24\"\n",
              "       width=\"24px\">\n",
              "    <path d=\"M0 0h24v24H0V0z\" fill=\"none\"/>\n",
              "    <path d=\"M18.56 5.44l.94 2.06.94-2.06 2.06-.94-2.06-.94-.94-2.06-.94 2.06-2.06.94zm-11 1L8.5 8.5l.94-2.06 2.06-.94-2.06-.94L8.5 2.5l-.94 2.06-2.06.94zm10 10l.94 2.06.94-2.06 2.06-.94-2.06-.94-.94-2.06-.94 2.06-2.06.94z\"/><path d=\"M17.41 7.96l-1.37-1.37c-.4-.4-.92-.59-1.43-.59-.52 0-1.04.2-1.43.59L10.3 9.45l-7.72 7.72c-.78.78-.78 2.05 0 2.83L4 21.41c.39.39.9.59 1.41.59.51 0 1.02-.2 1.41-.59l7.78-7.78 2.81-2.81c.8-.78.8-2.07 0-2.86zM5.41 20L4 18.59l7.72-7.72 1.47 1.35L5.41 20z\"/>\n",
              "  </svg>\n",
              "      </button>\n",
              "      \n",
              "  <style>\n",
              "    .colab-df-container {\n",
              "      display:flex;\n",
              "      flex-wrap:wrap;\n",
              "      gap: 12px;\n",
              "    }\n",
              "\n",
              "    .colab-df-convert {\n",
              "      background-color: #E8F0FE;\n",
              "      border: none;\n",
              "      border-radius: 50%;\n",
              "      cursor: pointer;\n",
              "      display: none;\n",
              "      fill: #1967D2;\n",
              "      height: 32px;\n",
              "      padding: 0 0 0 0;\n",
              "      width: 32px;\n",
              "    }\n",
              "\n",
              "    .colab-df-convert:hover {\n",
              "      background-color: #E2EBFA;\n",
              "      box-shadow: 0px 1px 2px rgba(60, 64, 67, 0.3), 0px 1px 3px 1px rgba(60, 64, 67, 0.15);\n",
              "      fill: #174EA6;\n",
              "    }\n",
              "\n",
              "    [theme=dark] .colab-df-convert {\n",
              "      background-color: #3B4455;\n",
              "      fill: #D2E3FC;\n",
              "    }\n",
              "\n",
              "    [theme=dark] .colab-df-convert:hover {\n",
              "      background-color: #434B5C;\n",
              "      box-shadow: 0px 1px 3px 1px rgba(0, 0, 0, 0.15);\n",
              "      filter: drop-shadow(0px 1px 2px rgba(0, 0, 0, 0.3));\n",
              "      fill: #FFFFFF;\n",
              "    }\n",
              "  </style>\n",
              "\n",
              "      <script>\n",
              "        const buttonEl =\n",
              "          document.querySelector('#df-d95a107a-c49e-439f-a232-e23b4dcb647c button.colab-df-convert');\n",
              "        buttonEl.style.display =\n",
              "          google.colab.kernel.accessAllowed ? 'block' : 'none';\n",
              "\n",
              "        async function convertToInteractive(key) {\n",
              "          const element = document.querySelector('#df-d95a107a-c49e-439f-a232-e23b4dcb647c');\n",
              "          const dataTable =\n",
              "            await google.colab.kernel.invokeFunction('convertToInteractive',\n",
              "                                                     [key], {});\n",
              "          if (!dataTable) return;\n",
              "\n",
              "          const docLinkHtml = 'Like what you see? Visit the ' +\n",
              "            '<a target=\"_blank\" href=https://colab.research.google.com/notebooks/data_table.ipynb>data table notebook</a>'\n",
              "            + ' to learn more about interactive tables.';\n",
              "          element.innerHTML = '';\n",
              "          dataTable['output_type'] = 'display_data';\n",
              "          await google.colab.output.renderOutput(dataTable, element);\n",
              "          const docLink = document.createElement('div');\n",
              "          docLink.innerHTML = docLinkHtml;\n",
              "          element.appendChild(docLink);\n",
              "        }\n",
              "      </script>\n",
              "    </div>\n",
              "  </div>\n",
              "  "
            ]
          },
          "metadata": {},
          "execution_count": 3
        }
      ]
    },
    {
      "cell_type": "markdown",
      "source": [
        "## **Project 2 - Part 1 Questions**\n",
        "\n",
        "1. Source of Data\n",
        "2. Brief description of data\n",
        "3. What is the target?\n",
        "4. What does one row represent?\n",
        "5. Is this a regression or classification problem?\n",
        "6. How many features does the data have?\n",
        "7. How many rows in the data set?\n",
        "8. What, if any, challenges do you foresee in cleaning, exploring, or modeling with this dataset?"
      ],
      "metadata": {
        "id": "aGyomfWibdhX"
      }
    },
    {
      "cell_type": "markdown",
      "source": [
        "### **1. Source of data**"
      ],
      "metadata": {
        "id": "fBk9VDf4bieb"
      }
    },
    {
      "cell_type": "markdown",
      "source": [
        "1. The source of this data is the Kaggle website and here is the link:\n",
        "\n",
        "https://www.kaggle.com/datasets/fedesoriano/stroke-prediction-dataset"
      ],
      "metadata": {
        "id": "dSwUiY0WcnqA"
      }
    },
    {
      "cell_type": "markdown",
      "source": [
        "### **2. Brief description of data**\n",
        "\n",
        "\"This dataset is used to predict whether a patient is likely to get stroke based on the input parameters like gender, age, various diseases, and smoking status. Each row in the data provides relavant information about the patient.\" \n",
        "\n",
        "Source: https://www.kaggle.com/datasets/fedesoriano/stroke-prediction-dataset"
      ],
      "metadata": {
        "id": "F2TsawIOdNBh"
      }
    },
    {
      "cell_type": "markdown",
      "source": [
        "### **3. What is the target?**\n",
        "\n",
        "The target for this data set will be the 'stroke' feature.  Specifically, whether or not each patient had a stroke."
      ],
      "metadata": {
        "id": "6CwvMaJ6dg3D"
      }
    },
    {
      "cell_type": "markdown",
      "source": [
        "### **4. What does one row represent?**\n",
        "\n",
        "Each row represents a patient from the study."
      ],
      "metadata": {
        "id": "YmEBkZLydybj"
      }
    },
    {
      "cell_type": "markdown",
      "source": [
        "### **5. Is this a regression or a classification problem?**\n",
        "\n",
        "The model will predict the stroke feature, which is a binary classification problem, 'stroke' or 'no stroke'."
      ],
      "metadata": {
        "id": "Y3tkAv_Md6vc"
      }
    },
    {
      "cell_type": "markdown",
      "source": [
        "### **6. How many features does the data have?**\n",
        "\n",
        "The data comes with 12 features, as seen in the first five rows of the data frame above.  However, the first feature, essentially the patient id, will not be used in modeling.  So there will be 10 features, including a mix of categorical and numerical, to choose from and one target feature."
      ],
      "metadata": {
        "id": "pQOBh0UteP-b"
      }
    },
    {
      "cell_type": "markdown",
      "source": [
        "### **7. How many rows in the data set?**\n",
        "\n",
        "There are 5,110 observations or rows."
      ],
      "metadata": {
        "id": "7S3RkpA8epGg"
      }
    },
    {
      "cell_type": "code",
      "source": [
        "# shape of the data  (rows, columns)\n",
        "df_ml.shape"
      ],
      "metadata": {
        "colab": {
          "base_uri": "https://localhost:8080/"
        },
        "id": "XFMvHjfWeu9X",
        "outputId": "f31d08fd-f276-4b5f-bb78-1c096a64bfe7"
      },
      "execution_count": 4,
      "outputs": [
        {
          "output_type": "execute_result",
          "data": {
            "text/plain": [
              "(5110, 12)"
            ]
          },
          "metadata": {},
          "execution_count": 4
        }
      ]
    },
    {
      "cell_type": "markdown",
      "source": [
        "### **8. What, if any, challenges do you foresee in cleaning, exploring, or modeling with this dataset?**\n",
        "\n",
        "There are a few issues that present challenges.  Choosing the best classification model will be a challenge.  Initially, cleaning the data set will have issues including dealing with missing entries from the bmi feature and checking the naming is consistent for the object data type features."
      ],
      "metadata": {
        "id": "4r4RGW9bez53"
      }
    },
    {
      "cell_type": "code",
      "source": [
        "# missing data by feature\n",
        "df_ml.isna().sum()"
      ],
      "metadata": {
        "colab": {
          "base_uri": "https://localhost:8080/"
        },
        "id": "UwmhJ8zCfJ31",
        "outputId": "f0d0b110-3f4f-4950-9f6b-a7c9580ba724"
      },
      "execution_count": 5,
      "outputs": [
        {
          "output_type": "execute_result",
          "data": {
            "text/plain": [
              "id                     0\n",
              "gender                 0\n",
              "age                    0\n",
              "hypertension           0\n",
              "heart_disease          0\n",
              "ever_married           0\n",
              "work_type              0\n",
              "Residence_type         0\n",
              "avg_glucose_level      0\n",
              "bmi                  201\n",
              "smoking_status         0\n",
              "stroke                 0\n",
              "dtype: int64"
            ]
          },
          "metadata": {},
          "execution_count": 5
        }
      ]
    },
    {
      "cell_type": "markdown",
      "source": [
        "## **Project 2 - Part 2 Clean and Explore the Data Set**"
      ],
      "metadata": {
        "id": "vlE9NAaeskI3"
      }
    },
    {
      "cell_type": "markdown",
      "source": [
        "## **Data Cleaning**"
      ],
      "metadata": {
        "id": "lDDtjgpWa4R7"
      }
    },
    {
      "cell_type": "markdown",
      "source": [
        "**Be sure to address:**\n",
        "- delete unnecessary columns\n",
        "- delete duplicate rows\n",
        "- identify and address missing values\n",
        "- identify and correct inconsistencies in data for categorical values\n"
      ],
      "metadata": {
        "id": "zJFlIuPe45Lk"
      }
    },
    {
      "cell_type": "code",
      "source": [
        "# check number of unique values by feature\n",
        "df_ml.nunique()"
      ],
      "metadata": {
        "colab": {
          "base_uri": "https://localhost:8080/"
        },
        "id": "wc5-mvTOtS9r",
        "outputId": "cff4ed88-8244-4bfe-f68e-31221a523f85"
      },
      "execution_count": 6,
      "outputs": [
        {
          "output_type": "execute_result",
          "data": {
            "text/plain": [
              "id                   5110\n",
              "gender                  3\n",
              "age                   104\n",
              "hypertension            2\n",
              "heart_disease           2\n",
              "ever_married            2\n",
              "work_type               5\n",
              "Residence_type          2\n",
              "avg_glucose_level    3979\n",
              "bmi                   418\n",
              "smoking_status          4\n",
              "stroke                  2\n",
              "dtype: int64"
            ]
          },
          "metadata": {},
          "execution_count": 6
        }
      ]
    },
    {
      "cell_type": "markdown",
      "source": [
        "### **'id' unnecessary for analysis and will be dropped here:**"
      ],
      "metadata": {
        "id": "fAZtI5i16iha"
      }
    },
    {
      "cell_type": "code",
      "source": [
        "# drop 'id' feature\n",
        "df_ml = df_ml.drop(columns = ['id'])\n"
      ],
      "metadata": {
        "id": "hZLX0MHG5t1R"
      },
      "execution_count": 7,
      "outputs": []
    },
    {
      "cell_type": "markdown",
      "source": [
        "### **No duplicated rows to address:**"
      ],
      "metadata": {
        "id": "L2e1VdPj6r8G"
      }
    },
    {
      "cell_type": "code",
      "source": [
        "# check for duplicate rows\n",
        "df_ml.duplicated().sum()"
      ],
      "metadata": {
        "colab": {
          "base_uri": "https://localhost:8080/"
        },
        "id": "0Sc_f2_r6sTj",
        "outputId": "52c7c961-6846-4336-e16d-5407cce199a2"
      },
      "execution_count": 8,
      "outputs": [
        {
          "output_type": "execute_result",
          "data": {
            "text/plain": [
              "0"
            ]
          },
          "metadata": {},
          "execution_count": 8
        }
      ]
    },
    {
      "cell_type": "markdown",
      "source": [
        "### **Check for missing values:**"
      ],
      "metadata": {
        "id": "jOVEh9cj7IQ8"
      }
    },
    {
      "cell_type": "code",
      "source": [
        "df_ml.isna().sum()"
      ],
      "metadata": {
        "colab": {
          "base_uri": "https://localhost:8080/"
        },
        "id": "WGjVxJbA7Iq-",
        "outputId": "bd79a048-7f84-434d-ebb4-17a28874c5eb"
      },
      "execution_count": 9,
      "outputs": [
        {
          "output_type": "execute_result",
          "data": {
            "text/plain": [
              "gender                 0\n",
              "age                    0\n",
              "hypertension           0\n",
              "heart_disease          0\n",
              "ever_married           0\n",
              "work_type              0\n",
              "Residence_type         0\n",
              "avg_glucose_level      0\n",
              "bmi                  201\n",
              "smoking_status         0\n",
              "stroke                 0\n",
              "dtype: int64"
            ]
          },
          "metadata": {},
          "execution_count": 9
        }
      ]
    },
    {
      "cell_type": "markdown",
      "source": [
        "### **'bmi' missing 201 values:**"
      ],
      "metadata": {
        "id": "1k1NWyuV78XU"
      }
    },
    {
      "cell_type": "markdown",
      "source": [
        "Impute the mean bmi into the 201 missing values.\n",
        "**Imputing will occur later during preprocessing.**"
      ],
      "metadata": {
        "id": "2rSIHQVq-izJ"
      }
    },
    {
      "cell_type": "code",
      "source": [
        "# calculate the mean 'bmi' and impute into the missing values\n",
        "# mean_bmi = df_ml['bmi'].mean()\n",
        "# df_ml['bmi'].fillna(mean_bmi, inplace=True)\n",
        "# df_ml.isna().sum()"
      ],
      "metadata": {
        "id": "B_-Z8giD-SEe"
      },
      "execution_count": 10,
      "outputs": []
    },
    {
      "cell_type": "code",
      "source": [
        "# df_ml.info()"
      ],
      "metadata": {
        "id": "X2lpruuf_FqD"
      },
      "execution_count": 11,
      "outputs": []
    },
    {
      "cell_type": "code",
      "source": [
        "# Check categories for inconsistencies\n",
        "\n",
        "for col in df_ml.select_dtypes('object'):\n",
        "  print(f'{df_ml[col].value_counts()} \\n')"
      ],
      "metadata": {
        "colab": {
          "base_uri": "https://localhost:8080/"
        },
        "id": "mKdkvvfS_aGh",
        "outputId": "b7180a6c-779a-4366-f002-2d9e26db6487"
      },
      "execution_count": 12,
      "outputs": [
        {
          "output_type": "stream",
          "name": "stdout",
          "text": [
            "Female    2994\n",
            "Male      2115\n",
            "Other        1\n",
            "Name: gender, dtype: int64 \n",
            "\n",
            "Yes    3353\n",
            "No     1757\n",
            "Name: ever_married, dtype: int64 \n",
            "\n",
            "Private          2925\n",
            "Self-employed     819\n",
            "children          687\n",
            "Govt_job          657\n",
            "Never_worked       22\n",
            "Name: work_type, dtype: int64 \n",
            "\n",
            "Urban    2596\n",
            "Rural    2514\n",
            "Name: Residence_type, dtype: int64 \n",
            "\n",
            "never smoked       1892\n",
            "Unknown            1544\n",
            "formerly smoked     885\n",
            "smokes              789\n",
            "Name: smoking_status, dtype: int64 \n",
            "\n"
          ]
        }
      ]
    },
    {
      "cell_type": "code",
      "source": [
        "# drop the single row containing 'gender' value = 'Other' \n",
        "df_ml = df_ml[df_ml.gender != 'Other']"
      ],
      "metadata": {
        "id": "_1rKuVfmw9DR"
      },
      "execution_count": 13,
      "outputs": []
    },
    {
      "cell_type": "code",
      "source": [
        "# df_ml.info()"
      ],
      "metadata": {
        "id": "Jh0TH4Bp1NVz"
      },
      "execution_count": 14,
      "outputs": []
    },
    {
      "cell_type": "markdown",
      "source": [
        "## **Exploratory Visuals**"
      ],
      "metadata": {
        "id": "5QfmOx1aa9fM"
      }
    },
    {
      "cell_type": "markdown",
      "source": [
        "- produce univariate visuals for the target and all features\n",
        "- identify outliers"
      ],
      "metadata": {
        "id": "1thsOylm5G0g"
      }
    },
    {
      "cell_type": "markdown",
      "source": [
        "### **'stroke'**"
      ],
      "metadata": {
        "id": "p5D-byjlPRou"
      }
    },
    {
      "cell_type": "code",
      "source": [
        "#create a 'stroke' counts bar graph\n",
        "stroke_counts = df_ml['stroke'].value_counts().sort_values()\n",
        "\n",
        "# Plot the counts of each stroke level\n",
        "\n",
        "stroke_counts.plot(kind = 'barh')\n",
        "plt.title('Stroke Counts', fontsize = 25)\n",
        "plt.ylabel('Stroke', fontsize = 15)\n",
        "plt.xlabel('Count', fontsize = 15)\n",
        "\n",
        "#Show the figure\n",
        "plt.show();"
      ],
      "metadata": {
        "colab": {
          "base_uri": "https://localhost:8080/",
          "height": 0
        },
        "id": "h9RxJTNkRynz",
        "outputId": "da7edae9-8b36-4acb-de69-5c8f9d23546f"
      },
      "execution_count": 15,
      "outputs": [
        {
          "output_type": "display_data",
          "data": {
            "text/plain": [
              "<Figure size 432x288 with 1 Axes>"
            ],
            "image/png": "[encoded data removed]"
          },
          "metadata": {
            "needs_background": "light"
          }
        }
      ]
    },
    {
      "cell_type": "markdown",
      "source": [
        "### **'gender'**"
      ],
      "metadata": {
        "id": "ZBx818KmPR22"
      }
    },
    {
      "cell_type": "code",
      "source": [
        "#create a 'gender' counts bar graph\n",
        "gender_counts = df_ml['gender'].value_counts().sort_values()\n",
        "\n",
        "# Plot the counts of each gender level\n",
        "\n",
        "gender_counts.plot(kind = 'barh')\n",
        "plt.title('Gender Counts', fontsize = 25)\n",
        "plt.ylabel('Gender', fontsize = 15)\n",
        "plt.xlabel('Count', fontsize = 15)\n",
        "\n",
        "#Show the figure\n",
        "plt.show();"
      ],
      "metadata": {
        "colab": {
          "base_uri": "https://localhost:8080/",
          "height": 0
        },
        "id": "Oee7MIUuSV8f",
        "outputId": "9ff67731-6170-4bad-f37f-5d1fa3d49fea"
      },
      "execution_count": 16,
      "outputs": [
        {
          "output_type": "display_data",
          "data": {
            "text/plain": [
              "<Figure size 432x288 with 1 Axes>"
            ],
            "image/png": "[encoded data removed]"
          },
          "metadata": {
            "needs_background": "light"
          }
        }
      ]
    },
    {
      "cell_type": "markdown",
      "source": [
        "### **'ever-married'**"
      ],
      "metadata": {
        "id": "djIzMa81PTPk"
      }
    },
    {
      "cell_type": "code",
      "source": [
        "#create a 'ever_married' counts bar graph\n",
        "marriage_counts = df_ml['ever_married'].value_counts().sort_values()\n",
        "\n",
        "# Plot the counts of each marriage level\n",
        "\n",
        "marriage_counts.plot(kind = 'barh')\n",
        "plt.title('Ever Married Counts', fontsize = 25)\n",
        "plt.ylabel('Ever Married', fontsize = 15)\n",
        "plt.xlabel('Count', fontsize = 15)\n",
        "\n",
        "#Show the figure\n",
        "plt.show();"
      ],
      "metadata": {
        "colab": {
          "base_uri": "https://localhost:8080/",
          "height": 0
        },
        "id": "rS5xyUkQSgEl",
        "outputId": "1ecaba8a-477f-47fb-adde-3a436a51df8f"
      },
      "execution_count": 17,
      "outputs": [
        {
          "output_type": "display_data",
          "data": {
            "text/plain": [
              "<Figure size 432x288 with 1 Axes>"
            ],
            "image/png": "[encoded data removed]"
          },
          "metadata": {
            "needs_background": "light"
          }
        }
      ]
    },
    {
      "cell_type": "markdown",
      "source": [
        "### **'work_type'**"
      ],
      "metadata": {
        "id": "hYnKf27SPTX7"
      }
    },
    {
      "cell_type": "code",
      "source": [
        "#create a 'work_type' counts bar graph\n",
        "work_counts = df_ml['work_type'].value_counts().sort_values()\n",
        "\n",
        "# Plot the counts of each work type level\n",
        "\n",
        "work_counts.plot(kind = 'barh')\n",
        "plt.title('Work Counts', fontsize = 25)\n",
        "plt.ylabel('Work', fontsize = 15)\n",
        "plt.xlabel('Count', fontsize = 15)\n",
        "\n",
        "#Show the figure\n",
        "plt.show();"
      ],
      "metadata": {
        "colab": {
          "base_uri": "https://localhost:8080/",
          "height": 0
        },
        "id": "QspOPuGGS4q8",
        "outputId": "fc5a9b94-e7d3-4171-8541-3d08231acb9d"
      },
      "execution_count": 18,
      "outputs": [
        {
          "output_type": "display_data",
          "data": {
            "text/plain": [
              "<Figure size 432x288 with 1 Axes>"
            ],
            "image/png": "[encoded data removed]"
          },
          "metadata": {
            "needs_background": "light"
          }
        }
      ]
    },
    {
      "cell_type": "markdown",
      "source": [
        "### **'Residence_type'**"
      ],
      "metadata": {
        "id": "ave7K6j6PThB"
      }
    },
    {
      "cell_type": "code",
      "source": [
        "#create a 'residence_type' counts bar graph\n",
        "residence_counts = df_ml['Residence_type'].value_counts().sort_values()\n",
        "\n",
        "# Plot the counts of each residence type level\n",
        "\n",
        "residence_counts.plot(kind = 'barh')\n",
        "plt.title('Residence Counts', fontsize = 25)\n",
        "plt.ylabel('Residence', fontsize = 15)\n",
        "plt.xlabel('Count', fontsize = 15)\n",
        "\n",
        "#Show the figure\n",
        "plt.show();"
      ],
      "metadata": {
        "colab": {
          "base_uri": "https://localhost:8080/",
          "height": 0
        },
        "id": "6lqo3v98TjFK",
        "outputId": "bdd861b0-a501-4979-82ec-395004966bcf"
      },
      "execution_count": 19,
      "outputs": [
        {
          "output_type": "display_data",
          "data": {
            "text/plain": [
              "<Figure size 432x288 with 1 Axes>"
            ],
            "image/png": "[encoded data removed]"
          },
          "metadata": {
            "needs_background": "light"
          }
        }
      ]
    },
    {
      "cell_type": "markdown",
      "source": [
        "### **'smoking_status'**"
      ],
      "metadata": {
        "id": "nPEIbAtVPTos"
      }
    },
    {
      "cell_type": "code",
      "source": [
        "#create a 'smoking_status' counts bar graph\n",
        "smoking_counts = df_ml['smoking_status'].value_counts().sort_values()\n",
        "\n",
        "# Plot the counts of each smoking status level\n",
        "\n",
        "smoking_counts.plot(kind = 'barh')\n",
        "plt.title('Smoking Status Counts', fontsize = 25)\n",
        "plt.ylabel('Smoking', fontsize = 15)\n",
        "plt.xlabel('Count', fontsize = 15)\n",
        "\n",
        "#Show the figure\n",
        "plt.show();"
      ],
      "metadata": {
        "colab": {
          "base_uri": "https://localhost:8080/",
          "height": 0
        },
        "id": "gqmSZJ7NTwoK",
        "outputId": "b7fc7b28-013f-4b80-ec47-99181fc8d631"
      },
      "execution_count": 20,
      "outputs": [
        {
          "output_type": "display_data",
          "data": {
            "text/plain": [
              "<Figure size 432x288 with 1 Axes>"
            ],
            "image/png": "[encoded data removed]"
          },
          "metadata": {
            "needs_background": "light"
          }
        }
      ]
    },
    {
      "cell_type": "markdown",
      "source": [
        "### **'heart_disease'**"
      ],
      "metadata": {
        "id": "SXYOqxUkPTvT"
      }
    },
    {
      "cell_type": "code",
      "source": [
        "#create a 'heart_disease' counts bar graph\n",
        "heartdisease_counts = df_ml['heart_disease'].value_counts().sort_values()\n",
        "\n",
        "# Plot the counts of each heart disease level\n",
        "\n",
        "heartdisease_counts.plot(kind = 'barh')\n",
        "plt.title('Heart Disease Counts', fontsize = 25)\n",
        "plt.ylabel('Heart Disease', fontsize = 15)\n",
        "plt.xlabel('Count', fontsize = 15)\n",
        "\n",
        "#Show the figure\n",
        "plt.show();"
      ],
      "metadata": {
        "colab": {
          "base_uri": "https://localhost:8080/",
          "height": 0
        },
        "id": "OZW-Pp6LUBzS",
        "outputId": "717e3294-ae8c-47bf-d79d-8935b1f266de"
      },
      "execution_count": 21,
      "outputs": [
        {
          "output_type": "display_data",
          "data": {
            "text/plain": [
              "<Figure size 432x288 with 1 Axes>"
            ],
            "image/png": "[encoded data removed]"
          },
          "metadata": {
            "needs_background": "light"
          }
        }
      ]
    },
    {
      "cell_type": "markdown",
      "source": [
        "### **'hypertension'**"
      ],
      "metadata": {
        "id": "8DkB0C-fPT1L"
      }
    },
    {
      "cell_type": "code",
      "source": [
        "#create a 'hypertension' counts bar graph\n",
        "hypertension_counts = df_ml['hypertension'].value_counts().sort_values()\n",
        "\n",
        "# Plot the counts of each heart disease level\n",
        "\n",
        "hypertension_counts.plot(kind = 'barh')\n",
        "plt.title('Hypertension Counts', fontsize = 25)\n",
        "plt.ylabel('Hypertension', fontsize = 15)\n",
        "plt.xlabel('Count', fontsize = 15)\n",
        "\n",
        "#Show the figure\n",
        "plt.show();"
      ],
      "metadata": {
        "colab": {
          "base_uri": "https://localhost:8080/",
          "height": 0
        },
        "id": "jFScoC6zZCup",
        "outputId": "c258a5db-8948-44f3-ed74-5fa9b40a7b7d"
      },
      "execution_count": 22,
      "outputs": [
        {
          "output_type": "display_data",
          "data": {
            "text/plain": [
              "<Figure size 432x288 with 1 Axes>"
            ],
            "image/png": "[encoded data removed]"
          },
          "metadata": {
            "needs_background": "light"
          }
        }
      ]
    },
    {
      "cell_type": "markdown",
      "source": [
        "### **'age'**"
      ],
      "metadata": {
        "id": "ujeDXpp3PT-e"
      }
    },
    {
      "cell_type": "code",
      "source": [
        "## histogram of ages\n",
        "plt.figure(figsize = (8,4))\n",
        "plt.hist(df_ml['age'], bins = 'auto')\n",
        "\n",
        "## including the median Age\n",
        "median_age = df_ml['age'].median().round(2)\n",
        "\n",
        "## titling and labeling\n",
        "plt.xlabel('Age', fontsize = 15)\n",
        "plt.ylabel('Count', fontsize = 15)\n",
        "plt.title('Distribution of Ages', fontsize = 25)\n",
        "\n",
        "plt.axvline(median_age, color = 'black', linestyle = '--', label = f'Median Age is {median_age}')\n",
        "plt.legend();"
      ],
      "metadata": {
        "colab": {
          "base_uri": "https://localhost:8080/",
          "height": 0
        },
        "id": "_I4hhgDTZYUq",
        "outputId": "4a421e8e-ac29-4634-f5c7-3c74d323e4ef"
      },
      "execution_count": 23,
      "outputs": [
        {
          "output_type": "display_data",
          "data": {
            "text/plain": [
              "<Figure size 576x288 with 1 Axes>"
            ],
            "image/png": "[encoded data removed]"
          },
          "metadata": {
            "needs_background": "light"
          }
        }
      ]
    },
    {
      "cell_type": "markdown",
      "source": [
        "The histogram above is displaying the distribution of the 'age' variable.  The distribution is somewhate uniform with a few small peaks in values, and with ages ranging from very young (close to newborns) all the way to individuals just over 80, and with a median age of 45."
      ],
      "metadata": {
        "id": "MTXWxcnxWq8Z"
      }
    },
    {
      "cell_type": "markdown",
      "source": [
        "### **'bmi'**"
      ],
      "metadata": {
        "id": "sgFOgTNpP3dI"
      }
    },
    {
      "cell_type": "code",
      "source": [
        "## histogram of bmi\n",
        "plt.figure(figsize = (8,4))\n",
        "plt.hist(df_ml['bmi'], bins = 'auto')\n",
        "\n",
        "## including the median Age\n",
        "median_bmi = df_ml['bmi'].median().round(2)\n",
        "\n",
        "## titling and labeling\n",
        "plt.xlabel('BMI', fontsize = 15)\n",
        "plt.ylabel('Count', fontsize = 15)\n",
        "plt.title('Distribution of BMI', fontsize = 25)\n",
        "\n",
        "plt.axvline(median_bmi, color = 'black', linestyle = '--', label = f'Median BMI is {median_bmi}')\n",
        "plt.legend();"
      ],
      "metadata": {
        "colab": {
          "base_uri": "https://localhost:8080/",
          "height": 0
        },
        "id": "gHWbUYj3ZsRO",
        "outputId": "b4e68261-9a82-4384-e3f1-7bdf4419ed4d"
      },
      "execution_count": 24,
      "outputs": [
        {
          "output_type": "display_data",
          "data": {
            "text/plain": [
              "<Figure size 576x288 with 1 Axes>"
            ],
            "image/png": "[encoded data removed]"
          },
          "metadata": {
            "needs_background": "light"
          }
        }
      ]
    },
    {
      "cell_type": "markdown",
      "source": [
        "The histogram above is displaying the distribution of the 'bmi' variable.  The distribution is fairly symmetric except for several larger outliers."
      ],
      "metadata": {
        "id": "kQYQj4h9a0Ix"
      }
    },
    {
      "cell_type": "markdown",
      "source": [
        "### **'avg_glucose_level'**"
      ],
      "metadata": {
        "id": "01Jq9hv2PUCD"
      }
    },
    {
      "cell_type": "code",
      "source": [
        "## histogram of Average Glucose Level\n",
        "plt.figure(figsize = (8,4))\n",
        "plt.hist(df_ml['avg_glucose_level'], bins = 'auto')\n",
        "\n",
        "## including the median Age\n",
        "median_agl = df_ml['avg_glucose_level'].median().round(2)\n",
        "\n",
        "## titling and labeling\n",
        "plt.xlabel('Average Glucose Level', fontsize = 15)\n",
        "plt.ylabel('Count', fontsize = 15)\n",
        "plt.title('Distribution of Average Glucose Levels', fontsize = 25)\n",
        "\n",
        "plt.axvline(median_agl, color = 'black', linestyle = '--', label = f'Median Average Glucose Level is {median_agl}')\n",
        "plt.legend();"
      ],
      "metadata": {
        "colab": {
          "base_uri": "https://localhost:8080/",
          "height": 0
        },
        "id": "2IFUjg5rZ8uV",
        "outputId": "f23e826e-57ee-470f-df99-5721e91dfbf5"
      },
      "execution_count": 25,
      "outputs": [
        {
          "output_type": "display_data",
          "data": {
            "text/plain": [
              "<Figure size 576x288 with 1 Axes>"
            ],
            "image/png": "[encoded data removed]"
          },
          "metadata": {
            "needs_background": "light"
          }
        }
      ]
    },
    {
      "cell_type": "markdown",
      "source": [
        "The histogram above is displaying the distribution of the 'avg_glucose_level' variable.  The distribution is not symmetric, and has some skewness to the right.  The median is below 100 and the maximum value is above 250."
      ],
      "metadata": {
        "id": "SJwxEnoaWHw4"
      }
    },
    {
      "cell_type": "code",
      "source": [
        "df.hist(bins=30, figsize=(20,10));"
      ],
      "metadata": {
        "colab": {
          "base_uri": "https://localhost:8080/",
          "height": 0
        },
        "id": "WJZg8aL2a8HM",
        "outputId": "36af115d-466d-4ad7-8254-b6c43487bb5f"
      },
      "execution_count": 26,
      "outputs": [
        {
          "output_type": "display_data",
          "data": {
            "text/plain": [
              "<Figure size 1440x720 with 9 Axes>"
            ],
            "image/png": "[encoded data removed]"
          },
          "metadata": {
            "needs_background": "light"
          }
        }
      ]
    },
    {
      "cell_type": "markdown",
      "source": [
        "### **Check for outliers in 'avg-glucose_level', 'bmi', and 'ages'**"
      ],
      "metadata": {
        "id": "GqxrF72WMIob"
      }
    },
    {
      "cell_type": "markdown",
      "source": [
        "#### **.describe() for initial investigation**"
      ],
      "metadata": {
        "id": "h5q9HWGYO9Y-"
      }
    },
    {
      "cell_type": "code",
      "source": [
        "# common summary statistics\n",
        "df_ml.describe(include = 'all').round(4)"
      ],
      "metadata": {
        "colab": {
          "base_uri": "https://localhost:8080/",
          "height": 0
        },
        "id": "2EqHFS_LMch2",
        "outputId": "94206333-f3da-4f56-d575-c1b8742bcdab"
      },
      "execution_count": 27,
      "outputs": [
        {
          "output_type": "execute_result",
          "data": {
            "text/plain": [
              "        gender        age  hypertension  heart_disease ever_married work_type  \\\n",
              "count     5109  5109.0000     5109.0000      5109.0000         5109      5109   \n",
              "unique       2        NaN           NaN            NaN            2         5   \n",
              "top     Female        NaN           NaN            NaN          Yes   Private   \n",
              "freq      2994        NaN           NaN            NaN         3353      2924   \n",
              "mean       NaN    43.2300        0.0975         0.0540          NaN       NaN   \n",
              "std        NaN    22.6136        0.2966         0.2261          NaN       NaN   \n",
              "min        NaN     0.0800        0.0000         0.0000          NaN       NaN   \n",
              "25%        NaN    25.0000        0.0000         0.0000          NaN       NaN   \n",
              "50%        NaN    45.0000        0.0000         0.0000          NaN       NaN   \n",
              "75%        NaN    61.0000        0.0000         0.0000          NaN       NaN   \n",
              "max        NaN    82.0000        1.0000         1.0000          NaN       NaN   \n",
              "\n",
              "       Residence_type  avg_glucose_level        bmi smoking_status     stroke  \n",
              "count            5109          5109.0000  4908.0000           5109  5109.0000  \n",
              "unique              2                NaN        NaN              4        NaN  \n",
              "top             Urban                NaN        NaN   never smoked        NaN  \n",
              "freq             2596                NaN        NaN           1892        NaN  \n",
              "mean              NaN           106.1404    28.8946            NaN     0.0487  \n",
              "std               NaN            45.2850     7.8543            NaN     0.2153  \n",
              "min               NaN            55.1200    10.3000            NaN     0.0000  \n",
              "25%               NaN            77.2400    23.5000            NaN     0.0000  \n",
              "50%               NaN            91.8800    28.1000            NaN     0.0000  \n",
              "75%               NaN           114.0900    33.1000            NaN     0.0000  \n",
              "max               NaN           271.7400    97.6000            NaN     1.0000  "
            ],
            "text/html": [
              "\n",
              "  <div id=\"df-4610bdd5-b62a-4bef-a649-1cc4ec7eea7d\">\n",
              "    <div class=\"colab-df-container\">\n",
              "      <div>\n",
              "<style scoped>\n",
              "    .dataframe tbody tr th:only-of-type {\n",
              "        vertical-align: middle;\n",
              "    }\n",
              "\n",
              "    .dataframe tbody tr th {\n",
              "        vertical-align: top;\n",
              "    }\n",
              "\n",
              "    .dataframe thead th {\n",
              "        text-align: right;\n",
              "    }\n",
              "</style>\n",
              "<table border=\"1\" class=\"dataframe\">\n",
              "  <thead>\n",
              "    <tr style=\"text-align: right;\">\n",
              "      <th></th>\n",
              "      <th>gender</th>\n",
              "      <th>age</th>\n",
              "      <th>hypertension</th>\n",
              "      <th>heart_disease</th>\n",
              "      <th>ever_married</th>\n",
              "      <th>work_type</th>\n",
              "      <th>Residence_type</th>\n",
              "      <th>avg_glucose_level</th>\n",
              "      <th>bmi</th>\n",
              "      <th>smoking_status</th>\n",
              "      <th>stroke</th>\n",
              "    </tr>\n",
              "  </thead>\n",
              "  <tbody>\n",
              "    <tr>\n",
              "      <th>count</th>\n",
              "      <td>5109</td>\n",
              "      <td>5109.0000</td>\n",
              "      <td>5109.0000</td>\n",
              "      <td>5109.0000</td>\n",
              "      <td>5109</td>\n",
              "      <td>5109</td>\n",
              "      <td>5109</td>\n",
              "      <td>5109.0000</td>\n",
              "      <td>4908.0000</td>\n",
              "      <td>5109</td>\n",
              "      <td>5109.0000</td>\n",
              "    </tr>\n",
              "    <tr>\n",
              "      <th>unique</th>\n",
              "      <td>2</td>\n",
              "      <td>NaN</td>\n",
              "      <td>NaN</td>\n",
              "      <td>NaN</td>\n",
              "      <td>2</td>\n",
              "      <td>5</td>\n",
              "      <td>2</td>\n",
              "      <td>NaN</td>\n",
              "      <td>NaN</td>\n",
              "      <td>4</td>\n",
              "      <td>NaN</td>\n",
              "    </tr>\n",
              "    <tr>\n",
              "      <th>top</th>\n",
              "      <td>Female</td>\n",
              "      <td>NaN</td>\n",
              "      <td>NaN</td>\n",
              "      <td>NaN</td>\n",
              "      <td>Yes</td>\n",
              "      <td>Private</td>\n",
              "      <td>Urban</td>\n",
              "      <td>NaN</td>\n",
              "      <td>NaN</td>\n",
              "      <td>never smoked</td>\n",
              "      <td>NaN</td>\n",
              "    </tr>\n",
              "    <tr>\n",
              "      <th>freq</th>\n",
              "      <td>2994</td>\n",
              "      <td>NaN</td>\n",
              "      <td>NaN</td>\n",
              "      <td>NaN</td>\n",
              "      <td>3353</td>\n",
              "      <td>2924</td>\n",
              "      <td>2596</td>\n",
              "      <td>NaN</td>\n",
              "      <td>NaN</td>\n",
              "      <td>1892</td>\n",
              "      <td>NaN</td>\n",
              "    </tr>\n",
              "    <tr>\n",
              "      <th>mean</th>\n",
              "      <td>NaN</td>\n",
              "      <td>43.2300</td>\n",
              "      <td>0.0975</td>\n",
              "      <td>0.0540</td>\n",
              "      <td>NaN</td>\n",
              "      <td>NaN</td>\n",
              "      <td>NaN</td>\n",
              "      <td>106.1404</td>\n",
              "      <td>28.8946</td>\n",
              "      <td>NaN</td>\n",
              "      <td>0.0487</td>\n",
              "    </tr>\n",
              "    <tr>\n",
              "      <th>std</th>\n",
              "      <td>NaN</td>\n",
              "      <td>22.6136</td>\n",
              "      <td>0.2966</td>\n",
              "      <td>0.2261</td>\n",
              "      <td>NaN</td>\n",
              "      <td>NaN</td>\n",
              "      <td>NaN</td>\n",
              "      <td>45.2850</td>\n",
              "      <td>7.8543</td>\n",
              "      <td>NaN</td>\n",
              "      <td>0.2153</td>\n",
              "    </tr>\n",
              "    <tr>\n",
              "      <th>min</th>\n",
              "      <td>NaN</td>\n",
              "      <td>0.0800</td>\n",
              "      <td>0.0000</td>\n",
              "      <td>0.0000</td>\n",
              "      <td>NaN</td>\n",
              "      <td>NaN</td>\n",
              "      <td>NaN</td>\n",
              "      <td>55.1200</td>\n",
              "      <td>10.3000</td>\n",
              "      <td>NaN</td>\n",
              "      <td>0.0000</td>\n",
              "    </tr>\n",
              "    <tr>\n",
              "      <th>25%</th>\n",
              "      <td>NaN</td>\n",
              "      <td>25.0000</td>\n",
              "      <td>0.0000</td>\n",
              "      <td>0.0000</td>\n",
              "      <td>NaN</td>\n",
              "      <td>NaN</td>\n",
              "      <td>NaN</td>\n",
              "      <td>77.2400</td>\n",
              "      <td>23.5000</td>\n",
              "      <td>NaN</td>\n",
              "      <td>0.0000</td>\n",
              "    </tr>\n",
              "    <tr>\n",
              "      <th>50%</th>\n",
              "      <td>NaN</td>\n",
              "      <td>45.0000</td>\n",
              "      <td>0.0000</td>\n",
              "      <td>0.0000</td>\n",
              "      <td>NaN</td>\n",
              "      <td>NaN</td>\n",
              "      <td>NaN</td>\n",
              "      <td>91.8800</td>\n",
              "      <td>28.1000</td>\n",
              "      <td>NaN</td>\n",
              "      <td>0.0000</td>\n",
              "    </tr>\n",
              "    <tr>\n",
              "      <th>75%</th>\n",
              "      <td>NaN</td>\n",
              "      <td>61.0000</td>\n",
              "      <td>0.0000</td>\n",
              "      <td>0.0000</td>\n",
              "      <td>NaN</td>\n",
              "      <td>NaN</td>\n",
              "      <td>NaN</td>\n",
              "      <td>114.0900</td>\n",
              "      <td>33.1000</td>\n",
              "      <td>NaN</td>\n",
              "      <td>0.0000</td>\n",
              "    </tr>\n",
              "    <tr>\n",
              "      <th>max</th>\n",
              "      <td>NaN</td>\n",
              "      <td>82.0000</td>\n",
              "      <td>1.0000</td>\n",
              "      <td>1.0000</td>\n",
              "      <td>NaN</td>\n",
              "      <td>NaN</td>\n",
              "      <td>NaN</td>\n",
              "      <td>271.7400</td>\n",
              "      <td>97.6000</td>\n",
              "      <td>NaN</td>\n",
              "      <td>1.0000</td>\n",
              "    </tr>\n",
              "  </tbody>\n",
              "</table>\n",
              "</div>\n",
              "      <button class=\"colab-df-convert\" onclick=\"convertToInteractive('df-4610bdd5-b62a-4bef-a649-1cc4ec7eea7d')\"\n",
              "              title=\"Convert this dataframe to an interactive table.\"\n",
              "              style=\"display:none;\">\n",
              "        \n",
              "  <svg xmlns=\"http://www.w3.org/2000/svg\" height=\"24px\"viewBox=\"0 0 24 24\"\n",
              "       width=\"24px\">\n",
              "    <path d=\"M0 0h24v24H0V0z\" fill=\"none\"/>\n",
              "    <path d=\"M18.56 5.44l.94 2.06.94-2.06 2.06-.94-2.06-.94-.94-2.06-.94 2.06-2.06.94zm-11 1L8.5 8.5l.94-2.06 2.06-.94-2.06-.94L8.5 2.5l-.94 2.06-2.06.94zm10 10l.94 2.06.94-2.06 2.06-.94-2.06-.94-.94-2.06-.94 2.06-2.06.94z\"/><path d=\"M17.41 7.96l-1.37-1.37c-.4-.4-.92-.59-1.43-.59-.52 0-1.04.2-1.43.59L10.3 9.45l-7.72 7.72c-.78.78-.78 2.05 0 2.83L4 21.41c.39.39.9.59 1.41.59.51 0 1.02-.2 1.41-.59l7.78-7.78 2.81-2.81c.8-.78.8-2.07 0-2.86zM5.41 20L4 18.59l7.72-7.72 1.47 1.35L5.41 20z\"/>\n",
              "  </svg>\n",
              "      </button>\n",
              "      \n",
              "  <style>\n",
              "    .colab-df-container {\n",
              "      display:flex;\n",
              "      flex-wrap:wrap;\n",
              "      gap: 12px;\n",
              "    }\n",
              "\n",
              "    .colab-df-convert {\n",
              "      background-color: #E8F0FE;\n",
              "      border: none;\n",
              "      border-radius: 50%;\n",
              "      cursor: pointer;\n",
              "      display: none;\n",
              "      fill: #1967D2;\n",
              "      height: 32px;\n",
              "      padding: 0 0 0 0;\n",
              "      width: 32px;\n",
              "    }\n",
              "\n",
              "    .colab-df-convert:hover {\n",
              "      background-color: #E2EBFA;\n",
              "      box-shadow: 0px 1px 2px rgba(60, 64, 67, 0.3), 0px 1px 3px 1px rgba(60, 64, 67, 0.15);\n",
              "      fill: #174EA6;\n",
              "    }\n",
              "\n",
              "    [theme=dark] .colab-df-convert {\n",
              "      background-color: #3B4455;\n",
              "      fill: #D2E3FC;\n",
              "    }\n",
              "\n",
              "    [theme=dark] .colab-df-convert:hover {\n",
              "      background-color: #434B5C;\n",
              "      box-shadow: 0px 1px 3px 1px rgba(0, 0, 0, 0.15);\n",
              "      filter: drop-shadow(0px 1px 2px rgba(0, 0, 0, 0.3));\n",
              "      fill: #FFFFFF;\n",
              "    }\n",
              "  </style>\n",
              "\n",
              "      <script>\n",
              "        const buttonEl =\n",
              "          document.querySelector('#df-4610bdd5-b62a-4bef-a649-1cc4ec7eea7d button.colab-df-convert');\n",
              "        buttonEl.style.display =\n",
              "          google.colab.kernel.accessAllowed ? 'block' : 'none';\n",
              "\n",
              "        async function convertToInteractive(key) {\n",
              "          const element = document.querySelector('#df-4610bdd5-b62a-4bef-a649-1cc4ec7eea7d');\n",
              "          const dataTable =\n",
              "            await google.colab.kernel.invokeFunction('convertToInteractive',\n",
              "                                                     [key], {});\n",
              "          if (!dataTable) return;\n",
              "\n",
              "          const docLinkHtml = 'Like what you see? Visit the ' +\n",
              "            '<a target=\"_blank\" href=https://colab.research.google.com/notebooks/data_table.ipynb>data table notebook</a>'\n",
              "            + ' to learn more about interactive tables.';\n",
              "          element.innerHTML = '';\n",
              "          dataTable['output_type'] = 'display_data';\n",
              "          await google.colab.output.renderOutput(dataTable, element);\n",
              "          const docLink = document.createElement('div');\n",
              "          docLink.innerHTML = docLinkHtml;\n",
              "          element.appendChild(docLink);\n",
              "        }\n",
              "      </script>\n",
              "    </div>\n",
              "  </div>\n",
              "  "
            ]
          },
          "metadata": {},
          "execution_count": 27
        }
      ]
    },
    {
      "cell_type": "markdown",
      "source": [
        "### **Boxplots showing the outliers in the numerical columns:**"
      ],
      "metadata": {
        "id": "YDvAQOVYO4p8"
      }
    },
    {
      "cell_type": "code",
      "source": [
        "df_ml.boxplot(column = 'age');"
      ],
      "metadata": {
        "colab": {
          "base_uri": "https://localhost:8080/",
          "height": 0
        },
        "id": "JWuwkYvGNTi6",
        "outputId": "627edcb5-7953-4ce8-f0a3-dff066b5a629"
      },
      "execution_count": 28,
      "outputs": [
        {
          "output_type": "display_data",
          "data": {
            "text/plain": [
              "<Figure size 432x288 with 1 Axes>"
            ],
            "image/png": "[encoded data removed]"
          },
          "metadata": {
            "needs_background": "light"
          }
        }
      ]
    },
    {
      "cell_type": "markdown",
      "source": [
        "No outliers in the 'Age' column."
      ],
      "metadata": {
        "id": "wa2lmeITS8sE"
      }
    },
    {
      "cell_type": "code",
      "source": [
        "df_ml.boxplot(column = 'avg_glucose_level');"
      ],
      "metadata": {
        "colab": {
          "base_uri": "https://localhost:8080/",
          "height": 0
        },
        "id": "G1O1b2xaOdE-",
        "outputId": "380f3985-0670-439a-c3a8-17b6a9f48618"
      },
      "execution_count": 29,
      "outputs": [
        {
          "output_type": "display_data",
          "data": {
            "text/plain": [
              "<Figure size 432x288 with 1 Axes>"
            ],
            "image/png": "[encoded data removed]"
          },
          "metadata": {
            "needs_background": "light"
          }
        }
      ]
    },
    {
      "cell_type": "markdown",
      "source": [
        "Many outliers in the 'avg_glucose_level' column."
      ],
      "metadata": {
        "id": "6DfvweUeS_ey"
      }
    },
    {
      "cell_type": "code",
      "source": [
        "df_ml.boxplot(column = 'bmi',);"
      ],
      "metadata": {
        "colab": {
          "base_uri": "https://localhost:8080/",
          "height": 0
        },
        "id": "cCdeDtqOOu_3",
        "outputId": "fceb1885-b344-45bd-bd7c-51a9fcf8516c"
      },
      "execution_count": 30,
      "outputs": [
        {
          "output_type": "display_data",
          "data": {
            "text/plain": [
              "<Figure size 432x288 with 1 Axes>"
            ],
            "image/png": "[encoded data removed]"
          },
          "metadata": {
            "needs_background": "light"
          }
        }
      ]
    },
    {
      "cell_type": "markdown",
      "source": [
        "Several outliers in the 'bmi' values."
      ],
      "metadata": {
        "id": "IQmK6tZsTET9"
      }
    },
    {
      "cell_type": "markdown",
      "source": [
        "The following function was adapted from https://careerfoundry.com/en/blog/data-analytics/how-to-find-outliers/"
      ],
      "metadata": {
        "id": "6jfXAaeTTTeR"
      }
    },
    {
      "cell_type": "code",
      "source": [
        "#create a function to find outliers using IQR\n",
        "\n",
        "def find_outliers_IQR(df):\n",
        "\n",
        "   q1=df.quantile(0.25)\n",
        "\n",
        "   q3=df.quantile(0.75)\n",
        "\n",
        "   IQR=q3-q1\n",
        "   print(f'The first quartile is: {q1:.2f}.')\n",
        "   print(f'The third quartile is: {q3:.2f}.')\n",
        "   print(f'The upper fence is {(q3+1.5*IQR):.02f}.')\n",
        "   print(f'The lower fence is {(q1 - 1.5*IQR):.02f}.')\n",
        "\n",
        "   outliers = df[((df<(q1-1.5*IQR)) | (df>(q3+1.5*IQR)))]\n",
        "\n",
        "   return outliers"
      ],
      "metadata": {
        "id": "wfaRe8c4TT44"
      },
      "execution_count": 31,
      "outputs": []
    },
    {
      "cell_type": "markdown",
      "source": [
        "### Outlier information for 'bmi' column."
      ],
      "metadata": {
        "id": "BfBZUXBPTYzH"
      }
    },
    {
      "cell_type": "code",
      "source": [
        "outliers = find_outliers_IQR(df_ml['bmi'])\n",
        "\n",
        "print('number of outliers: ' + str(len(outliers)))\n",
        "\n",
        "print('max outlier value: ' + str(outliers.max()))\n",
        "\n",
        "print('min outlier value: ' + str(outliers.min()))"
      ],
      "metadata": {
        "colab": {
          "base_uri": "https://localhost:8080/"
        },
        "id": "fl2uiP8LTYOm",
        "outputId": "9ebc0a6a-ce0d-4d45-988e-409e16a0fc07"
      },
      "execution_count": 32,
      "outputs": [
        {
          "output_type": "stream",
          "name": "stdout",
          "text": [
            "The first quartile is: 23.50.\n",
            "The third quartile is: 33.10.\n",
            "The upper fence is 47.50.\n",
            "The lower fence is 9.10.\n",
            "number of outliers: 110\n",
            "max outlier value: 97.6\n",
            "min outlier value: 47.6\n"
          ]
        }
      ]
    },
    {
      "cell_type": "markdown",
      "source": [
        "### Outlier information for 'avg_glucose_level' column."
      ],
      "metadata": {
        "id": "uBxnV_DoTaVl"
      }
    },
    {
      "cell_type": "code",
      "source": [
        "outliers = find_outliers_IQR(df_ml['avg_glucose_level'])\n",
        "\n",
        "print('number of outliers: ' + str(len(outliers)))\n",
        "\n",
        "print('max outlier value: ' + str(outliers.max()))\n",
        "\n",
        "print('min outlier value: ' + str(outliers.min()))"
      ],
      "metadata": {
        "colab": {
          "base_uri": "https://localhost:8080/"
        },
        "id": "xm2l5v7zTajk",
        "outputId": "8998ce3b-5ccb-450c-da25-eda4da0bcf40"
      },
      "execution_count": 33,
      "outputs": [
        {
          "output_type": "stream",
          "name": "stdout",
          "text": [
            "The first quartile is: 77.24.\n",
            "The third quartile is: 114.09.\n",
            "The upper fence is 169.37.\n",
            "The lower fence is 21.96.\n",
            "number of outliers: 627\n",
            "max outlier value: 271.74\n",
            "min outlier value: 169.43\n"
          ]
        }
      ]
    },
    {
      "cell_type": "markdown",
      "source": [
        "### Outlier information for 'age' column."
      ],
      "metadata": {
        "id": "5q5YRrG1Taxu"
      }
    },
    {
      "cell_type": "code",
      "source": [
        "outliers = find_outliers_IQR(df_ml['age'])\n",
        "\n",
        "print('number of outliers: ' + str(len(outliers)))\n",
        "\n",
        "print('max outlier value: ' + str(outliers.max()))\n",
        "\n",
        "print('min outlier value: ' + str(outliers.min()))"
      ],
      "metadata": {
        "colab": {
          "base_uri": "https://localhost:8080/"
        },
        "id": "8awHIjIUTa8E",
        "outputId": "442bf103-5b5d-44a6-ee3e-019ad9530184"
      },
      "execution_count": 34,
      "outputs": [
        {
          "output_type": "stream",
          "name": "stdout",
          "text": [
            "The first quartile is: 25.00.\n",
            "The third quartile is: 61.00.\n",
            "The upper fence is 115.00.\n",
            "The lower fence is -29.00.\n",
            "number of outliers: 0\n",
            "max outlier value: nan\n",
            "min outlier value: nan\n"
          ]
        }
      ]
    },
    {
      "cell_type": "markdown",
      "source": [
        "## **Project 2 - Part 3 Tasks:**"
      ],
      "metadata": {
        "id": "T5jGOm6XC5aY"
      }
    },
    {
      "cell_type": "markdown",
      "source": [
        "### **1. Identify any moderate or strong correlations between your target and your features and/or between one feature and another using a correlation heatmap.**"
      ],
      "metadata": {
        "id": "YsBiTdrhDDp3"
      }
    },
    {
      "cell_type": "code",
      "source": [
        "# create the correlations\n",
        "corr = df_ml.corr()\n",
        "\n",
        "# plot the correlations created above in a heatmap\n",
        "sns.heatmap(corr, cmap = 'Greens', annot = True);\n"
      ],
      "metadata": {
        "colab": {
          "base_uri": "https://localhost:8080/",
          "height": 0
        },
        "id": "8emPN7NtD5eZ",
        "outputId": "3fc433dd-b579-440a-8245-f62c88d31e4c"
      },
      "execution_count": 35,
      "outputs": [
        {
          "output_type": "display_data",
          "data": {
            "text/plain": [
              "<Figure size 432x288 with 2 Axes>"
            ],
            "image/png": "[encoded data removed]"
          },
          "metadata": {
            "needs_background": "light"
          }
        }
      ]
    },
    {
      "cell_type": "markdown",
      "source": [
        "There are no moderate or strong correlations between the target 'stroke' with any other feature.  The largest correlation value including the 'stroke' target is the correlation of 0.25 with 'age'.  However, the largest correlation value between any two features is 0.33 between the 'age' and 'bmi' features.  This is still not a moderate or strong correlation."
      ],
      "metadata": {
        "id": "iSTogVEsF4f5"
      }
    },
    {
      "cell_type": "markdown",
      "source": [
        "### **2. Create multivariate (multiple variables) exploratory visualizations to further understand your data and search for trends.**"
      ],
      "metadata": {
        "id": "1SYhZiHaHD-D"
      }
    },
    {
      "cell_type": "code",
      "source": [
        "## create a side by side boxplot of 'bmi' across 'stroke'\n",
        "no_stroke_label = df_ml.loc[df['stroke']== 0, 'bmi'].values\n",
        "stroke_label = df_ml.loc[df['stroke']== 1, 'bmi'].values\n",
        "plt.boxplot([no_stroke_label, stroke_label], labels = ['No Stroke', 'Stroke']);\n",
        "\n"
      ],
      "metadata": {
        "colab": {
          "base_uri": "https://localhost:8080/",
          "height": 0
        },
        "id": "GBjFz1G2HarZ",
        "outputId": "48c08cf0-0da9-4a82-cbce-cbf52073bbaf"
      },
      "execution_count": 36,
      "outputs": [
        {
          "output_type": "stream",
          "name": "stderr",
          "text": [
            "/usr/local/lib/python3.7/dist-packages/matplotlib/cbook/__init__.py:1376: VisibleDeprecationWarning: Creating an ndarray from ragged nested sequences (which is a list-or-tuple of lists-or-tuples-or ndarrays with different lengths or shapes) is deprecated. If you meant to do this, you must specify 'dtype=object' when creating the ndarray.\n",
            "  X = np.atleast_1d(X.T if isinstance(X, np.ndarray) else np.asarray(X))\n"
          ]
        },
        {
          "output_type": "display_data",
          "data": {
            "text/plain": [
              "<Figure size 432x288 with 1 Axes>"
            ],
            "image/png": "[encoded data removed]"
          },
          "metadata": {
            "needs_background": "light"
          }
        }
      ]
    },
    {
      "cell_type": "markdown",
      "source": [
        "The distribution of 'bmi' of individuals with stroke is less spread out than the distribution of 'bmi' of individuals without stroke."
      ],
      "metadata": {
        "id": "dKDIsAK2f3y8"
      }
    },
    {
      "cell_type": "code",
      "source": [
        "## create a side by side boxplot of 'avg_glucose_level' across 'stroke'\n",
        "no_stroke_label = df_ml.loc[df['stroke']== 0, 'avg_glucose_level'].values\n",
        "stroke_label = df_ml.loc[df['stroke']== 1, 'avg_glucose_level'].values\n",
        "plt.boxplot([no_stroke_label, stroke_label], labels = ['No Stroke', 'Stroke']);"
      ],
      "metadata": {
        "colab": {
          "base_uri": "https://localhost:8080/",
          "height": 0
        },
        "id": "zbSCuESjSF60",
        "outputId": "c11681aa-e48c-421b-87d3-5279ae82c2d6"
      },
      "execution_count": 37,
      "outputs": [
        {
          "output_type": "stream",
          "name": "stderr",
          "text": [
            "/usr/local/lib/python3.7/dist-packages/matplotlib/cbook/__init__.py:1376: VisibleDeprecationWarning: Creating an ndarray from ragged nested sequences (which is a list-or-tuple of lists-or-tuples-or ndarrays with different lengths or shapes) is deprecated. If you meant to do this, you must specify 'dtype=object' when creating the ndarray.\n",
            "  X = np.atleast_1d(X.T if isinstance(X, np.ndarray) else np.asarray(X))\n"
          ]
        },
        {
          "output_type": "display_data",
          "data": {
            "text/plain": [
              "<Figure size 432x288 with 1 Axes>"
            ],
            "image/png": "[encoded data removed]"
          },
          "metadata": {
            "needs_background": "light"
          }
        }
      ]
    },
    {
      "cell_type": "markdown",
      "source": [
        "The distribution of 'avg_glucose_level' of individuals with stroke is more spread out than the distribution of 'avg_glucose_level' of individuals without stroke."
      ],
      "metadata": {
        "id": "5SHhxVPRgLhq"
      }
    },
    {
      "cell_type": "code",
      "source": [
        "## create a side by side boxplot of 'age' across 'stroke'\n",
        "no_stroke_label = df_ml.loc[df['stroke']== 0, 'age'].values\n",
        "stroke_label = df_ml.loc[df['stroke']== 1, 'age'].values\n",
        "plt.boxplot([no_stroke_label, stroke_label], labels = ['No Stroke', 'Stroke']);"
      ],
      "metadata": {
        "colab": {
          "base_uri": "https://localhost:8080/",
          "height": 0
        },
        "id": "T8yJp-DaSmeK",
        "outputId": "f4f89102-1d6f-4834-9d82-4b4162b54ae0"
      },
      "execution_count": 38,
      "outputs": [
        {
          "output_type": "stream",
          "name": "stderr",
          "text": [
            "/usr/local/lib/python3.7/dist-packages/matplotlib/cbook/__init__.py:1376: VisibleDeprecationWarning: Creating an ndarray from ragged nested sequences (which is a list-or-tuple of lists-or-tuples-or ndarrays with different lengths or shapes) is deprecated. If you meant to do this, you must specify 'dtype=object' when creating the ndarray.\n",
            "  X = np.atleast_1d(X.T if isinstance(X, np.ndarray) else np.asarray(X))\n"
          ]
        },
        {
          "output_type": "display_data",
          "data": {
            "text/plain": [
              "<Figure size 432x288 with 1 Axes>"
            ],
            "image/png": "[encoded data removed]"
          },
          "metadata": {
            "needs_background": "light"
          }
        }
      ]
    },
    {
      "cell_type": "markdown",
      "source": [
        "The distribution of 'age' of individuals with stroke is less spread out than the distribution of 'age' of individuals without stroke.  Overall, the values of the 'age' distribution are higher for those with stroke."
      ],
      "metadata": {
        "id": "L5F2_b9ZgacC"
      }
    },
    {
      "cell_type": "code",
      "source": [
        "## producing a scatterplot of 'age'' with 'bmi'\n",
        "age_corr = df_ml['age'].values\n",
        "bmi_corr = df_ml['bmi'].values\n",
        "# stroke_corr = df['stroke'].values\n",
        "\n",
        "plt.scatter(bmi_corr, age_corr)\n",
        "\n",
        "## titles and labels\n",
        "plt.title('Scatterplot of Age and BMI', fontsize = 20)\n",
        "plt.ylabel('BMI', fontsize = 15)\n",
        "plt.xlabel('Age', fontsize = 15);\n"
      ],
      "metadata": {
        "colab": {
          "base_uri": "https://localhost:8080/",
          "height": 0
        },
        "id": "tTBL_J-BTpQt",
        "outputId": "acf82c0f-e968-400b-8576-e2cad58826dc"
      },
      "execution_count": 39,
      "outputs": [
        {
          "output_type": "display_data",
          "data": {
            "text/plain": [
              "<Figure size 432x288 with 1 Axes>"
            ],
            "image/png": "[encoded data removed]"
          },
          "metadata": {
            "needs_background": "light"
          }
        }
      ]
    },
    {
      "cell_type": "markdown",
      "source": [
        "The correlation of 'age' and 'bmi' from the heatpmap earlier was 0.33.  This scatterplot supports that there does not appear to be a linear association between these two features. "
      ],
      "metadata": {
        "id": "lsmwZzfw8r4H"
      }
    },
    {
      "cell_type": "code",
      "source": [
        "## producing a scatterplot of 'ave_glucose_level'' with 'bmi'\n",
        "avg_corr = df['avg_glucose_level'].values\n",
        "bmi_corr = df['bmi'].values\n",
        "\n",
        "plt.scatter(avg_corr, bmi_corr, c = 'k')\n",
        "\n",
        "## titles and labels\n",
        "plt.title('Scatterplot of Average Glucose Level and BMI', fontsize = 20)\n",
        "plt.ylabel('Average Glucose Level', fontsize = 15)\n",
        "plt.xlabel('BMI', fontsize = 15);\n"
      ],
      "metadata": {
        "colab": {
          "base_uri": "https://localhost:8080/",
          "height": 0
        },
        "id": "9RtVWFdpUNsz",
        "outputId": "019f68dc-06f9-4562-a9e5-7260c49754f2"
      },
      "execution_count": 40,
      "outputs": [
        {
          "output_type": "display_data",
          "data": {
            "text/plain": [
              "<Figure size 432x288 with 1 Axes>"
            ],
            "image/png": "[encoded data removed]"
          },
          "metadata": {
            "needs_background": "light"
          }
        }
      ]
    },
    {
      "cell_type": "markdown",
      "source": [
        "The correlation of 'average glucose' and 'bmi' from the heatpmap earlier was 0.17.  This scatterplot supports that there does not appear to be a linear association between these two features."
      ],
      "metadata": {
        "id": "FHuFDX9T9-hv"
      }
    },
    {
      "cell_type": "markdown",
      "source": [
        "The following is a grouped bar chart exploring the 'hypertension' and 'stroke' features together.  There is an increased percentage of stroke incidence with the presence of hypertension."
      ],
      "metadata": {
        "id": "UBQxJA4hric8"
      }
    },
    {
      "cell_type": "code",
      "source": [
        "\n",
        "x,y = 'hypertension', 'stroke'\n",
        "\n",
        "(df_ml\n",
        ".groupby(x)[y]\n",
        ".value_counts(normalize=True)\n",
        ".mul(100)\n",
        ".rename('percent')\n",
        ".reset_index()\n",
        ".pipe((sns.catplot,'data'), x=x,y='percent',hue=y,kind='bar'));"
      ],
      "metadata": {
        "colab": {
          "base_uri": "https://localhost:8080/",
          "height": 0
        },
        "id": "rfBxOuUt9rg3",
        "outputId": "c839cd71-b19a-4cc7-d60b-c702f12f08b4"
      },
      "execution_count": 41,
      "outputs": [
        {
          "output_type": "display_data",
          "data": {
            "text/plain": [
              "<Figure size 402.375x360 with 1 Axes>"
            ],
            "image/png": "[encoded data removed]"
          },
          "metadata": {
            "needs_background": "light"
          }
        }
      ]
    },
    {
      "cell_type": "markdown",
      "source": [
        "The following is a grouped bar chart exploring the 'heart disease' and 'stroke' features together.  There is an increased percentage of stroke incidence with the presence of heart disease."
      ],
      "metadata": {
        "id": "kX_X7xpg-HJk"
      }
    },
    {
      "cell_type": "code",
      "source": [
        "x,y = 'heart_disease', 'stroke'\n",
        "\n",
        "(df_ml\n",
        ".groupby(x)[y]\n",
        ".value_counts(normalize=True)\n",
        ".mul(100)\n",
        ".rename('percent')\n",
        ".reset_index()\n",
        ".pipe((sns.catplot,'data'), x=x,y='percent',hue=y,kind='bar'));"
      ],
      "metadata": {
        "colab": {
          "base_uri": "https://localhost:8080/",
          "height": 0
        },
        "id": "euebwz1d-GF2",
        "outputId": "e952445c-a9e1-44a1-e041-43bc7a3e7262"
      },
      "execution_count": 42,
      "outputs": [
        {
          "output_type": "display_data",
          "data": {
            "text/plain": [
              "<Figure size 402.375x360 with 1 Axes>"
            ],
            "image/png": "[encoded data removed]"
          },
          "metadata": {
            "needs_background": "light"
          }
        }
      ]
    },
    {
      "cell_type": "markdown",
      "source": [
        "The following is a grouped bar chart exploring the 'ever married' and 'stroke' features together.  There is an increased percentage of stroke incidence with the presence of marriage."
      ],
      "metadata": {
        "id": "A-EEVwhN-ncp"
      }
    },
    {
      "cell_type": "code",
      "source": [
        "x,y = 'ever_married', 'stroke'\n",
        "\n",
        "(df_ml\n",
        ".groupby(x)[y]\n",
        ".value_counts(normalize=True)\n",
        ".mul(100)\n",
        ".rename('percent')\n",
        ".reset_index()\n",
        ".pipe((sns.catplot,'data'), x=x,y='percent',hue=y,kind='bar'));"
      ],
      "metadata": {
        "colab": {
          "base_uri": "https://localhost:8080/",
          "height": 0
        },
        "id": "7S9VSJtQwSuz",
        "outputId": "32f53995-40cb-4fa3-f0d9-1b0495591c2c"
      },
      "execution_count": 43,
      "outputs": [
        {
          "output_type": "display_data",
          "data": {
            "text/plain": [
              "<Figure size 402.375x360 with 1 Axes>"
            ],
            "image/png": "[encoded data removed]"
          },
          "metadata": {
            "needs_background": "light"
          }
        }
      ]
    },
    {
      "cell_type": "markdown",
      "source": [
        "The following is a grouped bar chart exploring the 'work_type' and 'stroke' features together.  There is an increased percentage of stroke incidence for those self-employed over other types of work."
      ],
      "metadata": {
        "id": "uQk_KKJO-vwq"
      }
    },
    {
      "cell_type": "code",
      "source": [
        "x,y = 'work_type', 'stroke'\n",
        "\n",
        "(df_ml\n",
        ".groupby(x)[y]\n",
        ".value_counts(normalize=True)\n",
        ".mul(100)\n",
        ".rename('percent')\n",
        ".reset_index()\n",
        ".pipe((sns.catplot,'data'), x=x,y='percent',hue=y,kind='bar'));"
      ],
      "metadata": {
        "colab": {
          "base_uri": "https://localhost:8080/",
          "height": 0
        },
        "id": "22Qrvanlwc8O",
        "outputId": "1c06cb0b-8387-4a24-d760-1bfa0c5d5728"
      },
      "execution_count": 44,
      "outputs": [
        {
          "output_type": "display_data",
          "data": {
            "text/plain": [
              "<Figure size 402.375x360 with 1 Axes>"
            ],
            "image/png": "[encoded data removed]"
          },
          "metadata": {
            "needs_background": "light"
          }
        }
      ]
    },
    {
      "cell_type": "markdown",
      "source": [
        "The following is a grouped bar chart exploring the 'smoking_status' and 'stroke' features together.  There is an increased percentage of stroke incidence for those who formerly smoked over other categories."
      ],
      "metadata": {
        "id": "DMDndAz2-8G5"
      }
    },
    {
      "cell_type": "code",
      "source": [
        "x,y = 'smoking_status', 'stroke'\n",
        "\n",
        "(df_ml\n",
        ".groupby(x)[y]\n",
        ".value_counts(normalize=True)\n",
        ".mul(100)\n",
        ".rename('percent')\n",
        ".reset_index()\n",
        ".pipe((sns.catplot,'data'), x=x,y='percent',hue=y,kind='bar'));"
      ],
      "metadata": {
        "colab": {
          "base_uri": "https://localhost:8080/",
          "height": 0
        },
        "id": "w_9Yb03uwEtS",
        "outputId": "9f0480ea-ba77-4922-da35-14266607c5f5"
      },
      "execution_count": 45,
      "outputs": [
        {
          "output_type": "display_data",
          "data": {
            "text/plain": [
              "<Figure size 402.375x360 with 1 Axes>"
            ],
            "image/png": "[encoded data removed]"
          },
          "metadata": {
            "needs_background": "light"
          }
        }
      ]
    },
    {
      "cell_type": "markdown",
      "source": [
        "The following is a grouped bar chart exploring the 'gender' and 'stroke' features together.  The stroke incidence is comparable for male and female genders."
      ],
      "metadata": {
        "id": "RVFXKOdh_OPU"
      }
    },
    {
      "cell_type": "code",
      "source": [
        "x,y = 'gender', 'stroke'\n",
        "\n",
        "(df_ml\n",
        ".groupby(x)[y]\n",
        ".value_counts(normalize=True)\n",
        ".mul(100)\n",
        ".rename('percent')\n",
        ".reset_index()\n",
        ".pipe((sns.catplot,'data'), x=x,y='percent',hue=y,kind='bar'));"
      ],
      "metadata": {
        "colab": {
          "base_uri": "https://localhost:8080/",
          "height": 0
        },
        "id": "avdNy2RMwLc_",
        "outputId": "794fa587-8012-45e2-d158-d8f19bc9f35a"
      },
      "execution_count": 46,
      "outputs": [
        {
          "output_type": "display_data",
          "data": {
            "text/plain": [
              "<Figure size 402.375x360 with 1 Axes>"
            ],
            "image/png": "[encoded data removed]"
          },
          "metadata": {
            "needs_background": "light"
          }
        }
      ]
    },
    {
      "cell_type": "markdown",
      "source": [
        "## **Explanatory Visuals**"
      ],
      "metadata": {
        "id": "FQSKvA2kbEY8"
      }
    },
    {
      "cell_type": "markdown",
      "source": [
        "### **3.  Choose two visualizations from your analysis that demonstrate key trends you found that will be of interest to a stakeholder. These visuals should be reporting quality with titles, labels, and a short explanation of the trend. Be sure to explain in a text cell the finding associated with each visual. Both of these visualizations should be easily understood by a non-technical audience (Neither should be histograms, boxplots, or correlation plots).**"
      ],
      "metadata": {
        "id": "ruXji3GKG05Z"
      }
    },
    {
      "cell_type": "code",
      "source": [
        "# create a copy of the data frame for explanatory visuals\n",
        "df_exp = df_ml.copy()\n",
        "df_exp.head()"
      ],
      "metadata": {
        "colab": {
          "base_uri": "https://localhost:8080/",
          "height": 0
        },
        "id": "fqvBKnO66O8X",
        "outputId": "efed7144-5aff-4205-d407-56ef5e5e1890"
      },
      "execution_count": 47,
      "outputs": [
        {
          "output_type": "execute_result",
          "data": {
            "text/plain": [
              "   gender   age  hypertension  heart_disease ever_married      work_type  \\\n",
              "0    Male  67.0             0              1          Yes        Private   \n",
              "1  Female  61.0             0              0          Yes  Self-employed   \n",
              "2    Male  80.0             0              1          Yes        Private   \n",
              "3  Female  49.0             0              0          Yes        Private   \n",
              "4  Female  79.0             1              0          Yes  Self-employed   \n",
              "\n",
              "  Residence_type  avg_glucose_level   bmi   smoking_status  stroke  \n",
              "0          Urban             228.69  36.6  formerly smoked       1  \n",
              "1          Rural             202.21   NaN     never smoked       1  \n",
              "2          Rural             105.92  32.5     never smoked       1  \n",
              "3          Urban             171.23  34.4           smokes       1  \n",
              "4          Rural             174.12  24.0     never smoked       1  "
            ],
            "text/html": [
              "\n",
              "  <div id=\"df-ece85067-bf12-4ff3-a601-4f942912b4da\">\n",
              "    <div class=\"colab-df-container\">\n",
              "      <div>\n",
              "<style scoped>\n",
              "    .dataframe tbody tr th:only-of-type {\n",
              "        vertical-align: middle;\n",
              "    }\n",
              "\n",
              "    .dataframe tbody tr th {\n",
              "        vertical-align: top;\n",
              "    }\n",
              "\n",
              "    .dataframe thead th {\n",
              "        text-align: right;\n",
              "    }\n",
              "</style>\n",
              "<table border=\"1\" class=\"dataframe\">\n",
              "  <thead>\n",
              "    <tr style=\"text-align: right;\">\n",
              "      <th></th>\n",
              "      <th>gender</th>\n",
              "      <th>age</th>\n",
              "      <th>hypertension</th>\n",
              "      <th>heart_disease</th>\n",
              "      <th>ever_married</th>\n",
              "      <th>work_type</th>\n",
              "      <th>Residence_type</th>\n",
              "      <th>avg_glucose_level</th>\n",
              "      <th>bmi</th>\n",
              "      <th>smoking_status</th>\n",
              "      <th>stroke</th>\n",
              "    </tr>\n",
              "  </thead>\n",
              "  <tbody>\n",
              "    <tr>\n",
              "      <th>0</th>\n",
              "      <td>Male</td>\n",
              "      <td>67.0</td>\n",
              "      <td>0</td>\n",
              "      <td>1</td>\n",
              "      <td>Yes</td>\n",
              "      <td>Private</td>\n",
              "      <td>Urban</td>\n",
              "      <td>228.69</td>\n",
              "      <td>36.6</td>\n",
              "      <td>formerly smoked</td>\n",
              "      <td>1</td>\n",
              "    </tr>\n",
              "    <tr>\n",
              "      <th>1</th>\n",
              "      <td>Female</td>\n",
              "      <td>61.0</td>\n",
              "      <td>0</td>\n",
              "      <td>0</td>\n",
              "      <td>Yes</td>\n",
              "      <td>Self-employed</td>\n",
              "      <td>Rural</td>\n",
              "      <td>202.21</td>\n",
              "      <td>NaN</td>\n",
              "      <td>never smoked</td>\n",
              "      <td>1</td>\n",
              "    </tr>\n",
              "    <tr>\n",
              "      <th>2</th>\n",
              "      <td>Male</td>\n",
              "      <td>80.0</td>\n",
              "      <td>0</td>\n",
              "      <td>1</td>\n",
              "      <td>Yes</td>\n",
              "      <td>Private</td>\n",
              "      <td>Rural</td>\n",
              "      <td>105.92</td>\n",
              "      <td>32.5</td>\n",
              "      <td>never smoked</td>\n",
              "      <td>1</td>\n",
              "    </tr>\n",
              "    <tr>\n",
              "      <th>3</th>\n",
              "      <td>Female</td>\n",
              "      <td>49.0</td>\n",
              "      <td>0</td>\n",
              "      <td>0</td>\n",
              "      <td>Yes</td>\n",
              "      <td>Private</td>\n",
              "      <td>Urban</td>\n",
              "      <td>171.23</td>\n",
              "      <td>34.4</td>\n",
              "      <td>smokes</td>\n",
              "      <td>1</td>\n",
              "    </tr>\n",
              "    <tr>\n",
              "      <th>4</th>\n",
              "      <td>Female</td>\n",
              "      <td>79.0</td>\n",
              "      <td>1</td>\n",
              "      <td>0</td>\n",
              "      <td>Yes</td>\n",
              "      <td>Self-employed</td>\n",
              "      <td>Rural</td>\n",
              "      <td>174.12</td>\n",
              "      <td>24.0</td>\n",
              "      <td>never smoked</td>\n",
              "      <td>1</td>\n",
              "    </tr>\n",
              "  </tbody>\n",
              "</table>\n",
              "</div>\n",
              "      <button class=\"colab-df-convert\" onclick=\"convertToInteractive('df-ece85067-bf12-4ff3-a601-4f942912b4da')\"\n",
              "              title=\"Convert this dataframe to an interactive table.\"\n",
              "              style=\"display:none;\">\n",
              "        \n",
              "  <svg xmlns=\"http://www.w3.org/2000/svg\" height=\"24px\"viewBox=\"0 0 24 24\"\n",
              "       width=\"24px\">\n",
              "    <path d=\"M0 0h24v24H0V0z\" fill=\"none\"/>\n",
              "    <path d=\"M18.56 5.44l.94 2.06.94-2.06 2.06-.94-2.06-.94-.94-2.06-.94 2.06-2.06.94zm-11 1L8.5 8.5l.94-2.06 2.06-.94-2.06-.94L8.5 2.5l-.94 2.06-2.06.94zm10 10l.94 2.06.94-2.06 2.06-.94-2.06-.94-.94-2.06-.94 2.06-2.06.94z\"/><path d=\"M17.41 7.96l-1.37-1.37c-.4-.4-.92-.59-1.43-.59-.52 0-1.04.2-1.43.59L10.3 9.45l-7.72 7.72c-.78.78-.78 2.05 0 2.83L4 21.41c.39.39.9.59 1.41.59.51 0 1.02-.2 1.41-.59l7.78-7.78 2.81-2.81c.8-.78.8-2.07 0-2.86zM5.41 20L4 18.59l7.72-7.72 1.47 1.35L5.41 20z\"/>\n",
              "  </svg>\n",
              "      </button>\n",
              "      \n",
              "  <style>\n",
              "    .colab-df-container {\n",
              "      display:flex;\n",
              "      flex-wrap:wrap;\n",
              "      gap: 12px;\n",
              "    }\n",
              "\n",
              "    .colab-df-convert {\n",
              "      background-color: #E8F0FE;\n",
              "      border: none;\n",
              "      border-radius: 50%;\n",
              "      cursor: pointer;\n",
              "      display: none;\n",
              "      fill: #1967D2;\n",
              "      height: 32px;\n",
              "      padding: 0 0 0 0;\n",
              "      width: 32px;\n",
              "    }\n",
              "\n",
              "    .colab-df-convert:hover {\n",
              "      background-color: #E2EBFA;\n",
              "      box-shadow: 0px 1px 2px rgba(60, 64, 67, 0.3), 0px 1px 3px 1px rgba(60, 64, 67, 0.15);\n",
              "      fill: #174EA6;\n",
              "    }\n",
              "\n",
              "    [theme=dark] .colab-df-convert {\n",
              "      background-color: #3B4455;\n",
              "      fill: #D2E3FC;\n",
              "    }\n",
              "\n",
              "    [theme=dark] .colab-df-convert:hover {\n",
              "      background-color: #434B5C;\n",
              "      box-shadow: 0px 1px 3px 1px rgba(0, 0, 0, 0.15);\n",
              "      filter: drop-shadow(0px 1px 2px rgba(0, 0, 0, 0.3));\n",
              "      fill: #FFFFFF;\n",
              "    }\n",
              "  </style>\n",
              "\n",
              "      <script>\n",
              "        const buttonEl =\n",
              "          document.querySelector('#df-ece85067-bf12-4ff3-a601-4f942912b4da button.colab-df-convert');\n",
              "        buttonEl.style.display =\n",
              "          google.colab.kernel.accessAllowed ? 'block' : 'none';\n",
              "\n",
              "        async function convertToInteractive(key) {\n",
              "          const element = document.querySelector('#df-ece85067-bf12-4ff3-a601-4f942912b4da');\n",
              "          const dataTable =\n",
              "            await google.colab.kernel.invokeFunction('convertToInteractive',\n",
              "                                                     [key], {});\n",
              "          if (!dataTable) return;\n",
              "\n",
              "          const docLinkHtml = 'Like what you see? Visit the ' +\n",
              "            '<a target=\"_blank\" href=https://colab.research.google.com/notebooks/data_table.ipynb>data table notebook</a>'\n",
              "            + ' to learn more about interactive tables.';\n",
              "          element.innerHTML = '';\n",
              "          dataTable['output_type'] = 'display_data';\n",
              "          await google.colab.output.renderOutput(dataTable, element);\n",
              "          const docLink = document.createElement('div');\n",
              "          docLink.innerHTML = docLinkHtml;\n",
              "          element.appendChild(docLink);\n",
              "        }\n",
              "      </script>\n",
              "    </div>\n",
              "  </div>\n",
              "  "
            ]
          },
          "metadata": {},
          "execution_count": 47
        }
      ]
    },
    {
      "cell_type": "markdown",
      "source": [
        "The next three cells are used to relabel the legend and x-axis."
      ],
      "metadata": {
        "id": "L0es3p2pGPK-"
      }
    },
    {
      "cell_type": "code",
      "source": [
        "df_exp['stroke'] = df_exp['stroke'].map({0: 'no stroke', 1: 'stroke'})"
      ],
      "metadata": {
        "id": "XdToVRvZ6dcy"
      },
      "execution_count": 48,
      "outputs": []
    },
    {
      "cell_type": "code",
      "source": [
        "df_exp['hypertension'] = df_exp['hypertension'].map({0: 'no hypertension', 1: 'hypertension present'})"
      ],
      "metadata": {
        "id": "u_zrxa0O6_yE"
      },
      "execution_count": 49,
      "outputs": []
    },
    {
      "cell_type": "code",
      "source": [
        "df_exp['heart_disease'] = df_exp['heart_disease'].map({0: 'no heart disease', 1: 'heart disease present'})"
      ],
      "metadata": {
        "id": "DK_oCSQY7Vo5"
      },
      "execution_count": 50,
      "outputs": []
    },
    {
      "cell_type": "code",
      "source": [
        "x,y = 'hypertension', 'stroke'\n",
        "\n",
        "\n",
        "(df_exp\n",
        ".groupby(x)[y]\n",
        ".value_counts(normalize=True)\n",
        ".mul(100)\n",
        ".rename('percent')\n",
        ".reset_index()\n",
        ".pipe((sns.catplot,'data'), x=x,y='percent',hue=y,kind='bar'));\n",
        "\n",
        "## titles and labels\n",
        "plt.title('Hypertension and Stroke', fontsize = 26, fontweight='semibold', pad = 25)\n",
        "plt.ylabel('Percent', fontsize = 18)\n",
        "plt.xlabel('Hypertension', fontsize = 20);"
      ],
      "metadata": {
        "colab": {
          "base_uri": "https://localhost:8080/",
          "height": 0
        },
        "id": "DrOW6tINCvoJ",
        "outputId": "51c4b3b1-110b-4921-bb69-cffe98821ee3"
      },
      "execution_count": 51,
      "outputs": [
        {
          "output_type": "display_data",
          "data": {
            "text/plain": [
              "<Figure size 442x360 with 1 Axes>"
            ],
            "image/png": "[encoded data removed]"
          },
          "metadata": {
            "needs_background": "light"
          }
        }
      ]
    },
    {
      "cell_type": "markdown",
      "source": [
        "The grouped bar chart above is a visualization of the association between the presence of hypertension and the presence of stroke in individuals.  There is more than double the incidence of stroke for individuals when hypertension was present."
      ],
      "metadata": {
        "id": "4TnYtwh7_kde"
      }
    },
    {
      "cell_type": "code",
      "source": [
        "x,y = 'heart_disease', 'stroke'\n",
        "\n",
        "\n",
        "(df_exp\n",
        ".groupby(x)[y]\n",
        ".value_counts(normalize=True)\n",
        ".mul(100)\n",
        ".rename('percent')\n",
        ".reset_index()\n",
        ".pipe((sns.catplot,'data'), x=x,y='percent',hue=y,kind='bar'))\n",
        "\n",
        "\n",
        "\n",
        "## titles and labels\n",
        "plt.title('Heart Disease and Stroke', fontsize = 26, fontweight='semibold', pad = 20)\n",
        "plt.ylabel('Percent', fontsize = 18)\n",
        "plt.xlabel('Heart Disease', fontsize = 20);"
      ],
      "metadata": {
        "colab": {
          "base_uri": "https://localhost:8080/",
          "height": 0
        },
        "id": "6eIxOZKR_k4Z",
        "outputId": "8f7a70bb-0b10-4b93-fcf3-1101a64a6b06"
      },
      "execution_count": 52,
      "outputs": [
        {
          "output_type": "display_data",
          "data": {
            "text/plain": [
              "<Figure size 442x360 with 1 Axes>"
            ],
            "image/png": "[encoded data removed]"
          },
          "metadata": {
            "needs_background": "light"
          }
        }
      ]
    },
    {
      "cell_type": "markdown",
      "source": [
        "The grouped bar chart above is a visualization of the association between the presence of heart disease and the presence of stroke in individuals.  There is more than double the incidence of stroke for individuals when heart disease was present."
      ],
      "metadata": {
        "id": "INuYm1GVHky_"
      }
    },
    {
      "cell_type": "markdown",
      "source": [
        "The code for these two explanatory visualizations was adapted from https://stackoverflow.com/questions/34615854/seaborn-countplot-with-normalized-y-axis-per-group"
      ],
      "metadata": {
        "id": "CvoOvr8zIW3G"
      }
    },
    {
      "cell_type": "markdown",
      "source": [
        "## **Project 2 - Part 4 Tasks: Model Development Phase**\n",
        "- Ensure that you complete the appropriate pre-processing steps.\n",
        "- Try multiple models and tune the hyperparameters of each model to optimize model performance (include all models and hyperparameters tested in addition to the final model).\n",
        "- Perform PCA or another feature engineering technique on your dataset to see how this impacts your results. (Try multiple techniques depending on data!).\n",
        "- Evaluate model performance with appropriate metrics for the model.\n",
        "- Choose \"production\" model and justify this decision."
      ],
      "metadata": {
        "id": "1C1yARj320Z7"
      }
    },
    {
      "cell_type": "markdown",
      "source": [
        "## **Models, Prediction and Analysis**"
      ],
      "metadata": {
        "id": "wVqx662PbKr8"
      }
    },
    {
      "cell_type": "markdown",
      "source": [
        "### ***Pre_Processing***"
      ],
      "metadata": {
        "id": "pj7so9iJ3TyL"
      }
    },
    {
      "cell_type": "code",
      "source": [
        "# perform the train/test split\n",
        "X = df_ml.drop(columns = ['stroke'])\n",
        "y = df_ml['stroke']\n",
        "X_train, X_test, y_train, y_test = train_test_split(X, y, random_state=42)\n",
        "\n"
      ],
      "metadata": {
        "id": "9N62aMKRDjUo"
      },
      "execution_count": 53,
      "outputs": []
    },
    {
      "cell_type": "code",
      "source": [
        "# Create preprocessor to impute and scale numeric data, and one-hot encode categorical data\n",
        "\n",
        "# numeric impute and scale\n",
        "mean_imputer = SimpleImputer(strategy='mean')\n",
        "scaler = StandardScaler()\n",
        "numeric_pipe = make_pipeline(mean_imputer, scaler)\n",
        "\n",
        "#categorical one hot encode\n",
        "ohe = OneHotEncoder(handle_unknown='ignore', sparse=False)\n",
        "\n",
        "#column selectors\n",
        "cat_selector = make_column_selector(dtype_include='object')\n",
        "num_selector = make_column_selector(dtype_include='number')\n",
        "\n",
        "# categorical and numeric tuples\n",
        "cat_tuple = (ohe, cat_selector)\n",
        "num_tuple = (numeric_pipe, num_selector)\n",
        "\n",
        "# preprocessor\n",
        "preprocessor = make_column_transformer(cat_tuple, num_tuple, remainder='passthrough')\n",
        "\n"
      ],
      "metadata": {
        "id": "nqFZMCRv1vw4"
      },
      "execution_count": 54,
      "outputs": []
    },
    {
      "cell_type": "code",
      "source": [
        "# fit the preprocessor on the X_train data\n",
        "preprocessor.fit(X_train)"
      ],
      "metadata": {
        "colab": {
          "base_uri": "https://localhost:8080/"
        },
        "id": "XZr20UQTsZzv",
        "outputId": "0532e917-8863-4f05-e4df-ea1d0d608f72"
      },
      "execution_count": 55,
      "outputs": [
        {
          "output_type": "execute_result",
          "data": {
            "text/plain": [
              "ColumnTransformer(remainder='passthrough',\n",
              "                  transformers=[('onehotencoder',\n",
              "                                 OneHotEncoder(handle_unknown='ignore',\n",
              "                                               sparse=False),\n",
              "                                 <sklearn.compose._column_transformer.make_column_selector object at 0x7f73d04544d0>),\n",
              "                                ('pipeline',\n",
              "                                 Pipeline(steps=[('simpleimputer',\n",
              "                                                  SimpleImputer()),\n",
              "                                                 ('standardscaler',\n",
              "                                                  StandardScaler())]),\n",
              "                                 <sklearn.compose._column_transformer.make_column_selector object at 0x7f73d321a950>)])"
            ]
          },
          "metadata": {},
          "execution_count": 55
        }
      ]
    },
    {
      "cell_type": "code",
      "source": [
        "# check the balancing of target 'stroke'\n",
        "df_ml['stroke'].value_counts(normalize = True)"
      ],
      "metadata": {
        "colab": {
          "base_uri": "https://localhost:8080/"
        },
        "id": "PjLsCg_r7k1r",
        "outputId": "dd4dac20-8f33-43db-decf-a11f114994e8"
      },
      "execution_count": 56,
      "outputs": [
        {
          "output_type": "execute_result",
          "data": {
            "text/plain": [
              "0    0.951262\n",
              "1    0.048738\n",
              "Name: stroke, dtype: float64"
            ]
          },
          "metadata": {},
          "execution_count": 56
        }
      ]
    },
    {
      "cell_type": "code",
      "source": [
        "# check the balance of test data (baseline model)\n",
        "y_test.value_counts(normalize = True)"
      ],
      "metadata": {
        "colab": {
          "base_uri": "https://localhost:8080/"
        },
        "id": "NVuFXsVwowiu",
        "outputId": "8efe4b19-6055-4d34-86fd-a1815d39c415"
      },
      "execution_count": 57,
      "outputs": [
        {
          "output_type": "execute_result",
          "data": {
            "text/plain": [
              "0    0.937402\n",
              "1    0.062598\n",
              "Name: stroke, dtype: float64"
            ]
          },
          "metadata": {},
          "execution_count": 57
        }
      ]
    },
    {
      "cell_type": "markdown",
      "source": [
        "### ***Models and Optimization***"
      ],
      "metadata": {
        "id": "w_TUkc3N3Wg7"
      }
    },
    {
      "cell_type": "code",
      "source": [
        "## Evaluation function\n",
        "def eval_classification(model,X_train,X_test,y_train,y_test):\n",
        "    \"\"\"Uses model.score to display the accuracy scores for training and test splits\"\"\"\n",
        "    print(f\"Model Training Accuracy: {model.score(X_train, y_train):.4f}\")\n",
        "    print(f\"Model Test Accuracy: {model.score(X_test, y_test):.4f}\")"
      ],
      "metadata": {
        "id": "P386XeDEzm5E"
      },
      "execution_count": 58,
      "outputs": []
    },
    {
      "cell_type": "markdown",
      "source": [
        "#### **Decision Tree**"
      ],
      "metadata": {
        "id": "sVY4kCdlnS0w"
      }
    },
    {
      "cell_type": "code",
      "source": [
        "# Create a model pipeline with the preprocessor and a Decision Tree Classifier model\n",
        "dec_tree = DecisionTreeClassifier()\n",
        "dec_tree_pipe = make_pipeline(preprocessor, dec_tree)\n",
        "dec_tree_pipe.fit(X_train, y_train) \n"
      ],
      "metadata": {
        "colab": {
          "base_uri": "https://localhost:8080/"
        },
        "id": "FZvxn8x3Dmgi",
        "outputId": "266fdfe2-3ce0-4120-9310-7cbc276aa44e"
      },
      "execution_count": 59,
      "outputs": [
        {
          "output_type": "execute_result",
          "data": {
            "text/plain": [
              "Pipeline(steps=[('columntransformer',\n",
              "                 ColumnTransformer(remainder='passthrough',\n",
              "                                   transformers=[('onehotencoder',\n",
              "                                                  OneHotEncoder(handle_unknown='ignore',\n",
              "                                                                sparse=False),\n",
              "                                                  <sklearn.compose._column_transformer.make_column_selector object at 0x7f73d04544d0>),\n",
              "                                                 ('pipeline',\n",
              "                                                  Pipeline(steps=[('simpleimputer',\n",
              "                                                                   SimpleImputer()),\n",
              "                                                                  ('standardscaler',\n",
              "                                                                   StandardScaler())]),\n",
              "                                                  <sklearn.compose._column_transformer.make_column_selector object at 0x7f73d321a950>)])),\n",
              "                ('decisiontreeclassifier', DecisionTreeClassifier())])"
            ]
          },
          "metadata": {},
          "execution_count": 59
        }
      ]
    },
    {
      "cell_type": "code",
      "source": [
        "eval_classification(dec_tree_pipe, X_train, X_test, y_train, y_test)"
      ],
      "metadata": {
        "colab": {
          "base_uri": "https://localhost:8080/"
        },
        "id": "shjXv1nCEvT_",
        "outputId": "78b3ba9c-1577-48ab-be14-53ce016fe7e0"
      },
      "execution_count": 60,
      "outputs": [
        {
          "output_type": "stream",
          "name": "stdout",
          "text": [
            "Model Training Accuracy: 1.0000\n",
            "Model Test Accuracy: 0.9085\n"
          ]
        }
      ]
    },
    {
      "cell_type": "code",
      "source": [
        "dt_test_preds = dec_tree_pipe.predict(X_test)\n",
        "print(classification_report(y_test, dt_test_preds))"
      ],
      "metadata": {
        "colab": {
          "base_uri": "https://localhost:8080/"
        },
        "id": "pRv76WM0igqB",
        "outputId": "3d9b0bb7-86fa-4bda-be13-e64eb4f8b17a"
      },
      "execution_count": 182,
      "outputs": [
        {
          "output_type": "stream",
          "name": "stdout",
          "text": [
            "              precision    recall  f1-score   support\n",
            "\n",
            "           0       0.95      0.96      0.95      1198\n",
            "           1       0.23      0.20      0.21        80\n",
            "\n",
            "    accuracy                           0.91      1278\n",
            "   macro avg       0.59      0.58      0.58      1278\n",
            "weighted avg       0.90      0.91      0.91      1278\n",
            "\n"
          ]
        }
      ]
    },
    {
      "cell_type": "markdown",
      "source": [
        "##### **Decision Tree Tuning**"
      ],
      "metadata": {
        "id": "l7yArB9ipwz0"
      }
    },
    {
      "cell_type": "code",
      "source": [
        "# preprocessor\n",
        "preprocessor = make_column_transformer(cat_tuple, num_tuple, remainder='passthrough')"
      ],
      "metadata": {
        "id": "kWQRoewUTa1l"
      },
      "execution_count": 62,
      "outputs": []
    },
    {
      "cell_type": "code",
      "source": [
        "# fit the preprocessor on the X_train data\n",
        "preprocessor.fit(X_train)"
      ],
      "metadata": {
        "colab": {
          "base_uri": "https://localhost:8080/"
        },
        "id": "4AusFWajTiMF",
        "outputId": "b3f215e9-e58e-405c-d285-941d0dc2e627"
      },
      "execution_count": 63,
      "outputs": [
        {
          "output_type": "execute_result",
          "data": {
            "text/plain": [
              "ColumnTransformer(remainder='passthrough',\n",
              "                  transformers=[('onehotencoder',\n",
              "                                 OneHotEncoder(handle_unknown='ignore',\n",
              "                                               sparse=False),\n",
              "                                 <sklearn.compose._column_transformer.make_column_selector object at 0x7f73d04544d0>),\n",
              "                                ('pipeline',\n",
              "                                 Pipeline(steps=[('simpleimputer',\n",
              "                                                  SimpleImputer()),\n",
              "                                                 ('standardscaler',\n",
              "                                                  StandardScaler())]),\n",
              "                                 <sklearn.compose._column_transformer.make_column_selector object at 0x7f73d321a950>)])"
            ]
          },
          "metadata": {},
          "execution_count": 63
        }
      ]
    },
    {
      "cell_type": "code",
      "source": [
        "# instantiate a decision tree model and create a parameter grid dictionary\n",
        "dt_model = DecisionTreeClassifier(random_state=42)\n",
        "\n",
        "dt_model_pipe = make_pipeline(preprocessor, dt_model)\n",
        "\n",
        "# dt_model_pipe.get_params()\n"
      ],
      "metadata": {
        "id": "iiYUsdBYpz4A"
      },
      "execution_count": 64,
      "outputs": []
    },
    {
      "cell_type": "code",
      "source": [
        "# create a decision tree parameter grid\n",
        "dt_param_grid = {'decisiontreeclassifier__max_depth':(1, 5),\n",
        "                  'decisiontreeclassifier__min_samples_leaf': (1, 5),\n",
        "                  'decisiontreeclassifier__min_samples_split': (2, 200),\n",
        "                  'decisiontreeclassifier__class_weight': [None, 'balanced']}"
      ],
      "metadata": {
        "id": "y0QTXzzpvqUJ"
      },
      "execution_count": 158,
      "outputs": []
    },
    {
      "cell_type": "code",
      "source": [
        "# instantiate the  Decision Tree GridSearchCV Class\n",
        "dt_grid_search = GridSearchCV(dt_model_pipe, dt_param_grid)"
      ],
      "metadata": {
        "id": "xoWFPctkqktA"
      },
      "execution_count": 159,
      "outputs": []
    },
    {
      "cell_type": "code",
      "source": [
        "# fit Decision Tree GridSeachCv on training data\n",
        "dt_grid_search.fit(X_train, y_train)"
      ],
      "metadata": {
        "colab": {
          "base_uri": "https://localhost:8080/"
        },
        "id": "QvMXCLbuqvBU",
        "outputId": "5e34b900-af07-46bb-9f4b-f94623ed9434"
      },
      "execution_count": 160,
      "outputs": [
        {
          "output_type": "execute_result",
          "data": {
            "text/plain": [
              "GridSearchCV(estimator=Pipeline(steps=[('columntransformer',\n",
              "                                        ColumnTransformer(remainder='passthrough',\n",
              "                                                          transformers=[('onehotencoder',\n",
              "                                                                         OneHotEncoder(handle_unknown='ignore',\n",
              "                                                                                       sparse=False),\n",
              "                                                                         <sklearn.compose._column_transformer.make_column_selector object at 0x7f73d04544d0>),\n",
              "                                                                        ('pipeline',\n",
              "                                                                         Pipeline(steps=[('simpleimputer',\n",
              "                                                                                          SimpleImputer()),\n",
              "                                                                                         ('standardscaler',\n",
              "                                                                                          Sta...\n",
              "                                                                         <sklearn.compose._column_transformer.make_column_selector object at 0x7f73d321a950>)])),\n",
              "                                       ('decisiontreeclassifier',\n",
              "                                        DecisionTreeClassifier(random_state=42))]),\n",
              "             param_grid={'decisiontreeclassifier__class_weight': [None,\n",
              "                                                                  'balanced'],\n",
              "                         'decisiontreeclassifier__max_depth': (1, 5),\n",
              "                         'decisiontreeclassifier__min_samples_leaf': (1, 5),\n",
              "                         'decisiontreeclassifier__min_samples_split': (2, 200)})"
            ]
          },
          "metadata": {},
          "execution_count": 160
        }
      ]
    },
    {
      "cell_type": "code",
      "source": [
        "# examine best parameters for Decision Tree found by search\n",
        "dt_grid_search.best_params_"
      ],
      "metadata": {
        "colab": {
          "base_uri": "https://localhost:8080/"
        },
        "id": "E0PdZKomq4a-",
        "outputId": "f17b841c-e142-47b9-b68a-a55d6304d0f0"
      },
      "execution_count": 161,
      "outputs": [
        {
          "output_type": "execute_result",
          "data": {
            "text/plain": [
              "{'decisiontreeclassifier__class_weight': None,\n",
              " 'decisiontreeclassifier__max_depth': 1,\n",
              " 'decisiontreeclassifier__min_samples_leaf': 1,\n",
              " 'decisiontreeclassifier__min_samples_split': 2}"
            ]
          },
          "metadata": {},
          "execution_count": 161
        }
      ]
    },
    {
      "cell_type": "code",
      "source": [
        "# instantiate best Decision Tree using best estimator\n",
        "dt_best_model = dt_grid_search.best_estimator_\n",
        "\n",
        "# fit best Decision Tree model\n",
        "dt_best_model.fit(X_train, y_train)\n",
        "\n",
        "# evaluate best Decision Tree model\n",
        "dt_best_model.score(X_test, y_test)\n",
        "\n"
      ],
      "metadata": {
        "colab": {
          "base_uri": "https://localhost:8080/"
        },
        "id": "zgRdREVCxGbl",
        "outputId": "b1f94bbc-f5f5-4470-8a40-19858c2673ad"
      },
      "execution_count": 162,
      "outputs": [
        {
          "output_type": "execute_result",
          "data": {
            "text/plain": [
              "0.9374021909233177"
            ]
          },
          "metadata": {},
          "execution_count": 162
        }
      ]
    },
    {
      "cell_type": "code",
      "source": [
        "dt_best_test_preds = dt_best_model.predict(X_test)\n",
        "print(classification_report(y_test, dt_best_test_preds))"
      ],
      "metadata": {
        "colab": {
          "base_uri": "https://localhost:8080/"
        },
        "id": "2cGnLteDiuzE",
        "outputId": "73874209-51b4-4b61-88cc-00d867009376"
      },
      "execution_count": 183,
      "outputs": [
        {
          "output_type": "stream",
          "name": "stdout",
          "text": [
            "              precision    recall  f1-score   support\n",
            "\n",
            "           0       0.94      1.00      0.97      1198\n",
            "           1       0.00      0.00      0.00        80\n",
            "\n",
            "    accuracy                           0.94      1278\n",
            "   macro avg       0.47      0.50      0.48      1278\n",
            "weighted avg       0.88      0.94      0.91      1278\n",
            "\n"
          ]
        },
        {
          "output_type": "stream",
          "name": "stderr",
          "text": [
            "/usr/local/lib/python3.7/dist-packages/sklearn/metrics/_classification.py:1318: UndefinedMetricWarning: Precision and F-score are ill-defined and being set to 0.0 in labels with no predicted samples. Use `zero_division` parameter to control this behavior.\n",
            "  _warn_prf(average, modifier, msg_start, len(result))\n",
            "/usr/local/lib/python3.7/dist-packages/sklearn/metrics/_classification.py:1318: UndefinedMetricWarning: Precision and F-score are ill-defined and being set to 0.0 in labels with no predicted samples. Use `zero_division` parameter to control this behavior.\n",
            "  _warn_prf(average, modifier, msg_start, len(result))\n",
            "/usr/local/lib/python3.7/dist-packages/sklearn/metrics/_classification.py:1318: UndefinedMetricWarning: Precision and F-score are ill-defined and being set to 0.0 in labels with no predicted samples. Use `zero_division` parameter to control this behavior.\n",
            "  _warn_prf(average, modifier, msg_start, len(result))\n"
          ]
        }
      ]
    },
    {
      "cell_type": "markdown",
      "source": [
        "#### **Bagged Tree**"
      ],
      "metadata": {
        "id": "CO8_HCednbfx"
      }
    },
    {
      "cell_type": "code",
      "source": [
        "# Create a model pipeline with the preprocessor and a Bagging Classifier model\n",
        "bag_clf = BaggingClassifier(random_state=42)\n",
        "bag_clf_pipe = make_pipeline(preprocessor, bag_clf)\n",
        "bag_clf_pipe.fit(X_train, y_train) "
      ],
      "metadata": {
        "colab": {
          "base_uri": "https://localhost:8080/"
        },
        "id": "VC5DSzMeDEkq",
        "outputId": "358337b3-6367-4763-b82c-34d55b706ebd"
      },
      "execution_count": 71,
      "outputs": [
        {
          "output_type": "execute_result",
          "data": {
            "text/plain": [
              "Pipeline(steps=[('columntransformer',\n",
              "                 ColumnTransformer(remainder='passthrough',\n",
              "                                   transformers=[('onehotencoder',\n",
              "                                                  OneHotEncoder(handle_unknown='ignore',\n",
              "                                                                sparse=False),\n",
              "                                                  <sklearn.compose._column_transformer.make_column_selector object at 0x7f73d04544d0>),\n",
              "                                                 ('pipeline',\n",
              "                                                  Pipeline(steps=[('simpleimputer',\n",
              "                                                                   SimpleImputer()),\n",
              "                                                                  ('standardscaler',\n",
              "                                                                   StandardScaler())]),\n",
              "                                                  <sklearn.compose._column_transformer.make_column_selector object at 0x7f73d321a950>)])),\n",
              "                ('baggingclassifier', BaggingClassifier(random_state=42))])"
            ]
          },
          "metadata": {},
          "execution_count": 71
        }
      ]
    },
    {
      "cell_type": "code",
      "source": [
        "eval_classification(bag_clf_pipe, X_train, X_test, y_train, y_test)"
      ],
      "metadata": {
        "colab": {
          "base_uri": "https://localhost:8080/"
        },
        "id": "2YSZujRCE0PE",
        "outputId": "d872ab7c-41c1-4ce2-b3d8-230c11e9996c"
      },
      "execution_count": 72,
      "outputs": [
        {
          "output_type": "stream",
          "name": "stdout",
          "text": [
            "Model Training Accuracy: 0.9927\n",
            "Model Test Accuracy: 0.9351\n"
          ]
        }
      ]
    },
    {
      "cell_type": "code",
      "source": [
        "bt_test_preds = bag_clf_pipe.predict(X_test)\n",
        "print(classification_report(y_test, bt_test_preds))"
      ],
      "metadata": {
        "colab": {
          "base_uri": "https://localhost:8080/"
        },
        "id": "xVOiNIijjATC",
        "outputId": "79a54ed6-3977-498f-9c58-b06a7b64d832"
      },
      "execution_count": 184,
      "outputs": [
        {
          "output_type": "stream",
          "name": "stdout",
          "text": [
            "              precision    recall  f1-score   support\n",
            "\n",
            "           0       0.94      0.99      0.97      1198\n",
            "           1       0.38      0.06      0.11        80\n",
            "\n",
            "    accuracy                           0.94      1278\n",
            "   macro avg       0.66      0.53      0.54      1278\n",
            "weighted avg       0.91      0.94      0.91      1278\n",
            "\n"
          ]
        }
      ]
    },
    {
      "cell_type": "markdown",
      "source": [
        "##### **Bagged Tree Tuning**"
      ],
      "metadata": {
        "id": "HY8yI9A-PxbG"
      }
    },
    {
      "cell_type": "code",
      "source": [
        "# instantiate a bagging tree model and create a parameter grid dictionary\n",
        "bt_model = BaggingClassifier(random_state=42)\n",
        "\n",
        "bt_model_pipe = make_pipeline(preprocessor, bt_model)\n",
        "\n",
        "bt_model_pipe.get_params()"
      ],
      "metadata": {
        "colab": {
          "base_uri": "https://localhost:8080/"
        },
        "id": "XIMBe3vR6Qcm",
        "outputId": "ab9e24fe-3f13-496d-c9b4-ab44a8137208"
      },
      "execution_count": 73,
      "outputs": [
        {
          "output_type": "execute_result",
          "data": {
            "text/plain": [
              "{'memory': None,\n",
              " 'steps': [('columntransformer', ColumnTransformer(remainder='passthrough',\n",
              "                     transformers=[('onehotencoder',\n",
              "                                    OneHotEncoder(handle_unknown='ignore',\n",
              "                                                  sparse=False),\n",
              "                                    <sklearn.compose._column_transformer.make_column_selector object at 0x7f73d04544d0>),\n",
              "                                   ('pipeline',\n",
              "                                    Pipeline(steps=[('simpleimputer',\n",
              "                                                     SimpleImputer()),\n",
              "                                                    ('standardscaler',\n",
              "                                                     StandardScaler())]),\n",
              "                                    <sklearn.compose._column_transformer.make_column_selector object at 0x7f73d321a950>)])),\n",
              "  ('baggingclassifier', BaggingClassifier(random_state=42))],\n",
              " 'verbose': False,\n",
              " 'columntransformer': ColumnTransformer(remainder='passthrough',\n",
              "                   transformers=[('onehotencoder',\n",
              "                                  OneHotEncoder(handle_unknown='ignore',\n",
              "                                                sparse=False),\n",
              "                                  <sklearn.compose._column_transformer.make_column_selector object at 0x7f73d04544d0>),\n",
              "                                 ('pipeline',\n",
              "                                  Pipeline(steps=[('simpleimputer',\n",
              "                                                   SimpleImputer()),\n",
              "                                                  ('standardscaler',\n",
              "                                                   StandardScaler())]),\n",
              "                                  <sklearn.compose._column_transformer.make_column_selector object at 0x7f73d321a950>)]),\n",
              " 'baggingclassifier': BaggingClassifier(random_state=42),\n",
              " 'columntransformer__n_jobs': None,\n",
              " 'columntransformer__remainder': 'passthrough',\n",
              " 'columntransformer__sparse_threshold': 0.3,\n",
              " 'columntransformer__transformer_weights': None,\n",
              " 'columntransformer__transformers': [('onehotencoder',\n",
              "   OneHotEncoder(handle_unknown='ignore', sparse=False),\n",
              "   <sklearn.compose._column_transformer.make_column_selector at 0x7f73d04544d0>),\n",
              "  ('pipeline', Pipeline(steps=[('simpleimputer', SimpleImputer()),\n",
              "                   ('standardscaler', StandardScaler())]), <sklearn.compose._column_transformer.make_column_selector at 0x7f73d321a950>)],\n",
              " 'columntransformer__verbose': False,\n",
              " 'columntransformer__verbose_feature_names_out': True,\n",
              " 'columntransformer__onehotencoder': OneHotEncoder(handle_unknown='ignore', sparse=False),\n",
              " 'columntransformer__pipeline': Pipeline(steps=[('simpleimputer', SimpleImputer()),\n",
              "                 ('standardscaler', StandardScaler())]),\n",
              " 'columntransformer__onehotencoder__categories': 'auto',\n",
              " 'columntransformer__onehotencoder__drop': None,\n",
              " 'columntransformer__onehotencoder__dtype': numpy.float64,\n",
              " 'columntransformer__onehotencoder__handle_unknown': 'ignore',\n",
              " 'columntransformer__onehotencoder__sparse': False,\n",
              " 'columntransformer__pipeline__memory': None,\n",
              " 'columntransformer__pipeline__steps': [('simpleimputer', SimpleImputer()),\n",
              "  ('standardscaler', StandardScaler())],\n",
              " 'columntransformer__pipeline__verbose': False,\n",
              " 'columntransformer__pipeline__simpleimputer': SimpleImputer(),\n",
              " 'columntransformer__pipeline__standardscaler': StandardScaler(),\n",
              " 'columntransformer__pipeline__simpleimputer__add_indicator': False,\n",
              " 'columntransformer__pipeline__simpleimputer__copy': True,\n",
              " 'columntransformer__pipeline__simpleimputer__fill_value': None,\n",
              " 'columntransformer__pipeline__simpleimputer__missing_values': nan,\n",
              " 'columntransformer__pipeline__simpleimputer__strategy': 'mean',\n",
              " 'columntransformer__pipeline__simpleimputer__verbose': 0,\n",
              " 'columntransformer__pipeline__standardscaler__copy': True,\n",
              " 'columntransformer__pipeline__standardscaler__with_mean': True,\n",
              " 'columntransformer__pipeline__standardscaler__with_std': True,\n",
              " 'baggingclassifier__base_estimator': None,\n",
              " 'baggingclassifier__bootstrap': True,\n",
              " 'baggingclassifier__bootstrap_features': False,\n",
              " 'baggingclassifier__max_features': 1.0,\n",
              " 'baggingclassifier__max_samples': 1.0,\n",
              " 'baggingclassifier__n_estimators': 10,\n",
              " 'baggingclassifier__n_jobs': None,\n",
              " 'baggingclassifier__oob_score': False,\n",
              " 'baggingclassifier__random_state': 42,\n",
              " 'baggingclassifier__verbose': 0,\n",
              " 'baggingclassifier__warm_start': False}"
            ]
          },
          "metadata": {},
          "execution_count": 73
        }
      ]
    },
    {
      "cell_type": "code",
      "source": [
        "# create a bagging tree parameter grid dictionary\n",
        "bt_param_grid = {'baggingclassifier__max_features':(1, 10),\n",
        "                  'baggingclassifier__max_samples': (1, 10),\n",
        "                  'baggingclassifier__n_estimators': (2, 50)}"
      ],
      "metadata": {
        "id": "K5yJJRvz65NK"
      },
      "execution_count": 74,
      "outputs": []
    },
    {
      "cell_type": "code",
      "source": [
        "# instantiate bagging tree GridSearchCV Class\n",
        "bt_grid_search = GridSearchCV(bt_model_pipe, bt_param_grid)"
      ],
      "metadata": {
        "id": "14ruNnlv69st"
      },
      "execution_count": 75,
      "outputs": []
    },
    {
      "cell_type": "code",
      "source": [
        "# fit bagging tree GridSeachCv on training data\n",
        "bt_grid_search.fit(X_train, y_train)"
      ],
      "metadata": {
        "colab": {
          "base_uri": "https://localhost:8080/"
        },
        "id": "G8Sqwfsm7CWI",
        "outputId": "687c18c5-7382-4b07-95a2-6667ef396132"
      },
      "execution_count": 76,
      "outputs": [
        {
          "output_type": "execute_result",
          "data": {
            "text/plain": [
              "GridSearchCV(estimator=Pipeline(steps=[('columntransformer',\n",
              "                                        ColumnTransformer(remainder='passthrough',\n",
              "                                                          transformers=[('onehotencoder',\n",
              "                                                                         OneHotEncoder(handle_unknown='ignore',\n",
              "                                                                                       sparse=False),\n",
              "                                                                         <sklearn.compose._column_transformer.make_column_selector object at 0x7f73d04544d0>),\n",
              "                                                                        ('pipeline',\n",
              "                                                                         Pipeline(steps=[('simpleimputer',\n",
              "                                                                                          SimpleImputer()),\n",
              "                                                                                         ('standardscaler',\n",
              "                                                                                          StandardScaler())]),\n",
              "                                                                         <sklearn.compose._column_transformer.make_column_selector object at 0x7f73d321a950>)])),\n",
              "                                       ('baggingclassifier',\n",
              "                                        BaggingClassifier(random_state=42))]),\n",
              "             param_grid={'baggingclassifier__max_features': (1, 10),\n",
              "                         'baggingclassifier__max_samples': (1, 10),\n",
              "                         'baggingclassifier__n_estimators': (2, 50)})"
            ]
          },
          "metadata": {},
          "execution_count": 76
        }
      ]
    },
    {
      "cell_type": "code",
      "source": [
        "# examine bagging tree best parameters found by search\n",
        "bt_grid_search.best_params_"
      ],
      "metadata": {
        "colab": {
          "base_uri": "https://localhost:8080/"
        },
        "id": "_3lvy4iG7Fap",
        "outputId": "6f6079fd-9fe5-48a0-8202-b8ef11819ac8"
      },
      "execution_count": 77,
      "outputs": [
        {
          "output_type": "execute_result",
          "data": {
            "text/plain": [
              "{'baggingclassifier__max_features': 1,\n",
              " 'baggingclassifier__max_samples': 1,\n",
              " 'baggingclassifier__n_estimators': 2}"
            ]
          },
          "metadata": {},
          "execution_count": 77
        }
      ]
    },
    {
      "cell_type": "code",
      "source": [
        "# instantiate best bagging Tree using best estimator\n",
        "bt_best_model = dt_grid_search.best_estimator_\n",
        "\n",
        "# fit best bagging tree \n",
        "bt_best_model.fit(X_train, y_train)\n",
        "\n",
        "# score best bagging tree\n",
        "bt_best_model.score(X_test, y_test)"
      ],
      "metadata": {
        "colab": {
          "base_uri": "https://localhost:8080/"
        },
        "id": "Ce3CXjdm5kil",
        "outputId": "2c740e04-cfd7-4eb2-b7c0-2d40b70d294f"
      },
      "execution_count": 78,
      "outputs": [
        {
          "output_type": "execute_result",
          "data": {
            "text/plain": [
              "0.9374021909233177"
            ]
          },
          "metadata": {},
          "execution_count": 78
        }
      ]
    },
    {
      "cell_type": "code",
      "source": [
        "bt_best_test_preds = bt_best_model.predict(X_test)\n",
        "print(classification_report(y_test, bt_best_test_preds))"
      ],
      "metadata": {
        "colab": {
          "base_uri": "https://localhost:8080/"
        },
        "id": "3F3bzQ5gjJMX",
        "outputId": "ce6a82b8-c212-473a-fa8b-7828331b84a1"
      },
      "execution_count": 185,
      "outputs": [
        {
          "output_type": "stream",
          "name": "stdout",
          "text": [
            "              precision    recall  f1-score   support\n",
            "\n",
            "           0       0.94      1.00      0.97      1198\n",
            "           1       0.00      0.00      0.00        80\n",
            "\n",
            "    accuracy                           0.94      1278\n",
            "   macro avg       0.47      0.50      0.48      1278\n",
            "weighted avg       0.88      0.94      0.91      1278\n",
            "\n"
          ]
        },
        {
          "output_type": "stream",
          "name": "stderr",
          "text": [
            "/usr/local/lib/python3.7/dist-packages/sklearn/metrics/_classification.py:1318: UndefinedMetricWarning: Precision and F-score are ill-defined and being set to 0.0 in labels with no predicted samples. Use `zero_division` parameter to control this behavior.\n",
            "  _warn_prf(average, modifier, msg_start, len(result))\n",
            "/usr/local/lib/python3.7/dist-packages/sklearn/metrics/_classification.py:1318: UndefinedMetricWarning: Precision and F-score are ill-defined and being set to 0.0 in labels with no predicted samples. Use `zero_division` parameter to control this behavior.\n",
            "  _warn_prf(average, modifier, msg_start, len(result))\n",
            "/usr/local/lib/python3.7/dist-packages/sklearn/metrics/_classification.py:1318: UndefinedMetricWarning: Precision and F-score are ill-defined and being set to 0.0 in labels with no predicted samples. Use `zero_division` parameter to control this behavior.\n",
            "  _warn_prf(average, modifier, msg_start, len(result))\n"
          ]
        }
      ]
    },
    {
      "cell_type": "markdown",
      "source": [
        "##### **Bagged Tree with PCA**"
      ],
      "metadata": {
        "id": "ycJg2SuicE9l"
      }
    },
    {
      "cell_type": "code",
      "source": [
        "# Create a transformer pipeline \n",
        "# transformer = make_pipeline(scaler, PCA(n_components=.95))"
      ],
      "metadata": {
        "id": "6OEsuHcLcdz1"
      },
      "execution_count": null,
      "outputs": []
    },
    {
      "cell_type": "markdown",
      "source": [
        "#### **Random Forest**"
      ],
      "metadata": {
        "id": "W1MzKP2RngO7"
      }
    },
    {
      "cell_type": "code",
      "source": [
        "# Create a model pipeline with the preprocessor and a Random Forest model\n",
        "rf_clf = RandomForestClassifier(random_state=42)\n",
        "rf_clf_pipe = make_pipeline(preprocessor, rf_clf)\n",
        "rf_clf_pipe.fit(X_train, y_train) "
      ],
      "metadata": {
        "colab": {
          "base_uri": "https://localhost:8080/"
        },
        "id": "1BOuJ-ZpCvvw",
        "outputId": "04dab80a-42f5-4028-bb11-7e97fee10e15"
      },
      "execution_count": 79,
      "outputs": [
        {
          "output_type": "execute_result",
          "data": {
            "text/plain": [
              "Pipeline(steps=[('columntransformer',\n",
              "                 ColumnTransformer(remainder='passthrough',\n",
              "                                   transformers=[('onehotencoder',\n",
              "                                                  OneHotEncoder(handle_unknown='ignore',\n",
              "                                                                sparse=False),\n",
              "                                                  <sklearn.compose._column_transformer.make_column_selector object at 0x7f73d04544d0>),\n",
              "                                                 ('pipeline',\n",
              "                                                  Pipeline(steps=[('simpleimputer',\n",
              "                                                                   SimpleImputer()),\n",
              "                                                                  ('standardscaler',\n",
              "                                                                   StandardScaler())]),\n",
              "                                                  <sklearn.compose._column_transformer.make_column_selector object at 0x7f73d321a950>)])),\n",
              "                ('randomforestclassifier',\n",
              "                 RandomForestClassifier(random_state=42))])"
            ]
          },
          "metadata": {},
          "execution_count": 79
        }
      ]
    },
    {
      "cell_type": "code",
      "source": [
        "eval_classification(rf_clf_pipe, X_train, X_test, y_train, y_test)"
      ],
      "metadata": {
        "id": "cIcV9L_wE3hW",
        "colab": {
          "base_uri": "https://localhost:8080/"
        },
        "outputId": "0e9cb47f-8065-41ee-d4a1-372dc2bc1f54"
      },
      "execution_count": 80,
      "outputs": [
        {
          "output_type": "stream",
          "name": "stdout",
          "text": [
            "Model Training Accuracy: 1.0000\n",
            "Model Test Accuracy: 0.9374\n"
          ]
        }
      ]
    },
    {
      "cell_type": "code",
      "source": [
        "rf_test_preds = rf_clf_pipe.predict(X_test)\n",
        "print(classification_report(y_test, rf_test_preds))"
      ],
      "metadata": {
        "colab": {
          "base_uri": "https://localhost:8080/"
        },
        "id": "u0rwnxn3jU_n",
        "outputId": "886b2966-9610-4665-af7c-eb2752a1af67"
      },
      "execution_count": 187,
      "outputs": [
        {
          "output_type": "stream",
          "name": "stdout",
          "text": [
            "              precision    recall  f1-score   support\n",
            "\n",
            "           0       0.94      1.00      0.97      1198\n",
            "           1       0.00      0.00      0.00        80\n",
            "\n",
            "    accuracy                           0.94      1278\n",
            "   macro avg       0.47      0.50      0.48      1278\n",
            "weighted avg       0.88      0.94      0.91      1278\n",
            "\n"
          ]
        },
        {
          "output_type": "stream",
          "name": "stderr",
          "text": [
            "/usr/local/lib/python3.7/dist-packages/sklearn/metrics/_classification.py:1318: UndefinedMetricWarning: Precision and F-score are ill-defined and being set to 0.0 in labels with no predicted samples. Use `zero_division` parameter to control this behavior.\n",
            "  _warn_prf(average, modifier, msg_start, len(result))\n",
            "/usr/local/lib/python3.7/dist-packages/sklearn/metrics/_classification.py:1318: UndefinedMetricWarning: Precision and F-score are ill-defined and being set to 0.0 in labels with no predicted samples. Use `zero_division` parameter to control this behavior.\n",
            "  _warn_prf(average, modifier, msg_start, len(result))\n",
            "/usr/local/lib/python3.7/dist-packages/sklearn/metrics/_classification.py:1318: UndefinedMetricWarning: Precision and F-score are ill-defined and being set to 0.0 in labels with no predicted samples. Use `zero_division` parameter to control this behavior.\n",
            "  _warn_prf(average, modifier, msg_start, len(result))\n"
          ]
        }
      ]
    },
    {
      "cell_type": "markdown",
      "source": [
        "**Random Forest Tuning**"
      ],
      "metadata": {
        "id": "Bka0w5SnPrZp"
      }
    },
    {
      "cell_type": "code",
      "source": [
        "# instantiate a random forest model and get model parameters\n",
        "rf_model = RandomForestClassifier(random_state=42)\n",
        "\n",
        "rf_model_pipe = make_pipeline(preprocessor, rf_model)\n",
        "\n",
        "rf_model_pipe.get_params()"
      ],
      "metadata": {
        "colab": {
          "base_uri": "https://localhost:8080/"
        },
        "id": "eWqMsGOh8o8r",
        "outputId": "88336c47-6d6d-426a-a87d-b18f7f6ad30a"
      },
      "execution_count": 81,
      "outputs": [
        {
          "output_type": "execute_result",
          "data": {
            "text/plain": [
              "{'memory': None,\n",
              " 'steps': [('columntransformer', ColumnTransformer(remainder='passthrough',\n",
              "                     transformers=[('onehotencoder',\n",
              "                                    OneHotEncoder(handle_unknown='ignore',\n",
              "                                                  sparse=False),\n",
              "                                    <sklearn.compose._column_transformer.make_column_selector object at 0x7f73d04544d0>),\n",
              "                                   ('pipeline',\n",
              "                                    Pipeline(steps=[('simpleimputer',\n",
              "                                                     SimpleImputer()),\n",
              "                                                    ('standardscaler',\n",
              "                                                     StandardScaler())]),\n",
              "                                    <sklearn.compose._column_transformer.make_column_selector object at 0x7f73d321a950>)])),\n",
              "  ('randomforestclassifier', RandomForestClassifier(random_state=42))],\n",
              " 'verbose': False,\n",
              " 'columntransformer': ColumnTransformer(remainder='passthrough',\n",
              "                   transformers=[('onehotencoder',\n",
              "                                  OneHotEncoder(handle_unknown='ignore',\n",
              "                                                sparse=False),\n",
              "                                  <sklearn.compose._column_transformer.make_column_selector object at 0x7f73d04544d0>),\n",
              "                                 ('pipeline',\n",
              "                                  Pipeline(steps=[('simpleimputer',\n",
              "                                                   SimpleImputer()),\n",
              "                                                  ('standardscaler',\n",
              "                                                   StandardScaler())]),\n",
              "                                  <sklearn.compose._column_transformer.make_column_selector object at 0x7f73d321a950>)]),\n",
              " 'randomforestclassifier': RandomForestClassifier(random_state=42),\n",
              " 'columntransformer__n_jobs': None,\n",
              " 'columntransformer__remainder': 'passthrough',\n",
              " 'columntransformer__sparse_threshold': 0.3,\n",
              " 'columntransformer__transformer_weights': None,\n",
              " 'columntransformer__transformers': [('onehotencoder',\n",
              "   OneHotEncoder(handle_unknown='ignore', sparse=False),\n",
              "   <sklearn.compose._column_transformer.make_column_selector at 0x7f73d04544d0>),\n",
              "  ('pipeline', Pipeline(steps=[('simpleimputer', SimpleImputer()),\n",
              "                   ('standardscaler', StandardScaler())]), <sklearn.compose._column_transformer.make_column_selector at 0x7f73d321a950>)],\n",
              " 'columntransformer__verbose': False,\n",
              " 'columntransformer__verbose_feature_names_out': True,\n",
              " 'columntransformer__onehotencoder': OneHotEncoder(handle_unknown='ignore', sparse=False),\n",
              " 'columntransformer__pipeline': Pipeline(steps=[('simpleimputer', SimpleImputer()),\n",
              "                 ('standardscaler', StandardScaler())]),\n",
              " 'columntransformer__onehotencoder__categories': 'auto',\n",
              " 'columntransformer__onehotencoder__drop': None,\n",
              " 'columntransformer__onehotencoder__dtype': numpy.float64,\n",
              " 'columntransformer__onehotencoder__handle_unknown': 'ignore',\n",
              " 'columntransformer__onehotencoder__sparse': False,\n",
              " 'columntransformer__pipeline__memory': None,\n",
              " 'columntransformer__pipeline__steps': [('simpleimputer', SimpleImputer()),\n",
              "  ('standardscaler', StandardScaler())],\n",
              " 'columntransformer__pipeline__verbose': False,\n",
              " 'columntransformer__pipeline__simpleimputer': SimpleImputer(),\n",
              " 'columntransformer__pipeline__standardscaler': StandardScaler(),\n",
              " 'columntransformer__pipeline__simpleimputer__add_indicator': False,\n",
              " 'columntransformer__pipeline__simpleimputer__copy': True,\n",
              " 'columntransformer__pipeline__simpleimputer__fill_value': None,\n",
              " 'columntransformer__pipeline__simpleimputer__missing_values': nan,\n",
              " 'columntransformer__pipeline__simpleimputer__strategy': 'mean',\n",
              " 'columntransformer__pipeline__simpleimputer__verbose': 0,\n",
              " 'columntransformer__pipeline__standardscaler__copy': True,\n",
              " 'columntransformer__pipeline__standardscaler__with_mean': True,\n",
              " 'columntransformer__pipeline__standardscaler__with_std': True,\n",
              " 'randomforestclassifier__bootstrap': True,\n",
              " 'randomforestclassifier__ccp_alpha': 0.0,\n",
              " 'randomforestclassifier__class_weight': None,\n",
              " 'randomforestclassifier__criterion': 'gini',\n",
              " 'randomforestclassifier__max_depth': None,\n",
              " 'randomforestclassifier__max_features': 'auto',\n",
              " 'randomforestclassifier__max_leaf_nodes': None,\n",
              " 'randomforestclassifier__max_samples': None,\n",
              " 'randomforestclassifier__min_impurity_decrease': 0.0,\n",
              " 'randomforestclassifier__min_samples_leaf': 1,\n",
              " 'randomforestclassifier__min_samples_split': 2,\n",
              " 'randomforestclassifier__min_weight_fraction_leaf': 0.0,\n",
              " 'randomforestclassifier__n_estimators': 100,\n",
              " 'randomforestclassifier__n_jobs': None,\n",
              " 'randomforestclassifier__oob_score': False,\n",
              " 'randomforestclassifier__random_state': 42,\n",
              " 'randomforestclassifier__verbose': 0,\n",
              " 'randomforestclassifier__warm_start': False}"
            ]
          },
          "metadata": {},
          "execution_count": 81
        }
      ]
    },
    {
      "cell_type": "code",
      "source": [
        "# create random forest parameter grid dictionary\n",
        "rf_param_grid = {'randomforestclassifier__max_depth':(1, 20),\n",
        "                  'randomforestclassifier__max_leaf_nodes': (1, 500),\n",
        "                  'randomforestclassifier__n_estimators': (2, 40)}"
      ],
      "metadata": {
        "id": "sXtw8zBC81Te"
      },
      "execution_count": 82,
      "outputs": []
    },
    {
      "cell_type": "code",
      "source": [
        "# instantiate random forest GridSearchCV Class\n",
        "rf_grid_search = GridSearchCV(rf_model_pipe, rf_param_grid)\n"
      ],
      "metadata": {
        "id": "pG3bjPo19NL1"
      },
      "execution_count": 83,
      "outputs": []
    },
    {
      "cell_type": "code",
      "source": [
        "# fit random forest GridSeachCv on training data\n",
        "rf_grid_search.fit(X_train, y_train)"
      ],
      "metadata": {
        "colab": {
          "base_uri": "https://localhost:8080/"
        },
        "id": "t4qt5dNL9Rsr",
        "outputId": "d59a89c3-63d5-46b4-fdf3-1dfb7356552e"
      },
      "execution_count": 84,
      "outputs": [
        {
          "output_type": "stream",
          "name": "stderr",
          "text": [
            "/usr/local/lib/python3.7/dist-packages/sklearn/model_selection/_validation.py:372: FitFailedWarning: \n",
            "20 fits failed out of a total of 40.\n",
            "The score on these train-test partitions for these parameters will be set to nan.\n",
            "If these failures are not expected, you can try to debug them by setting error_score='raise'.\n",
            "\n",
            "Below are more details about the failures:\n",
            "--------------------------------------------------------------------------------\n",
            "20 fits failed with the following error:\n",
            "Traceback (most recent call last):\n",
            "  File \"/usr/local/lib/python3.7/dist-packages/sklearn/model_selection/_validation.py\", line 680, in _fit_and_score\n",
            "    estimator.fit(X_train, y_train, **fit_params)\n",
            "  File \"/usr/local/lib/python3.7/dist-packages/sklearn/pipeline.py\", line 394, in fit\n",
            "    self._final_estimator.fit(Xt, y, **fit_params_last_step)\n",
            "  File \"/usr/local/lib/python3.7/dist-packages/sklearn/ensemble/_forest.py\", line 467, in fit\n",
            "    for i, t in enumerate(trees)\n",
            "  File \"/usr/local/lib/python3.7/dist-packages/joblib/parallel.py\", line 1085, in __call__\n",
            "    if self.dispatch_one_batch(iterator):\n",
            "  File \"/usr/local/lib/python3.7/dist-packages/joblib/parallel.py\", line 901, in dispatch_one_batch\n",
            "    self._dispatch(tasks)\n",
            "  File \"/usr/local/lib/python3.7/dist-packages/joblib/parallel.py\", line 819, in _dispatch\n",
            "    job = self._backend.apply_async(batch, callback=cb)\n",
            "  File \"/usr/local/lib/python3.7/dist-packages/joblib/_parallel_backends.py\", line 208, in apply_async\n",
            "    result = ImmediateResult(func)\n",
            "  File \"/usr/local/lib/python3.7/dist-packages/joblib/_parallel_backends.py\", line 597, in __init__\n",
            "    self.results = batch()\n",
            "  File \"/usr/local/lib/python3.7/dist-packages/joblib/parallel.py\", line 289, in __call__\n",
            "    for func, args, kwargs in self.items]\n",
            "  File \"/usr/local/lib/python3.7/dist-packages/joblib/parallel.py\", line 289, in <listcomp>\n",
            "    for func, args, kwargs in self.items]\n",
            "  File \"/usr/local/lib/python3.7/dist-packages/sklearn/utils/fixes.py\", line 216, in __call__\n",
            "    return self.function(*args, **kwargs)\n",
            "  File \"/usr/local/lib/python3.7/dist-packages/sklearn/ensemble/_forest.py\", line 185, in _parallel_build_trees\n",
            "    tree.fit(X, y, sample_weight=curr_sample_weight, check_input=False)\n",
            "  File \"/usr/local/lib/python3.7/dist-packages/sklearn/tree/_classes.py\", line 942, in fit\n",
            "    X_idx_sorted=X_idx_sorted,\n",
            "  File \"/usr/local/lib/python3.7/dist-packages/sklearn/tree/_classes.py\", line 316, in fit\n",
            "    max_leaf_nodes\n",
            "ValueError: max_leaf_nodes 1 must be either None or larger than 1\n",
            "\n",
            "  warnings.warn(some_fits_failed_message, FitFailedWarning)\n",
            "/usr/local/lib/python3.7/dist-packages/sklearn/model_selection/_search.py:972: UserWarning: One or more of the test scores are non-finite: [       nan        nan 0.95588625 0.95588625        nan        nan\n",
            " 0.948838   0.95536405]\n",
            "  category=UserWarning,\n"
          ]
        },
        {
          "output_type": "execute_result",
          "data": {
            "text/plain": [
              "GridSearchCV(estimator=Pipeline(steps=[('columntransformer',\n",
              "                                        ColumnTransformer(remainder='passthrough',\n",
              "                                                          transformers=[('onehotencoder',\n",
              "                                                                         OneHotEncoder(handle_unknown='ignore',\n",
              "                                                                                       sparse=False),\n",
              "                                                                         <sklearn.compose._column_transformer.make_column_selector object at 0x7f73d04544d0>),\n",
              "                                                                        ('pipeline',\n",
              "                                                                         Pipeline(steps=[('simpleimputer',\n",
              "                                                                                          SimpleImputer()),\n",
              "                                                                                         ('standardscaler',\n",
              "                                                                                          StandardScaler())]),\n",
              "                                                                         <sklearn.compose._column_transformer.make_column_selector object at 0x7f73d321a950>)])),\n",
              "                                       ('randomforestclassifier',\n",
              "                                        RandomForestClassifier(random_state=42))]),\n",
              "             param_grid={'randomforestclassifier__max_depth': (1, 20),\n",
              "                         'randomforestclassifier__max_leaf_nodes': (1, 500),\n",
              "                         'randomforestclassifier__n_estimators': (2, 40)})"
            ]
          },
          "metadata": {},
          "execution_count": 84
        }
      ]
    },
    {
      "cell_type": "code",
      "source": [
        "# examine random forest best parameters found by search\n",
        "rf_grid_search.best_params_"
      ],
      "metadata": {
        "colab": {
          "base_uri": "https://localhost:8080/"
        },
        "id": "hYIzQSn09a61",
        "outputId": "798a7377-b2c0-4b3c-abce-0485c5a2d140"
      },
      "execution_count": 85,
      "outputs": [
        {
          "output_type": "execute_result",
          "data": {
            "text/plain": [
              "{'randomforestclassifier__max_depth': 1,\n",
              " 'randomforestclassifier__max_leaf_nodes': 500,\n",
              " 'randomforestclassifier__n_estimators': 2}"
            ]
          },
          "metadata": {},
          "execution_count": 85
        }
      ]
    },
    {
      "cell_type": "code",
      "source": [
        "# instantiate best bagging Tree using best estimator\n",
        "rf_best_model = rf_grid_search.best_estimator_\n",
        "\n",
        "# fit best random forest\n",
        "rf_best_model.fit(X_train, y_train)\n",
        "\n",
        "# score best random forest\n",
        "rf_best_model.score(X_test, y_test)\n",
        "\n"
      ],
      "metadata": {
        "colab": {
          "base_uri": "https://localhost:8080/"
        },
        "id": "kqVgzBeU8FLr",
        "outputId": "9862b4cc-5e8c-4e14-d043-8f2957f4c3ce"
      },
      "execution_count": 86,
      "outputs": [
        {
          "output_type": "execute_result",
          "data": {
            "text/plain": [
              "0.9374021909233177"
            ]
          },
          "metadata": {},
          "execution_count": 86
        }
      ]
    },
    {
      "cell_type": "code",
      "source": [
        "rf_best_test_preds = rf_best_model.predict(X_test)\n",
        "print(classification_report(y_test, rf_best_test_preds))"
      ],
      "metadata": {
        "colab": {
          "base_uri": "https://localhost:8080/"
        },
        "id": "QGausH5XjqTP",
        "outputId": "cd5c190e-c991-4c88-d294-dd386068b81a"
      },
      "execution_count": 188,
      "outputs": [
        {
          "output_type": "stream",
          "name": "stdout",
          "text": [
            "              precision    recall  f1-score   support\n",
            "\n",
            "           0       0.94      1.00      0.97      1198\n",
            "           1       0.00      0.00      0.00        80\n",
            "\n",
            "    accuracy                           0.94      1278\n",
            "   macro avg       0.47      0.50      0.48      1278\n",
            "weighted avg       0.88      0.94      0.91      1278\n",
            "\n"
          ]
        },
        {
          "output_type": "stream",
          "name": "stderr",
          "text": [
            "/usr/local/lib/python3.7/dist-packages/sklearn/metrics/_classification.py:1318: UndefinedMetricWarning: Precision and F-score are ill-defined and being set to 0.0 in labels with no predicted samples. Use `zero_division` parameter to control this behavior.\n",
            "  _warn_prf(average, modifier, msg_start, len(result))\n",
            "/usr/local/lib/python3.7/dist-packages/sklearn/metrics/_classification.py:1318: UndefinedMetricWarning: Precision and F-score are ill-defined and being set to 0.0 in labels with no predicted samples. Use `zero_division` parameter to control this behavior.\n",
            "  _warn_prf(average, modifier, msg_start, len(result))\n",
            "/usr/local/lib/python3.7/dist-packages/sklearn/metrics/_classification.py:1318: UndefinedMetricWarning: Precision and F-score are ill-defined and being set to 0.0 in labels with no predicted samples. Use `zero_division` parameter to control this behavior.\n",
            "  _warn_prf(average, modifier, msg_start, len(result))\n"
          ]
        }
      ]
    },
    {
      "cell_type": "markdown",
      "source": [
        "#### **KNN**"
      ],
      "metadata": {
        "id": "fTbr7uRAniGx"
      }
    },
    {
      "cell_type": "code",
      "source": [
        "# Create a model pipeline with the preprocessor and a KNN model\n",
        "knn = KNeighborsClassifier()\n",
        "knn_pipe = make_pipeline(preprocessor, knn)\n",
        "knn_pipe.fit(X_train, y_train) \n"
      ],
      "metadata": {
        "colab": {
          "base_uri": "https://localhost:8080/"
        },
        "id": "S6-w4PSO2gCK",
        "outputId": "d90a1231-830f-49e2-c7d9-f4121821f88d"
      },
      "execution_count": 88,
      "outputs": [
        {
          "output_type": "execute_result",
          "data": {
            "text/plain": [
              "Pipeline(steps=[('columntransformer',\n",
              "                 ColumnTransformer(remainder='passthrough',\n",
              "                                   transformers=[('onehotencoder',\n",
              "                                                  OneHotEncoder(handle_unknown='ignore',\n",
              "                                                                sparse=False),\n",
              "                                                  <sklearn.compose._column_transformer.make_column_selector object at 0x7f73d04544d0>),\n",
              "                                                 ('pipeline',\n",
              "                                                  Pipeline(steps=[('simpleimputer',\n",
              "                                                                   SimpleImputer()),\n",
              "                                                                  ('standardscaler',\n",
              "                                                                   StandardScaler())]),\n",
              "                                                  <sklearn.compose._column_transformer.make_column_selector object at 0x7f73d321a950>)])),\n",
              "                ('kneighborsclassifier', KNeighborsClassifier())])"
            ]
          },
          "metadata": {},
          "execution_count": 88
        }
      ]
    },
    {
      "cell_type": "code",
      "source": [
        "eval_classification(knn_pipe, X_train, X_test, y_train, y_test)"
      ],
      "metadata": {
        "colab": {
          "base_uri": "https://localhost:8080/"
        },
        "id": "PL5eqmH6E8QQ",
        "outputId": "11045fca-fce4-498f-b532-847837af57b5"
      },
      "execution_count": 89,
      "outputs": [
        {
          "output_type": "stream",
          "name": "stdout",
          "text": [
            "Model Training Accuracy: 0.9575\n",
            "Model Test Accuracy: 0.9351\n"
          ]
        }
      ]
    },
    {
      "cell_type": "code",
      "source": [
        "knn_test_preds = knn_pipe.predict(X_test)\n",
        "print(classification_report(y_test, knn_test_preds))"
      ],
      "metadata": {
        "colab": {
          "base_uri": "https://localhost:8080/"
        },
        "id": "tyOaBSn3hVpw",
        "outputId": "b3227c96-1bd7-4935-bff6-7d1493f2f413"
      },
      "execution_count": 180,
      "outputs": [
        {
          "output_type": "stream",
          "name": "stdout",
          "text": [
            "              precision    recall  f1-score   support\n",
            "\n",
            "           0       0.94      1.00      0.97      1198\n",
            "           1       0.00      0.00      0.00        80\n",
            "\n",
            "    accuracy                           0.94      1278\n",
            "   macro avg       0.47      0.50      0.48      1278\n",
            "weighted avg       0.88      0.94      0.91      1278\n",
            "\n"
          ]
        }
      ]
    },
    {
      "cell_type": "markdown",
      "source": [
        "##### **KNN Tuning**"
      ],
      "metadata": {
        "id": "99aJPDLISSW7"
      }
    },
    {
      "cell_type": "code",
      "source": [
        "# instantiate a knn model and create a parameter grid dictionary\n",
        "knn_model = KNeighborsClassifier()\n",
        "\n",
        "knn_model_pipe = make_pipeline(preprocessor, knn_model)\n",
        "\n",
        "knn_model_pipe.get_params()\n"
      ],
      "metadata": {
        "colab": {
          "base_uri": "https://localhost:8080/"
        },
        "id": "z79n_NETDlqD",
        "outputId": "febcae0d-d716-401c-fdd1-664776c2a4e4"
      },
      "execution_count": 90,
      "outputs": [
        {
          "output_type": "execute_result",
          "data": {
            "text/plain": [
              "{'memory': None,\n",
              " 'steps': [('columntransformer', ColumnTransformer(remainder='passthrough',\n",
              "                     transformers=[('onehotencoder',\n",
              "                                    OneHotEncoder(handle_unknown='ignore',\n",
              "                                                  sparse=False),\n",
              "                                    <sklearn.compose._column_transformer.make_column_selector object at 0x7f73d04544d0>),\n",
              "                                   ('pipeline',\n",
              "                                    Pipeline(steps=[('simpleimputer',\n",
              "                                                     SimpleImputer()),\n",
              "                                                    ('standardscaler',\n",
              "                                                     StandardScaler())]),\n",
              "                                    <sklearn.compose._column_transformer.make_column_selector object at 0x7f73d321a950>)])),\n",
              "  ('kneighborsclassifier', KNeighborsClassifier())],\n",
              " 'verbose': False,\n",
              " 'columntransformer': ColumnTransformer(remainder='passthrough',\n",
              "                   transformers=[('onehotencoder',\n",
              "                                  OneHotEncoder(handle_unknown='ignore',\n",
              "                                                sparse=False),\n",
              "                                  <sklearn.compose._column_transformer.make_column_selector object at 0x7f73d04544d0>),\n",
              "                                 ('pipeline',\n",
              "                                  Pipeline(steps=[('simpleimputer',\n",
              "                                                   SimpleImputer()),\n",
              "                                                  ('standardscaler',\n",
              "                                                   StandardScaler())]),\n",
              "                                  <sklearn.compose._column_transformer.make_column_selector object at 0x7f73d321a950>)]),\n",
              " 'kneighborsclassifier': KNeighborsClassifier(),\n",
              " 'columntransformer__n_jobs': None,\n",
              " 'columntransformer__remainder': 'passthrough',\n",
              " 'columntransformer__sparse_threshold': 0.3,\n",
              " 'columntransformer__transformer_weights': None,\n",
              " 'columntransformer__transformers': [('onehotencoder',\n",
              "   OneHotEncoder(handle_unknown='ignore', sparse=False),\n",
              "   <sklearn.compose._column_transformer.make_column_selector at 0x7f73d04544d0>),\n",
              "  ('pipeline', Pipeline(steps=[('simpleimputer', SimpleImputer()),\n",
              "                   ('standardscaler', StandardScaler())]), <sklearn.compose._column_transformer.make_column_selector at 0x7f73d321a950>)],\n",
              " 'columntransformer__verbose': False,\n",
              " 'columntransformer__verbose_feature_names_out': True,\n",
              " 'columntransformer__onehotencoder': OneHotEncoder(handle_unknown='ignore', sparse=False),\n",
              " 'columntransformer__pipeline': Pipeline(steps=[('simpleimputer', SimpleImputer()),\n",
              "                 ('standardscaler', StandardScaler())]),\n",
              " 'columntransformer__onehotencoder__categories': 'auto',\n",
              " 'columntransformer__onehotencoder__drop': None,\n",
              " 'columntransformer__onehotencoder__dtype': numpy.float64,\n",
              " 'columntransformer__onehotencoder__handle_unknown': 'ignore',\n",
              " 'columntransformer__onehotencoder__sparse': False,\n",
              " 'columntransformer__pipeline__memory': None,\n",
              " 'columntransformer__pipeline__steps': [('simpleimputer', SimpleImputer()),\n",
              "  ('standardscaler', StandardScaler())],\n",
              " 'columntransformer__pipeline__verbose': False,\n",
              " 'columntransformer__pipeline__simpleimputer': SimpleImputer(),\n",
              " 'columntransformer__pipeline__standardscaler': StandardScaler(),\n",
              " 'columntransformer__pipeline__simpleimputer__add_indicator': False,\n",
              " 'columntransformer__pipeline__simpleimputer__copy': True,\n",
              " 'columntransformer__pipeline__simpleimputer__fill_value': None,\n",
              " 'columntransformer__pipeline__simpleimputer__missing_values': nan,\n",
              " 'columntransformer__pipeline__simpleimputer__strategy': 'mean',\n",
              " 'columntransformer__pipeline__simpleimputer__verbose': 0,\n",
              " 'columntransformer__pipeline__standardscaler__copy': True,\n",
              " 'columntransformer__pipeline__standardscaler__with_mean': True,\n",
              " 'columntransformer__pipeline__standardscaler__with_std': True,\n",
              " 'kneighborsclassifier__algorithm': 'auto',\n",
              " 'kneighborsclassifier__leaf_size': 30,\n",
              " 'kneighborsclassifier__metric': 'minkowski',\n",
              " 'kneighborsclassifier__metric_params': None,\n",
              " 'kneighborsclassifier__n_jobs': None,\n",
              " 'kneighborsclassifier__n_neighbors': 5,\n",
              " 'kneighborsclassifier__p': 2,\n",
              " 'kneighborsclassifier__weights': 'uniform'}"
            ]
          },
          "metadata": {},
          "execution_count": 90
        }
      ]
    },
    {
      "cell_type": "code",
      "source": [
        "knn_param_grid = {'kneighborsclassifier__leaf_size':(1, 50),\n",
        "                  'kneighborsclassifier__n_neighbors': (1, 50),\n",
        "                  'kneighborsclassifier__p': (2, 50)}"
      ],
      "metadata": {
        "id": "04As_5yAD7MK"
      },
      "execution_count": 91,
      "outputs": []
    },
    {
      "cell_type": "code",
      "source": [
        "# instantiate knn GridSearchCV Class\n",
        "knn_grid_search = GridSearchCV(knn_model_pipe, knn_param_grid)"
      ],
      "metadata": {
        "id": "R_ZrvgqpEQ0r"
      },
      "execution_count": 92,
      "outputs": []
    },
    {
      "cell_type": "code",
      "source": [
        "# fit knn GridSeachCv on training data\n",
        "knn_grid_search.fit(X_train, y_train)"
      ],
      "metadata": {
        "colab": {
          "base_uri": "https://localhost:8080/"
        },
        "id": "_GuI87RaEWyy",
        "outputId": "6bd592ce-a51e-4541-c219-5ef34d22d6ee"
      },
      "execution_count": 93,
      "outputs": [
        {
          "output_type": "execute_result",
          "data": {
            "text/plain": [
              "GridSearchCV(estimator=Pipeline(steps=[('columntransformer',\n",
              "                                        ColumnTransformer(remainder='passthrough',\n",
              "                                                          transformers=[('onehotencoder',\n",
              "                                                                         OneHotEncoder(handle_unknown='ignore',\n",
              "                                                                                       sparse=False),\n",
              "                                                                         <sklearn.compose._column_transformer.make_column_selector object at 0x7f73d04544d0>),\n",
              "                                                                        ('pipeline',\n",
              "                                                                         Pipeline(steps=[('simpleimputer',\n",
              "                                                                                          SimpleImputer()),\n",
              "                                                                                         ('standardscaler',\n",
              "                                                                                          StandardScaler())]),\n",
              "                                                                         <sklearn.compose._column_transformer.make_column_selector object at 0x7f73d321a950>)])),\n",
              "                                       ('kneighborsclassifier',\n",
              "                                        KNeighborsClassifier())]),\n",
              "             param_grid={'kneighborsclassifier__leaf_size': (1, 50),\n",
              "                         'kneighborsclassifier__n_neighbors': (1, 50),\n",
              "                         'kneighborsclassifier__p': (2, 50)})"
            ]
          },
          "metadata": {},
          "execution_count": 93
        }
      ]
    },
    {
      "cell_type": "code",
      "source": [
        "# examine knn best parameters found by search\n",
        "knn_grid_search.best_params_\n"
      ],
      "metadata": {
        "colab": {
          "base_uri": "https://localhost:8080/"
        },
        "id": "pStnKciNE9d6",
        "outputId": "075e3300-d55c-4cc7-f0b5-f004f93d18d0"
      },
      "execution_count": 94,
      "outputs": [
        {
          "output_type": "execute_result",
          "data": {
            "text/plain": [
              "{'kneighborsclassifier__leaf_size': 1,\n",
              " 'kneighborsclassifier__n_neighbors': 50,\n",
              " 'kneighborsclassifier__p': 2}"
            ]
          },
          "metadata": {},
          "execution_count": 94
        }
      ]
    },
    {
      "cell_type": "code",
      "source": [
        "\n",
        "knn_best_model = knn_grid_search.best_estimator_\n",
        "\n",
        "knn_best_model.fit(X_train, y_train)\n",
        "\n",
        "knn_best_model.score(X_test, y_test)\n",
        "\n"
      ],
      "metadata": {
        "colab": {
          "base_uri": "https://localhost:8080/"
        },
        "id": "PybDGL9a-aoV",
        "outputId": "98d3f56d-dff8-4409-aac0-d6323a0d5300"
      },
      "execution_count": 95,
      "outputs": [
        {
          "output_type": "execute_result",
          "data": {
            "text/plain": [
              "0.9374021909233177"
            ]
          },
          "metadata": {},
          "execution_count": 95
        }
      ]
    },
    {
      "cell_type": "code",
      "source": [
        "knn_best_test_preds = knn_best_model.predict(X_test)\n",
        "print(classification_report(y_test, knn_best_test_preds))"
      ],
      "metadata": {
        "colab": {
          "base_uri": "https://localhost:8080/"
        },
        "id": "mlx-H800iJln",
        "outputId": "8e96b34b-bca5-4851-c0ac-1c1fd1772061"
      },
      "execution_count": 181,
      "outputs": [
        {
          "output_type": "stream",
          "name": "stdout",
          "text": [
            "              precision    recall  f1-score   support\n",
            "\n",
            "           0       0.94      1.00      0.97      1198\n",
            "           1       0.00      0.00      0.00        80\n",
            "\n",
            "    accuracy                           0.94      1278\n",
            "   macro avg       0.47      0.50      0.48      1278\n",
            "weighted avg       0.88      0.94      0.91      1278\n",
            "\n"
          ]
        },
        {
          "output_type": "stream",
          "name": "stderr",
          "text": [
            "/usr/local/lib/python3.7/dist-packages/sklearn/metrics/_classification.py:1318: UndefinedMetricWarning: Precision and F-score are ill-defined and being set to 0.0 in labels with no predicted samples. Use `zero_division` parameter to control this behavior.\n",
            "  _warn_prf(average, modifier, msg_start, len(result))\n",
            "/usr/local/lib/python3.7/dist-packages/sklearn/metrics/_classification.py:1318: UndefinedMetricWarning: Precision and F-score are ill-defined and being set to 0.0 in labels with no predicted samples. Use `zero_division` parameter to control this behavior.\n",
            "  _warn_prf(average, modifier, msg_start, len(result))\n",
            "/usr/local/lib/python3.7/dist-packages/sklearn/metrics/_classification.py:1318: UndefinedMetricWarning: Precision and F-score are ill-defined and being set to 0.0 in labels with no predicted samples. Use `zero_division` parameter to control this behavior.\n",
            "  _warn_prf(average, modifier, msg_start, len(result))\n"
          ]
        }
      ]
    },
    {
      "cell_type": "markdown",
      "source": [
        "##### **KNN with PCA**"
      ],
      "metadata": {
        "id": "PdwBKxkZcpHW"
      }
    },
    {
      "cell_type": "code",
      "source": [
        "# Create a transformer pipeline \n",
        "transformer = make_pipeline(preprocessor, PCA(n_components=.95))"
      ],
      "metadata": {
        "id": "lFKv6aUWcoug"
      },
      "execution_count": 96,
      "outputs": []
    },
    {
      "cell_type": "code",
      "source": [
        "# instantiate the KNN model with .95 PCA level\n",
        "knn_95 = KNeighborsClassifier(n_neighbors = 10, p = 2, leaf_size = 1)\n",
        "\n",
        "# create and fit a pipeline with the transformer including the PCA and the model \n",
        "knn_pipe_95 = make_pipeline(transformer, knn_95)\n",
        "knn_pipe_95.fit(X_train, y_train)"
      ],
      "metadata": {
        "colab": {
          "base_uri": "https://localhost:8080/"
        },
        "id": "0V4wfM2Jctxh",
        "outputId": "9cc719e9-6db2-49f6-9be8-97fb5cb47566"
      },
      "execution_count": 101,
      "outputs": [
        {
          "output_type": "execute_result",
          "data": {
            "text/plain": [
              "Pipeline(steps=[('pipeline',\n",
              "                 Pipeline(steps=[('columntransformer',\n",
              "                                  ColumnTransformer(remainder='passthrough',\n",
              "                                                    transformers=[('onehotencoder',\n",
              "                                                                   OneHotEncoder(handle_unknown='ignore',\n",
              "                                                                                 sparse=False),\n",
              "                                                                   <sklearn.compose._column_transformer.make_column_selector object at 0x7f73d04544d0>),\n",
              "                                                                  ('pipeline',\n",
              "                                                                   Pipeline(steps=[('simpleimputer',\n",
              "                                                                                    SimpleImputer()),\n",
              "                                                                                   ('standardscaler',\n",
              "                                                                                    StandardScaler())]),\n",
              "                                                                   <sklearn.compose._column_transformer.make_column_selector object at 0x7f73d321a950>)])),\n",
              "                                 ('pca', PCA(n_components=0.95))])),\n",
              "                ('kneighborsclassifier',\n",
              "                 KNeighborsClassifier(leaf_size=1, n_neighbors=10))])"
            ]
          },
          "metadata": {},
          "execution_count": 101
        }
      ]
    },
    {
      "cell_type": "code",
      "source": [
        "eval_classification(knn_pipe_95, X_train, X_test, y_train, y_test)"
      ],
      "metadata": {
        "colab": {
          "base_uri": "https://localhost:8080/"
        },
        "id": "6QjJ9PaBdhQr",
        "outputId": "49975743-f654-48d0-e3d2-930d3c2ce3a6"
      },
      "execution_count": 102,
      "outputs": [
        {
          "output_type": "stream",
          "name": "stdout",
          "text": [
            "Model Training Accuracy: 0.9556\n",
            "Model Test Accuracy: 0.9374\n"
          ]
        }
      ]
    },
    {
      "cell_type": "markdown",
      "source": [
        "#### **Logistic Regression**"
      ],
      "metadata": {
        "id": "pyaAOCFBnlDZ"
      }
    },
    {
      "cell_type": "code",
      "source": [
        "# Create a model pipeline with the preprocessor and a Logistic Regression model\n",
        "log_reg = LogisticRegression()\n",
        "log_pipe = make_pipeline(preprocessor, log_reg)\n",
        "log_pipe.fit(X_train, y_train) "
      ],
      "metadata": {
        "colab": {
          "base_uri": "https://localhost:8080/"
        },
        "id": "6CPnxs322Uqr",
        "outputId": "225a4008-b152-488a-9105-c5aabbae1b11"
      },
      "execution_count": 103,
      "outputs": [
        {
          "output_type": "execute_result",
          "data": {
            "text/plain": [
              "Pipeline(steps=[('columntransformer',\n",
              "                 ColumnTransformer(remainder='passthrough',\n",
              "                                   transformers=[('onehotencoder',\n",
              "                                                  OneHotEncoder(handle_unknown='ignore',\n",
              "                                                                sparse=False),\n",
              "                                                  <sklearn.compose._column_transformer.make_column_selector object at 0x7f73d04544d0>),\n",
              "                                                 ('pipeline',\n",
              "                                                  Pipeline(steps=[('simpleimputer',\n",
              "                                                                   SimpleImputer()),\n",
              "                                                                  ('standardscaler',\n",
              "                                                                   StandardScaler())]),\n",
              "                                                  <sklearn.compose._column_transformer.make_column_selector object at 0x7f73d321a950>)])),\n",
              "                ('logisticregression', LogisticRegression())])"
            ]
          },
          "metadata": {},
          "execution_count": 103
        }
      ]
    },
    {
      "cell_type": "code",
      "source": [
        "eval_classification(log_pipe, X_train, X_test, y_train, y_test)"
      ],
      "metadata": {
        "colab": {
          "base_uri": "https://localhost:8080/"
        },
        "id": "f-XTTc6IE_kv",
        "outputId": "4aaca211-a2ac-4bb2-dd63-95e25ebf5f6c"
      },
      "execution_count": 104,
      "outputs": [
        {
          "output_type": "stream",
          "name": "stdout",
          "text": [
            "Model Training Accuracy: 0.9559\n",
            "Model Test Accuracy: 0.9382\n"
          ]
        }
      ]
    },
    {
      "cell_type": "code",
      "source": [
        "lr_test_preds = log_pipe.predict(X_test)\n",
        "print(classification_report(y_test, lr_test_preds))"
      ],
      "metadata": {
        "colab": {
          "base_uri": "https://localhost:8080/"
        },
        "id": "xzvnvLIAj7aO",
        "outputId": "1ba36f2d-55ce-4f25-d77f-b77387bec0d1"
      },
      "execution_count": 190,
      "outputs": [
        {
          "output_type": "stream",
          "name": "stdout",
          "text": [
            "              precision    recall  f1-score   support\n",
            "\n",
            "           0       0.94      1.00      0.97      1198\n",
            "           1       1.00      0.01      0.02        80\n",
            "\n",
            "    accuracy                           0.94      1278\n",
            "   macro avg       0.97      0.51      0.50      1278\n",
            "weighted avg       0.94      0.94      0.91      1278\n",
            "\n"
          ]
        }
      ]
    },
    {
      "cell_type": "markdown",
      "source": [
        "**Logistic Regression Tuning**"
      ],
      "metadata": {
        "id": "S0eI4MTSTkTu"
      }
    },
    {
      "cell_type": "code",
      "source": [
        "# instantiate logistic regression model and create a parameter grid dictionary\n",
        "lr_model = LogisticRegression(random_state=42)\n",
        "\n",
        "lr_model_pipe = make_pipeline(preprocessor, lr_model)\n",
        "\n",
        "lr_model_pipe.get_params()\n"
      ],
      "metadata": {
        "colab": {
          "base_uri": "https://localhost:8080/"
        },
        "id": "5ZIZERYNFzGU",
        "outputId": "756b0f1f-d8a9-4255-867e-0bcb1db26077"
      },
      "execution_count": 163,
      "outputs": [
        {
          "output_type": "execute_result",
          "data": {
            "text/plain": [
              "{'memory': None,\n",
              " 'steps': [('columntransformer', ColumnTransformer(remainder='passthrough',\n",
              "                     transformers=[('onehotencoder',\n",
              "                                    OneHotEncoder(handle_unknown='ignore',\n",
              "                                                  sparse=False),\n",
              "                                    <sklearn.compose._column_transformer.make_column_selector object at 0x7f73d04544d0>),\n",
              "                                   ('pipeline',\n",
              "                                    Pipeline(steps=[('simpleimputer',\n",
              "                                                     SimpleImputer()),\n",
              "                                                    ('standardscaler',\n",
              "                                                     StandardScaler())]),\n",
              "                                    <sklearn.compose._column_transformer.make_column_selector object at 0x7f73d321a950>)])),\n",
              "  ('logisticregression', LogisticRegression(random_state=42))],\n",
              " 'verbose': False,\n",
              " 'columntransformer': ColumnTransformer(remainder='passthrough',\n",
              "                   transformers=[('onehotencoder',\n",
              "                                  OneHotEncoder(handle_unknown='ignore',\n",
              "                                                sparse=False),\n",
              "                                  <sklearn.compose._column_transformer.make_column_selector object at 0x7f73d04544d0>),\n",
              "                                 ('pipeline',\n",
              "                                  Pipeline(steps=[('simpleimputer',\n",
              "                                                   SimpleImputer()),\n",
              "                                                  ('standardscaler',\n",
              "                                                   StandardScaler())]),\n",
              "                                  <sklearn.compose._column_transformer.make_column_selector object at 0x7f73d321a950>)]),\n",
              " 'logisticregression': LogisticRegression(random_state=42),\n",
              " 'columntransformer__n_jobs': None,\n",
              " 'columntransformer__remainder': 'passthrough',\n",
              " 'columntransformer__sparse_threshold': 0.3,\n",
              " 'columntransformer__transformer_weights': None,\n",
              " 'columntransformer__transformers': [('onehotencoder',\n",
              "   OneHotEncoder(handle_unknown='ignore', sparse=False),\n",
              "   <sklearn.compose._column_transformer.make_column_selector at 0x7f73d04544d0>),\n",
              "  ('pipeline', Pipeline(steps=[('simpleimputer', SimpleImputer()),\n",
              "                   ('standardscaler', StandardScaler())]), <sklearn.compose._column_transformer.make_column_selector at 0x7f73d321a950>)],\n",
              " 'columntransformer__verbose': False,\n",
              " 'columntransformer__verbose_feature_names_out': True,\n",
              " 'columntransformer__onehotencoder': OneHotEncoder(handle_unknown='ignore', sparse=False),\n",
              " 'columntransformer__pipeline': Pipeline(steps=[('simpleimputer', SimpleImputer()),\n",
              "                 ('standardscaler', StandardScaler())]),\n",
              " 'columntransformer__onehotencoder__categories': 'auto',\n",
              " 'columntransformer__onehotencoder__drop': None,\n",
              " 'columntransformer__onehotencoder__dtype': numpy.float64,\n",
              " 'columntransformer__onehotencoder__handle_unknown': 'ignore',\n",
              " 'columntransformer__onehotencoder__sparse': False,\n",
              " 'columntransformer__pipeline__memory': None,\n",
              " 'columntransformer__pipeline__steps': [('simpleimputer', SimpleImputer()),\n",
              "  ('standardscaler', StandardScaler())],\n",
              " 'columntransformer__pipeline__verbose': False,\n",
              " 'columntransformer__pipeline__simpleimputer': SimpleImputer(),\n",
              " 'columntransformer__pipeline__standardscaler': StandardScaler(),\n",
              " 'columntransformer__pipeline__simpleimputer__add_indicator': False,\n",
              " 'columntransformer__pipeline__simpleimputer__copy': True,\n",
              " 'columntransformer__pipeline__simpleimputer__fill_value': None,\n",
              " 'columntransformer__pipeline__simpleimputer__missing_values': nan,\n",
              " 'columntransformer__pipeline__simpleimputer__strategy': 'mean',\n",
              " 'columntransformer__pipeline__simpleimputer__verbose': 0,\n",
              " 'columntransformer__pipeline__standardscaler__copy': True,\n",
              " 'columntransformer__pipeline__standardscaler__with_mean': True,\n",
              " 'columntransformer__pipeline__standardscaler__with_std': True,\n",
              " 'logisticregression__C': 1.0,\n",
              " 'logisticregression__class_weight': None,\n",
              " 'logisticregression__dual': False,\n",
              " 'logisticregression__fit_intercept': True,\n",
              " 'logisticregression__intercept_scaling': 1,\n",
              " 'logisticregression__l1_ratio': None,\n",
              " 'logisticregression__max_iter': 100,\n",
              " 'logisticregression__multi_class': 'auto',\n",
              " 'logisticregression__n_jobs': None,\n",
              " 'logisticregression__penalty': 'l2',\n",
              " 'logisticregression__random_state': 42,\n",
              " 'logisticregression__solver': 'lbfgs',\n",
              " 'logisticregression__tol': 0.0001,\n",
              " 'logisticregression__verbose': 0,\n",
              " 'logisticregression__warm_start': False}"
            ]
          },
          "metadata": {},
          "execution_count": 163
        }
      ]
    },
    {
      "cell_type": "code",
      "source": [
        "lr_param_grid = {'logisticregression__class_weight': [None, 'balanced'],\n",
        "                  'logisticregression__C': [0.0001, 0.001, 0.01, 0.1, 1, 10, 100, 1000],\n",
        "                  'logisticregression__max_iter': (50, 2000),\n",
        "                  'logisticregression__solver': ['liblinear'],\n",
        "                  'logisticregression__penalty':[None, 'l1', 'l2']}\n"
      ],
      "metadata": {
        "id": "LRHDTzvEGAyI"
      },
      "execution_count": 170,
      "outputs": []
    },
    {
      "cell_type": "code",
      "source": [
        "# instantiate logistic regression GridSearchCV Class\n",
        "lr_grid_search = GridSearchCV(lr_model_pipe, lr_param_grid)\n"
      ],
      "metadata": {
        "id": "NFp6Cbd2HH2X"
      },
      "execution_count": 171,
      "outputs": []
    },
    {
      "cell_type": "code",
      "source": [
        "# fit GridSeachCv on training data\n",
        "lr_grid_search.fit(X_train, y_train)\n"
      ],
      "metadata": {
        "colab": {
          "base_uri": "https://localhost:8080/"
        },
        "id": "yG3QtAv8HPFo",
        "outputId": "4cc855d5-1ada-406d-96dc-3f6e954ad18a"
      },
      "execution_count": 172,
      "outputs": [
        {
          "output_type": "stream",
          "name": "stderr",
          "text": [
            "/usr/local/lib/python3.7/dist-packages/sklearn/svm/_base.py:1208: ConvergenceWarning: Liblinear failed to converge, increase the number of iterations.\n",
            "  ConvergenceWarning,\n",
            "/usr/local/lib/python3.7/dist-packages/sklearn/svm/_base.py:1208: ConvergenceWarning: Liblinear failed to converge, increase the number of iterations.\n",
            "  ConvergenceWarning,\n",
            "/usr/local/lib/python3.7/dist-packages/sklearn/svm/_base.py:1208: ConvergenceWarning: Liblinear failed to converge, increase the number of iterations.\n",
            "  ConvergenceWarning,\n",
            "/usr/local/lib/python3.7/dist-packages/sklearn/svm/_base.py:1208: ConvergenceWarning: Liblinear failed to converge, increase the number of iterations.\n",
            "  ConvergenceWarning,\n",
            "/usr/local/lib/python3.7/dist-packages/sklearn/model_selection/_validation.py:372: FitFailedWarning: \n",
            "160 fits failed out of a total of 480.\n",
            "The score on these train-test partitions for these parameters will be set to nan.\n",
            "If these failures are not expected, you can try to debug them by setting error_score='raise'.\n",
            "\n",
            "Below are more details about the failures:\n",
            "--------------------------------------------------------------------------------\n",
            "160 fits failed with the following error:\n",
            "Traceback (most recent call last):\n",
            "  File \"/usr/local/lib/python3.7/dist-packages/sklearn/model_selection/_validation.py\", line 680, in _fit_and_score\n",
            "    estimator.fit(X_train, y_train, **fit_params)\n",
            "  File \"/usr/local/lib/python3.7/dist-packages/sklearn/pipeline.py\", line 394, in fit\n",
            "    self._final_estimator.fit(Xt, y, **fit_params_last_step)\n",
            "  File \"/usr/local/lib/python3.7/dist-packages/sklearn/linear_model/_logistic.py\", line 1461, in fit\n",
            "    solver = _check_solver(self.solver, self.penalty, self.dual)\n",
            "  File \"/usr/local/lib/python3.7/dist-packages/sklearn/linear_model/_logistic.py\", line 443, in _check_solver\n",
            "    % (all_penalties, penalty)\n",
            "ValueError: Logistic Regression supports only penalties in ['l1', 'l2', 'elasticnet', 'none'], got None.\n",
            "\n",
            "  warnings.warn(some_fits_failed_message, FitFailedWarning)\n",
            "/usr/local/lib/python3.7/dist-packages/sklearn/model_selection/_search.py:972: UserWarning: One or more of the test scores are non-finite: [       nan 0.95588625 0.95588625        nan 0.95588625 0.95588625\n",
            "        nan 0.95588625 0.61551465        nan 0.95588625 0.61551465\n",
            "        nan 0.95588625 0.95588625        nan 0.95588625 0.95588625\n",
            "        nan 0.95588625 0.69799837        nan 0.95588625 0.69799837\n",
            "        nan 0.95588625 0.95588625        nan 0.95588625 0.95588625\n",
            "        nan 0.68259606 0.73767076        nan 0.68259606 0.73767076\n",
            "        nan 0.95588625 0.95588625        nan 0.95588625 0.95588625\n",
            "        nan 0.74393606 0.74811326        nan 0.74393606 0.74811326\n",
            "        nan 0.95562549 0.95562549        nan 0.95562549 0.95562549\n",
            "        nan 0.7512454  0.7515065         nan 0.7512454  0.7515065\n",
            "        nan 0.95562549 0.95562549        nan 0.95562549 0.95562549\n",
            "        nan 0.7515065  0.7515065         nan 0.7515065  0.7515065\n",
            "        nan 0.95562549 0.95562549        nan 0.95562549 0.95562549\n",
            "        nan 0.75176759 0.75176759        nan 0.75176759 0.75176759\n",
            "        nan 0.95562549 0.95562549        nan 0.95562549 0.95562549\n",
            "        nan 0.75176759 0.75176759        nan 0.75176759 0.75176759]\n",
            "  category=UserWarning,\n"
          ]
        },
        {
          "output_type": "execute_result",
          "data": {
            "text/plain": [
              "GridSearchCV(estimator=Pipeline(steps=[('columntransformer',\n",
              "                                        ColumnTransformer(remainder='passthrough',\n",
              "                                                          transformers=[('onehotencoder',\n",
              "                                                                         OneHotEncoder(handle_unknown='ignore',\n",
              "                                                                                       sparse=False),\n",
              "                                                                         <sklearn.compose._column_transformer.make_column_selector object at 0x7f73d04544d0>),\n",
              "                                                                        ('pipeline',\n",
              "                                                                         Pipeline(steps=[('simpleimputer',\n",
              "                                                                                          SimpleImputer()),\n",
              "                                                                                         ('standardscaler',\n",
              "                                                                                          Sta...\n",
              "                                                                         <sklearn.compose._column_transformer.make_column_selector object at 0x7f73d321a950>)])),\n",
              "                                       ('logisticregression',\n",
              "                                        LogisticRegression(random_state=42))]),\n",
              "             param_grid={'logisticregression__C': [0.0001, 0.001, 0.01, 0.1, 1,\n",
              "                                                   10, 100, 1000],\n",
              "                         'logisticregression__class_weight': [None, 'balanced'],\n",
              "                         'logisticregression__max_iter': (50, 2000),\n",
              "                         'logisticregression__penalty': [None, 'l1', 'l2'],\n",
              "                         'logisticregression__solver': ['liblinear']})"
            ]
          },
          "metadata": {},
          "execution_count": 172
        }
      ]
    },
    {
      "cell_type": "code",
      "source": [
        "# examine logistic regression best parameters found by search\n",
        "lr_grid_search.best_params_"
      ],
      "metadata": {
        "colab": {
          "base_uri": "https://localhost:8080/"
        },
        "id": "5B10ndlGHUDA",
        "outputId": "00e55ae8-b278-4ffe-bb44-8838d408ce4c"
      },
      "execution_count": 173,
      "outputs": [
        {
          "output_type": "execute_result",
          "data": {
            "text/plain": [
              "{'logisticregression__C': 0.0001,\n",
              " 'logisticregression__class_weight': None,\n",
              " 'logisticregression__max_iter': 50,\n",
              " 'logisticregression__penalty': 'l1',\n",
              " 'logisticregression__solver': 'liblinear'}"
            ]
          },
          "metadata": {},
          "execution_count": 173
        }
      ]
    },
    {
      "cell_type": "code",
      "source": [
        "lr_best_model = lr_grid_search.best_estimator_\n",
        "\n",
        "lr_best_model.fit(X_train, y_train)\n",
        "\n",
        "lr_best_model.score(X_test, y_test)\n"
      ],
      "metadata": {
        "colab": {
          "base_uri": "https://localhost:8080/"
        },
        "id": "B2ZV429fHZ5h",
        "outputId": "38c424be-c754-496c-93d4-6e753fb49a79"
      },
      "execution_count": 174,
      "outputs": [
        {
          "output_type": "execute_result",
          "data": {
            "text/plain": [
              "0.9374021909233177"
            ]
          },
          "metadata": {},
          "execution_count": 174
        }
      ]
    },
    {
      "cell_type": "code",
      "source": [
        "lr_best_test_preds = lr_best_model.predict(X_test)\n",
        "print(classification_report(y_test, lr_best_test_preds))"
      ],
      "metadata": {
        "colab": {
          "base_uri": "https://localhost:8080/"
        },
        "id": "iGR526f_kFjw",
        "outputId": "b4b31bec-436e-45ae-b393-67beea077269"
      },
      "execution_count": 191,
      "outputs": [
        {
          "output_type": "stream",
          "name": "stdout",
          "text": [
            "              precision    recall  f1-score   support\n",
            "\n",
            "           0       0.94      1.00      0.97      1198\n",
            "           1       0.00      0.00      0.00        80\n",
            "\n",
            "    accuracy                           0.94      1278\n",
            "   macro avg       0.47      0.50      0.48      1278\n",
            "weighted avg       0.88      0.94      0.91      1278\n",
            "\n"
          ]
        },
        {
          "output_type": "stream",
          "name": "stderr",
          "text": [
            "/usr/local/lib/python3.7/dist-packages/sklearn/metrics/_classification.py:1318: UndefinedMetricWarning: Precision and F-score are ill-defined and being set to 0.0 in labels with no predicted samples. Use `zero_division` parameter to control this behavior.\n",
            "  _warn_prf(average, modifier, msg_start, len(result))\n",
            "/usr/local/lib/python3.7/dist-packages/sklearn/metrics/_classification.py:1318: UndefinedMetricWarning: Precision and F-score are ill-defined and being set to 0.0 in labels with no predicted samples. Use `zero_division` parameter to control this behavior.\n",
            "  _warn_prf(average, modifier, msg_start, len(result))\n",
            "/usr/local/lib/python3.7/dist-packages/sklearn/metrics/_classification.py:1318: UndefinedMetricWarning: Precision and F-score are ill-defined and being set to 0.0 in labels with no predicted samples. Use `zero_division` parameter to control this behavior.\n",
            "  _warn_prf(average, modifier, msg_start, len(result))\n"
          ]
        }
      ]
    },
    {
      "cell_type": "markdown",
      "source": [
        "#### **Gradient Booster**"
      ],
      "metadata": {
        "id": "8LxxjPI9nnW4"
      }
    },
    {
      "cell_type": "code",
      "source": [
        "# Create a model pipeline with the preprocessor and a  gradient boosting classifier model\n",
        "gbc = GradientBoostingClassifier()\n",
        "gbc_pipe = make_pipeline(preprocessor, gbc)\n",
        "gbc_pipe.fit(X_train, y_train)"
      ],
      "metadata": {
        "colab": {
          "base_uri": "https://localhost:8080/"
        },
        "id": "1q4Kvh7K-MpD",
        "outputId": "8e4b3fb7-4520-4200-d40f-38027748df36"
      },
      "execution_count": 111,
      "outputs": [
        {
          "output_type": "execute_result",
          "data": {
            "text/plain": [
              "Pipeline(steps=[('columntransformer',\n",
              "                 ColumnTransformer(remainder='passthrough',\n",
              "                                   transformers=[('onehotencoder',\n",
              "                                                  OneHotEncoder(handle_unknown='ignore',\n",
              "                                                                sparse=False),\n",
              "                                                  <sklearn.compose._column_transformer.make_column_selector object at 0x7f73d04544d0>),\n",
              "                                                 ('pipeline',\n",
              "                                                  Pipeline(steps=[('simpleimputer',\n",
              "                                                                   SimpleImputer()),\n",
              "                                                                  ('standardscaler',\n",
              "                                                                   StandardScaler())]),\n",
              "                                                  <sklearn.compose._column_transformer.make_column_selector object at 0x7f73d321a950>)])),\n",
              "                ('gradientboostingclassifier', GradientBoostingClassifier())])"
            ]
          },
          "metadata": {},
          "execution_count": 111
        }
      ]
    },
    {
      "cell_type": "code",
      "source": [
        "eval_classification(gbc_pipe, X_train, X_test, y_train, y_test)"
      ],
      "metadata": {
        "colab": {
          "base_uri": "https://localhost:8080/"
        },
        "id": "xY3ZdfMpFEDW",
        "outputId": "161c5e7d-50cc-4bd0-b0ef-8663762fcd8f"
      },
      "execution_count": 112,
      "outputs": [
        {
          "output_type": "stream",
          "name": "stdout",
          "text": [
            "Model Training Accuracy: 0.9642\n",
            "Model Test Accuracy: 0.9374\n"
          ]
        }
      ]
    },
    {
      "cell_type": "code",
      "source": [
        "gbc_test_preds = gbc_pipe.predict(X_test)\n",
        "print(classification_report(y_test, gbc_test_preds))"
      ],
      "metadata": {
        "colab": {
          "base_uri": "https://localhost:8080/"
        },
        "id": "bnq_gCMNkM0e",
        "outputId": "970c1f27-cbe2-4df3-c7f0-7c570f6472a8"
      },
      "execution_count": 192,
      "outputs": [
        {
          "output_type": "stream",
          "name": "stdout",
          "text": [
            "              precision    recall  f1-score   support\n",
            "\n",
            "           0       0.94      1.00      0.97      1198\n",
            "           1       0.50      0.05      0.09        80\n",
            "\n",
            "    accuracy                           0.94      1278\n",
            "   macro avg       0.72      0.52      0.53      1278\n",
            "weighted avg       0.91      0.94      0.91      1278\n",
            "\n"
          ]
        }
      ]
    },
    {
      "cell_type": "markdown",
      "source": [
        "##### **Gradient Booster Tuning**"
      ],
      "metadata": {
        "id": "aEA1RHv2IUe4"
      }
    },
    {
      "cell_type": "code",
      "source": [
        "# instantiate gradient booster model and create a parameter grid dictionary\n",
        "gbc_model = GradientBoostingClassifier()\n",
        "\n",
        "gbc_model_pipe = make_pipeline(preprocessor, gbc_model)\n",
        "\n",
        "gbc_model_pipe.get_params()\n",
        "\n"
      ],
      "metadata": {
        "colab": {
          "base_uri": "https://localhost:8080/"
        },
        "id": "3xbmdASgIxc6",
        "outputId": "28addac5-bc07-453e-bd6e-daf5a5976b53"
      },
      "execution_count": 113,
      "outputs": [
        {
          "output_type": "execute_result",
          "data": {
            "text/plain": [
              "{'memory': None,\n",
              " 'steps': [('columntransformer', ColumnTransformer(remainder='passthrough',\n",
              "                     transformers=[('onehotencoder',\n",
              "                                    OneHotEncoder(handle_unknown='ignore',\n",
              "                                                  sparse=False),\n",
              "                                    <sklearn.compose._column_transformer.make_column_selector object at 0x7f73d04544d0>),\n",
              "                                   ('pipeline',\n",
              "                                    Pipeline(steps=[('simpleimputer',\n",
              "                                                     SimpleImputer()),\n",
              "                                                    ('standardscaler',\n",
              "                                                     StandardScaler())]),\n",
              "                                    <sklearn.compose._column_transformer.make_column_selector object at 0x7f73d321a950>)])),\n",
              "  ('gradientboostingclassifier', GradientBoostingClassifier())],\n",
              " 'verbose': False,\n",
              " 'columntransformer': ColumnTransformer(remainder='passthrough',\n",
              "                   transformers=[('onehotencoder',\n",
              "                                  OneHotEncoder(handle_unknown='ignore',\n",
              "                                                sparse=False),\n",
              "                                  <sklearn.compose._column_transformer.make_column_selector object at 0x7f73d04544d0>),\n",
              "                                 ('pipeline',\n",
              "                                  Pipeline(steps=[('simpleimputer',\n",
              "                                                   SimpleImputer()),\n",
              "                                                  ('standardscaler',\n",
              "                                                   StandardScaler())]),\n",
              "                                  <sklearn.compose._column_transformer.make_column_selector object at 0x7f73d321a950>)]),\n",
              " 'gradientboostingclassifier': GradientBoostingClassifier(),\n",
              " 'columntransformer__n_jobs': None,\n",
              " 'columntransformer__remainder': 'passthrough',\n",
              " 'columntransformer__sparse_threshold': 0.3,\n",
              " 'columntransformer__transformer_weights': None,\n",
              " 'columntransformer__transformers': [('onehotencoder',\n",
              "   OneHotEncoder(handle_unknown='ignore', sparse=False),\n",
              "   <sklearn.compose._column_transformer.make_column_selector at 0x7f73d04544d0>),\n",
              "  ('pipeline', Pipeline(steps=[('simpleimputer', SimpleImputer()),\n",
              "                   ('standardscaler', StandardScaler())]), <sklearn.compose._column_transformer.make_column_selector at 0x7f73d321a950>)],\n",
              " 'columntransformer__verbose': False,\n",
              " 'columntransformer__verbose_feature_names_out': True,\n",
              " 'columntransformer__onehotencoder': OneHotEncoder(handle_unknown='ignore', sparse=False),\n",
              " 'columntransformer__pipeline': Pipeline(steps=[('simpleimputer', SimpleImputer()),\n",
              "                 ('standardscaler', StandardScaler())]),\n",
              " 'columntransformer__onehotencoder__categories': 'auto',\n",
              " 'columntransformer__onehotencoder__drop': None,\n",
              " 'columntransformer__onehotencoder__dtype': numpy.float64,\n",
              " 'columntransformer__onehotencoder__handle_unknown': 'ignore',\n",
              " 'columntransformer__onehotencoder__sparse': False,\n",
              " 'columntransformer__pipeline__memory': None,\n",
              " 'columntransformer__pipeline__steps': [('simpleimputer', SimpleImputer()),\n",
              "  ('standardscaler', StandardScaler())],\n",
              " 'columntransformer__pipeline__verbose': False,\n",
              " 'columntransformer__pipeline__simpleimputer': SimpleImputer(),\n",
              " 'columntransformer__pipeline__standardscaler': StandardScaler(),\n",
              " 'columntransformer__pipeline__simpleimputer__add_indicator': False,\n",
              " 'columntransformer__pipeline__simpleimputer__copy': True,\n",
              " 'columntransformer__pipeline__simpleimputer__fill_value': None,\n",
              " 'columntransformer__pipeline__simpleimputer__missing_values': nan,\n",
              " 'columntransformer__pipeline__simpleimputer__strategy': 'mean',\n",
              " 'columntransformer__pipeline__simpleimputer__verbose': 0,\n",
              " 'columntransformer__pipeline__standardscaler__copy': True,\n",
              " 'columntransformer__pipeline__standardscaler__with_mean': True,\n",
              " 'columntransformer__pipeline__standardscaler__with_std': True,\n",
              " 'gradientboostingclassifier__ccp_alpha': 0.0,\n",
              " 'gradientboostingclassifier__criterion': 'friedman_mse',\n",
              " 'gradientboostingclassifier__init': None,\n",
              " 'gradientboostingclassifier__learning_rate': 0.1,\n",
              " 'gradientboostingclassifier__loss': 'deviance',\n",
              " 'gradientboostingclassifier__max_depth': 3,\n",
              " 'gradientboostingclassifier__max_features': None,\n",
              " 'gradientboostingclassifier__max_leaf_nodes': None,\n",
              " 'gradientboostingclassifier__min_impurity_decrease': 0.0,\n",
              " 'gradientboostingclassifier__min_samples_leaf': 1,\n",
              " 'gradientboostingclassifier__min_samples_split': 2,\n",
              " 'gradientboostingclassifier__min_weight_fraction_leaf': 0.0,\n",
              " 'gradientboostingclassifier__n_estimators': 100,\n",
              " 'gradientboostingclassifier__n_iter_no_change': None,\n",
              " 'gradientboostingclassifier__random_state': None,\n",
              " 'gradientboostingclassifier__subsample': 1.0,\n",
              " 'gradientboostingclassifier__tol': 0.0001,\n",
              " 'gradientboostingclassifier__validation_fraction': 0.1,\n",
              " 'gradientboostingclassifier__verbose': 0,\n",
              " 'gradientboostingclassifier__warm_start': False}"
            ]
          },
          "metadata": {},
          "execution_count": 113
        }
      ]
    },
    {
      "cell_type": "code",
      "source": [
        "gbc_param_grid = {'gradientboostingclassifier__max_depth':(1, 10),\n",
        "                  'gradientboostingclassifier__min_samples_leaf': (1, 10),\n",
        "                  'gradientboostingclassifier__min_samples_split': (2, 10),\n",
        "                  'gradientboostingclassifier__n_estimators': (2, 10)}"
      ],
      "metadata": {
        "id": "ahC4C43HJMQE"
      },
      "execution_count": 114,
      "outputs": []
    },
    {
      "cell_type": "code",
      "source": [
        "# instantiate gradient boosting GridSearchCV Class\n",
        "gbc_grid_search = GridSearchCV(gbc_model_pipe, gbc_param_grid)"
      ],
      "metadata": {
        "id": "DqjCjf3BJPCE"
      },
      "execution_count": 115,
      "outputs": []
    },
    {
      "cell_type": "code",
      "source": [
        "# fit gradient boosting GridSeachCv on training data\n",
        "gbc_grid_search.fit(X_train, y_train)"
      ],
      "metadata": {
        "colab": {
          "base_uri": "https://localhost:8080/"
        },
        "id": "Y1apoDZIJRoO",
        "outputId": "5e789f8e-d826-4e02-8e94-29619ed05af4"
      },
      "execution_count": 116,
      "outputs": [
        {
          "output_type": "execute_result",
          "data": {
            "text/plain": [
              "GridSearchCV(estimator=Pipeline(steps=[('columntransformer',\n",
              "                                        ColumnTransformer(remainder='passthrough',\n",
              "                                                          transformers=[('onehotencoder',\n",
              "                                                                         OneHotEncoder(handle_unknown='ignore',\n",
              "                                                                                       sparse=False),\n",
              "                                                                         <sklearn.compose._column_transformer.make_column_selector object at 0x7f73d04544d0>),\n",
              "                                                                        ('pipeline',\n",
              "                                                                         Pipeline(steps=[('simpleimputer',\n",
              "                                                                                          SimpleImputer()),\n",
              "                                                                                         ('standardscaler',\n",
              "                                                                                          Sta...\n",
              "                                                                         <sklearn.compose._column_transformer.make_column_selector object at 0x7f73d321a950>)])),\n",
              "                                       ('gradientboostingclassifier',\n",
              "                                        GradientBoostingClassifier())]),\n",
              "             param_grid={'gradientboostingclassifier__max_depth': (1, 10),\n",
              "                         'gradientboostingclassifier__min_samples_leaf': (1,\n",
              "                                                                          10),\n",
              "                         'gradientboostingclassifier__min_samples_split': (2,\n",
              "                                                                           10),\n",
              "                         'gradientboostingclassifier__n_estimators': (2, 10)})"
            ]
          },
          "metadata": {},
          "execution_count": 116
        }
      ]
    },
    {
      "cell_type": "code",
      "source": [
        "# examine gradient boosting best parameters found by search\n",
        "gbc_grid_search.best_params_\n"
      ],
      "metadata": {
        "colab": {
          "base_uri": "https://localhost:8080/"
        },
        "id": "7-Q-7cLeJVuU",
        "outputId": "3ca2395c-666e-498d-b88a-18d88ab5b52e"
      },
      "execution_count": 117,
      "outputs": [
        {
          "output_type": "execute_result",
          "data": {
            "text/plain": [
              "{'gradientboostingclassifier__max_depth': 1,\n",
              " 'gradientboostingclassifier__min_samples_leaf': 1,\n",
              " 'gradientboostingclassifier__min_samples_split': 2,\n",
              " 'gradientboostingclassifier__n_estimators': 2}"
            ]
          },
          "metadata": {},
          "execution_count": 117
        }
      ]
    },
    {
      "cell_type": "code",
      "source": [
        "\n",
        "gbc_best_model = gbc_grid_search.best_estimator_\n",
        "\n",
        "gbc_best_model.fit(X_train, y_train)\n",
        "\n",
        "gbc_best_model.score(X_test, y_test)"
      ],
      "metadata": {
        "colab": {
          "base_uri": "https://localhost:8080/"
        },
        "id": "tbzuVxMhIXOb",
        "outputId": "061ad38a-945d-4549-8618-afa6cbfbc857"
      },
      "execution_count": 118,
      "outputs": [
        {
          "output_type": "execute_result",
          "data": {
            "text/plain": [
              "0.9374021909233177"
            ]
          },
          "metadata": {},
          "execution_count": 118
        }
      ]
    },
    {
      "cell_type": "code",
      "source": [
        "gbc_best_test_preds = gbc_best_model.predict(X_test)\n",
        "print(classification_report(y_test, gbc_best_test_preds))"
      ],
      "metadata": {
        "colab": {
          "base_uri": "https://localhost:8080/"
        },
        "id": "p4-jNNYOkTqt",
        "outputId": "411e9d86-654c-424e-a006-28e3daf06885"
      },
      "execution_count": 193,
      "outputs": [
        {
          "output_type": "stream",
          "name": "stdout",
          "text": [
            "              precision    recall  f1-score   support\n",
            "\n",
            "           0       0.94      1.00      0.97      1198\n",
            "           1       0.00      0.00      0.00        80\n",
            "\n",
            "    accuracy                           0.94      1278\n",
            "   macro avg       0.47      0.50      0.48      1278\n",
            "weighted avg       0.88      0.94      0.91      1278\n",
            "\n"
          ]
        },
        {
          "output_type": "stream",
          "name": "stderr",
          "text": [
            "/usr/local/lib/python3.7/dist-packages/sklearn/metrics/_classification.py:1318: UndefinedMetricWarning: Precision and F-score are ill-defined and being set to 0.0 in labels with no predicted samples. Use `zero_division` parameter to control this behavior.\n",
            "  _warn_prf(average, modifier, msg_start, len(result))\n",
            "/usr/local/lib/python3.7/dist-packages/sklearn/metrics/_classification.py:1318: UndefinedMetricWarning: Precision and F-score are ill-defined and being set to 0.0 in labels with no predicted samples. Use `zero_division` parameter to control this behavior.\n",
            "  _warn_prf(average, modifier, msg_start, len(result))\n",
            "/usr/local/lib/python3.7/dist-packages/sklearn/metrics/_classification.py:1318: UndefinedMetricWarning: Precision and F-score are ill-defined and being set to 0.0 in labels with no predicted samples. Use `zero_division` parameter to control this behavior.\n",
            "  _warn_prf(average, modifier, msg_start, len(result))\n"
          ]
        }
      ]
    },
    {
      "cell_type": "markdown",
      "source": [
        "#### **LightGBM**"
      ],
      "metadata": {
        "id": "lcFycKoAnqDO"
      }
    },
    {
      "cell_type": "code",
      "source": [
        "# Create a model pipeline with the preprocessor and a Light GBM classifier model\n",
        "lgbm = LGBMClassifier()\n",
        "lgbm_pipe = make_pipeline(preprocessor, lgbm)\n",
        "lgbm_pipe.fit(X_train, y_train)"
      ],
      "metadata": {
        "colab": {
          "base_uri": "https://localhost:8080/"
        },
        "id": "F7xcGs-D-rds",
        "outputId": "2065e5e7-7c2c-4d60-b24a-820ae42b835c"
      },
      "execution_count": 119,
      "outputs": [
        {
          "output_type": "execute_result",
          "data": {
            "text/plain": [
              "Pipeline(steps=[('columntransformer',\n",
              "                 ColumnTransformer(remainder='passthrough',\n",
              "                                   transformers=[('onehotencoder',\n",
              "                                                  OneHotEncoder(handle_unknown='ignore',\n",
              "                                                                sparse=False),\n",
              "                                                  <sklearn.compose._column_transformer.make_column_selector object at 0x7f73d04544d0>),\n",
              "                                                 ('pipeline',\n",
              "                                                  Pipeline(steps=[('simpleimputer',\n",
              "                                                                   SimpleImputer()),\n",
              "                                                                  ('standardscaler',\n",
              "                                                                   StandardScaler())]),\n",
              "                                                  <sklearn.compose._column_transformer.make_column_selector object at 0x7f73d321a950>)])),\n",
              "                ('lgbmclassifier', LGBMClassifier())])"
            ]
          },
          "metadata": {},
          "execution_count": 119
        }
      ]
    },
    {
      "cell_type": "code",
      "source": [
        "eval_classification(lgbm_pipe, X_train, X_test, y_train, y_test)"
      ],
      "metadata": {
        "colab": {
          "base_uri": "https://localhost:8080/"
        },
        "id": "PEhfZtdcFHcv",
        "outputId": "eb1bb9ba-4ff7-44fb-a4af-af58d4cced3e"
      },
      "execution_count": 120,
      "outputs": [
        {
          "output_type": "stream",
          "name": "stdout",
          "text": [
            "Model Training Accuracy: 0.9984\n",
            "Model Test Accuracy: 0.9319\n"
          ]
        }
      ]
    },
    {
      "cell_type": "code",
      "source": [
        "lgbm_test_preds = lgbm_pipe.predict(X_test)\n",
        "print(classification_report(y_test, lgbm_test_preds))"
      ],
      "metadata": {
        "colab": {
          "base_uri": "https://localhost:8080/"
        },
        "id": "45fXLHlbkcAD",
        "outputId": "c63fff83-9491-4249-9917-5ce3020bbb64"
      },
      "execution_count": 194,
      "outputs": [
        {
          "output_type": "stream",
          "name": "stdout",
          "text": [
            "              precision    recall  f1-score   support\n",
            "\n",
            "           0       0.94      0.99      0.96      1198\n",
            "           1       0.29      0.06      0.10        80\n",
            "\n",
            "    accuracy                           0.93      1278\n",
            "   macro avg       0.62      0.53      0.53      1278\n",
            "weighted avg       0.90      0.93      0.91      1278\n",
            "\n"
          ]
        }
      ]
    },
    {
      "cell_type": "markdown",
      "source": [
        "##### **Light GBM Tuning**"
      ],
      "metadata": {
        "id": "nb3UI0KDZXXs"
      }
    },
    {
      "cell_type": "code",
      "source": [
        "# instantiate a light gbm model and create a parameter grid dictionary\n",
        "lgbm_model = LGBMClassifier()\n",
        "\n",
        "lgbm_model_pipe = make_pipeline(preprocessor, lgbm_model)\n",
        "\n",
        "lgbm_model_pipe.fit(X_train, y_train)\n",
        "\n",
        "lgbm_model_pipe.get_params()\n"
      ],
      "metadata": {
        "colab": {
          "base_uri": "https://localhost:8080/"
        },
        "id": "nahS5o16KJA0",
        "outputId": "aea32cf3-ba9b-40b1-9dd0-0eb85466abea"
      },
      "execution_count": 142,
      "outputs": [
        {
          "output_type": "execute_result",
          "data": {
            "text/plain": [
              "{'memory': None,\n",
              " 'steps': [('columntransformer', ColumnTransformer(remainder='passthrough',\n",
              "                     transformers=[('onehotencoder',\n",
              "                                    OneHotEncoder(handle_unknown='ignore',\n",
              "                                                  sparse=False),\n",
              "                                    <sklearn.compose._column_transformer.make_column_selector object at 0x7f73d04544d0>),\n",
              "                                   ('pipeline',\n",
              "                                    Pipeline(steps=[('simpleimputer',\n",
              "                                                     SimpleImputer()),\n",
              "                                                    ('standardscaler',\n",
              "                                                     StandardScaler())]),\n",
              "                                    <sklearn.compose._column_transformer.make_column_selector object at 0x7f73d321a950>)])),\n",
              "  ('lgbmclassifier', LGBMClassifier())],\n",
              " 'verbose': False,\n",
              " 'columntransformer': ColumnTransformer(remainder='passthrough',\n",
              "                   transformers=[('onehotencoder',\n",
              "                                  OneHotEncoder(handle_unknown='ignore',\n",
              "                                                sparse=False),\n",
              "                                  <sklearn.compose._column_transformer.make_column_selector object at 0x7f73d04544d0>),\n",
              "                                 ('pipeline',\n",
              "                                  Pipeline(steps=[('simpleimputer',\n",
              "                                                   SimpleImputer()),\n",
              "                                                  ('standardscaler',\n",
              "                                                   StandardScaler())]),\n",
              "                                  <sklearn.compose._column_transformer.make_column_selector object at 0x7f73d321a950>)]),\n",
              " 'lgbmclassifier': LGBMClassifier(),\n",
              " 'columntransformer__n_jobs': None,\n",
              " 'columntransformer__remainder': 'passthrough',\n",
              " 'columntransformer__sparse_threshold': 0.3,\n",
              " 'columntransformer__transformer_weights': None,\n",
              " 'columntransformer__transformers': [('onehotencoder',\n",
              "   OneHotEncoder(handle_unknown='ignore', sparse=False),\n",
              "   <sklearn.compose._column_transformer.make_column_selector at 0x7f73d04544d0>),\n",
              "  ('pipeline', Pipeline(steps=[('simpleimputer', SimpleImputer()),\n",
              "                   ('standardscaler', StandardScaler())]), <sklearn.compose._column_transformer.make_column_selector at 0x7f73d321a950>)],\n",
              " 'columntransformer__verbose': False,\n",
              " 'columntransformer__verbose_feature_names_out': True,\n",
              " 'columntransformer__onehotencoder': OneHotEncoder(handle_unknown='ignore', sparse=False),\n",
              " 'columntransformer__pipeline': Pipeline(steps=[('simpleimputer', SimpleImputer()),\n",
              "                 ('standardscaler', StandardScaler())]),\n",
              " 'columntransformer__onehotencoder__categories': 'auto',\n",
              " 'columntransformer__onehotencoder__drop': None,\n",
              " 'columntransformer__onehotencoder__dtype': numpy.float64,\n",
              " 'columntransformer__onehotencoder__handle_unknown': 'ignore',\n",
              " 'columntransformer__onehotencoder__sparse': False,\n",
              " 'columntransformer__pipeline__memory': None,\n",
              " 'columntransformer__pipeline__steps': [('simpleimputer', SimpleImputer()),\n",
              "  ('standardscaler', StandardScaler())],\n",
              " 'columntransformer__pipeline__verbose': False,\n",
              " 'columntransformer__pipeline__simpleimputer': SimpleImputer(),\n",
              " 'columntransformer__pipeline__standardscaler': StandardScaler(),\n",
              " 'columntransformer__pipeline__simpleimputer__add_indicator': False,\n",
              " 'columntransformer__pipeline__simpleimputer__copy': True,\n",
              " 'columntransformer__pipeline__simpleimputer__fill_value': None,\n",
              " 'columntransformer__pipeline__simpleimputer__missing_values': nan,\n",
              " 'columntransformer__pipeline__simpleimputer__strategy': 'mean',\n",
              " 'columntransformer__pipeline__simpleimputer__verbose': 0,\n",
              " 'columntransformer__pipeline__standardscaler__copy': True,\n",
              " 'columntransformer__pipeline__standardscaler__with_mean': True,\n",
              " 'columntransformer__pipeline__standardscaler__with_std': True,\n",
              " 'lgbmclassifier__boosting_type': 'gbdt',\n",
              " 'lgbmclassifier__class_weight': None,\n",
              " 'lgbmclassifier__colsample_bytree': 1.0,\n",
              " 'lgbmclassifier__importance_type': 'split',\n",
              " 'lgbmclassifier__learning_rate': 0.1,\n",
              " 'lgbmclassifier__max_depth': -1,\n",
              " 'lgbmclassifier__min_child_samples': 20,\n",
              " 'lgbmclassifier__min_child_weight': 0.001,\n",
              " 'lgbmclassifier__min_split_gain': 0.0,\n",
              " 'lgbmclassifier__n_estimators': 100,\n",
              " 'lgbmclassifier__n_jobs': -1,\n",
              " 'lgbmclassifier__num_leaves': 31,\n",
              " 'lgbmclassifier__objective': None,\n",
              " 'lgbmclassifier__random_state': None,\n",
              " 'lgbmclassifier__reg_alpha': 0.0,\n",
              " 'lgbmclassifier__reg_lambda': 0.0,\n",
              " 'lgbmclassifier__silent': True,\n",
              " 'lgbmclassifier__subsample': 1.0,\n",
              " 'lgbmclassifier__subsample_for_bin': 200000,\n",
              " 'lgbmclassifier__subsample_freq': 0}"
            ]
          },
          "metadata": {},
          "execution_count": 142
        }
      ]
    },
    {
      "cell_type": "code",
      "source": [
        "lgbm_param_grid = {'lgbmclassifier__max_depth':(1, 30),\n",
        "                  'lgbmclassifier__num_leaves': (1, 50),\n",
        "                  'lgbmclassifier__n_estimators': (2, 200)}\n"
      ],
      "metadata": {
        "id": "vJPnX0D5K4u7"
      },
      "execution_count": 143,
      "outputs": []
    },
    {
      "cell_type": "code",
      "source": [
        "# instantiate light gbm GridSearchCV Class\n",
        "lgbm_grid_search = GridSearchCV(lgbm_model_pipe, lgbm_param_grid)"
      ],
      "metadata": {
        "id": "BRosqkEcK7yo"
      },
      "execution_count": 144,
      "outputs": []
    },
    {
      "cell_type": "code",
      "source": [
        "# fit light gbm GridSeachCv on training data\n",
        "lgbm_grid_search.fit(X_train, y_train)\n"
      ],
      "metadata": {
        "colab": {
          "base_uri": "https://localhost:8080/"
        },
        "id": "sK8txbI-K-3x",
        "outputId": "ad15662b-89ca-4334-95fa-0e80e0c6f22f"
      },
      "execution_count": 145,
      "outputs": [
        {
          "output_type": "stream",
          "name": "stderr",
          "text": [
            "/usr/local/lib/python3.7/dist-packages/sklearn/model_selection/_validation.py:372: FitFailedWarning: \n",
            "20 fits failed out of a total of 40.\n",
            "The score on these train-test partitions for these parameters will be set to nan.\n",
            "If these failures are not expected, you can try to debug them by setting error_score='raise'.\n",
            "\n",
            "Below are more details about the failures:\n",
            "--------------------------------------------------------------------------------\n",
            "20 fits failed with the following error:\n",
            "Traceback (most recent call last):\n",
            "  File \"/usr/local/lib/python3.7/dist-packages/lightgbm/engine.py\", line 197, in train\n",
            "    booster = Booster(params=params, train_set=train_set)\n",
            "  File \"/usr/local/lib/python3.7/dist-packages/lightgbm/basic.py\", line 1552, in __init__\n",
            "    train_set.construct().handle,\n",
            "  File \"/usr/local/lib/python3.7/dist-packages/lightgbm/basic.py\", line 1001, in construct\n",
            "    categorical_feature=self.categorical_feature, params=self.params)\n",
            "  File \"/usr/local/lib/python3.7/dist-packages/lightgbm/basic.py\", line 791, in _lazy_init\n",
            "    self.__init_from_np2d(data, params_str, ref_dataset)\n",
            "  File \"/usr/local/lib/python3.7/dist-packages/lightgbm/basic.py\", line 855, in __init_from_np2d\n",
            "    ctypes.byref(self.handle)))\n",
            "  File \"/usr/local/lib/python3.7/dist-packages/lightgbm/basic.py\", line 46, in _safe_call\n",
            "    raise LightGBMError(decode_string(_LIB.LGBM_GetLastError()))\n",
            "lightgbm.basic.LightGBMError: Check failed: num_leaves >1 at /__w/1/s/python-package/compile/src/io/config_auto.cpp, line 281 .\n",
            "\n",
            "\n",
            "During handling of the above exception, another exception occurred:\n",
            "\n",
            "Traceback (most recent call last):\n",
            "  File \"/usr/local/lib/python3.7/dist-packages/sklearn/model_selection/_validation.py\", line 680, in _fit_and_score\n",
            "    estimator.fit(X_train, y_train, **fit_params)\n",
            "  File \"/usr/local/lib/python3.7/dist-packages/sklearn/pipeline.py\", line 394, in fit\n",
            "    self._final_estimator.fit(Xt, y, **fit_params_last_step)\n",
            "  File \"/usr/local/lib/python3.7/dist-packages/lightgbm/sklearn.py\", line 744, in fit\n",
            "    callbacks=callbacks)\n",
            "  File \"/usr/local/lib/python3.7/dist-packages/lightgbm/sklearn.py\", line 544, in fit\n",
            "    callbacks=callbacks)\n",
            "  File \"/usr/local/lib/python3.7/dist-packages/lightgbm/engine.py\", line 203, in train\n",
            "    train_set._reverse_update_params()\n",
            "  File \"/usr/local/lib/python3.7/dist-packages/lightgbm/basic.py\", line 1097, in _reverse_update_params\n",
            "    _safe_call(_LIB.LGBM_DatasetUpdateParam(self.handle, c_str(param_dict_to_str(self.params))))\n",
            "  File \"/usr/local/lib/python3.7/dist-packages/lightgbm/basic.py\", line 46, in _safe_call\n",
            "    raise LightGBMError(decode_string(_LIB.LGBM_GetLastError()))\n",
            "lightgbm.basic.LightGBMError: Check failed: num_leaves >1 at /__w/1/s/python-package/compile/src/io/config_auto.cpp, line 281 .\n",
            "\n",
            "\n",
            "  warnings.warn(some_fits_failed_message, FitFailedWarning)\n",
            "/usr/local/lib/python3.7/dist-packages/sklearn/model_selection/_search.py:972: UserWarning: One or more of the test scores are non-finite: [       nan 0.95588625        nan 0.95588625        nan 0.95588625\n",
            "        nan 0.94883732]\n",
            "  category=UserWarning,\n"
          ]
        },
        {
          "output_type": "execute_result",
          "data": {
            "text/plain": [
              "GridSearchCV(estimator=Pipeline(steps=[('columntransformer',\n",
              "                                        ColumnTransformer(remainder='passthrough',\n",
              "                                                          transformers=[('onehotencoder',\n",
              "                                                                         OneHotEncoder(handle_unknown='ignore',\n",
              "                                                                                       sparse=False),\n",
              "                                                                         <sklearn.compose._column_transformer.make_column_selector object at 0x7f73d04544d0>),\n",
              "                                                                        ('pipeline',\n",
              "                                                                         Pipeline(steps=[('simpleimputer',\n",
              "                                                                                          SimpleImputer()),\n",
              "                                                                                         ('standardscaler',\n",
              "                                                                                          StandardScaler())]),\n",
              "                                                                         <sklearn.compose._column_transformer.make_column_selector object at 0x7f73d321a950>)])),\n",
              "                                       ('lgbmclassifier', LGBMClassifier())]),\n",
              "             param_grid={'lgbmclassifier__max_depth': (1, 30),\n",
              "                         'lgbmclassifier__n_estimators': (2, 200),\n",
              "                         'lgbmclassifier__num_leaves': (1, 50)})"
            ]
          },
          "metadata": {},
          "execution_count": 145
        }
      ]
    },
    {
      "cell_type": "code",
      "source": [
        "# examine light gbm best parameters found by search\n",
        "lgbm_grid_search.best_params_\n"
      ],
      "metadata": {
        "colab": {
          "base_uri": "https://localhost:8080/"
        },
        "id": "6-gIsgCMLDyt",
        "outputId": "30b56f21-ee35-4c7c-f9aa-d5ddc8ff2fad"
      },
      "execution_count": 146,
      "outputs": [
        {
          "output_type": "execute_result",
          "data": {
            "text/plain": [
              "{'lgbmclassifier__max_depth': 1,\n",
              " 'lgbmclassifier__n_estimators': 2,\n",
              " 'lgbmclassifier__num_leaves': 50}"
            ]
          },
          "metadata": {},
          "execution_count": 146
        }
      ]
    },
    {
      "cell_type": "code",
      "source": [
        "\n",
        "lgbm_best_model = lgbm_grid_search.best_estimator_\n",
        "\n",
        "lgbm_best_model.fit(X_train, y_train)\n",
        "\n",
        "lgbm_best_model.score(X_test, y_test)\n"
      ],
      "metadata": {
        "colab": {
          "base_uri": "https://localhost:8080/"
        },
        "id": "Vq5XGGDsJp2y",
        "outputId": "e9307c14-3acf-4457-d068-5090bc4d39ec"
      },
      "execution_count": 147,
      "outputs": [
        {
          "output_type": "execute_result",
          "data": {
            "text/plain": [
              "0.9374021909233177"
            ]
          },
          "metadata": {},
          "execution_count": 147
        }
      ]
    },
    {
      "cell_type": "code",
      "source": [
        "lgbm_best_test_preds = lgbm_best_model.predict(X_test)\n",
        "print(classification_report(y_test, lgbm_best_test_preds))"
      ],
      "metadata": {
        "colab": {
          "base_uri": "https://localhost:8080/"
        },
        "id": "uQ3ni277krBP",
        "outputId": "d2ef86b7-791a-4667-e6c8-439fd86419d8"
      },
      "execution_count": 196,
      "outputs": [
        {
          "output_type": "stream",
          "name": "stdout",
          "text": [
            "              precision    recall  f1-score   support\n",
            "\n",
            "           0       0.94      1.00      0.97      1198\n",
            "           1       0.00      0.00      0.00        80\n",
            "\n",
            "    accuracy                           0.94      1278\n",
            "   macro avg       0.47      0.50      0.48      1278\n",
            "weighted avg       0.88      0.94      0.91      1278\n",
            "\n"
          ]
        },
        {
          "output_type": "stream",
          "name": "stderr",
          "text": [
            "/usr/local/lib/python3.7/dist-packages/sklearn/metrics/_classification.py:1318: UndefinedMetricWarning: Precision and F-score are ill-defined and being set to 0.0 in labels with no predicted samples. Use `zero_division` parameter to control this behavior.\n",
            "  _warn_prf(average, modifier, msg_start, len(result))\n",
            "/usr/local/lib/python3.7/dist-packages/sklearn/metrics/_classification.py:1318: UndefinedMetricWarning: Precision and F-score are ill-defined and being set to 0.0 in labels with no predicted samples. Use `zero_division` parameter to control this behavior.\n",
            "  _warn_prf(average, modifier, msg_start, len(result))\n",
            "/usr/local/lib/python3.7/dist-packages/sklearn/metrics/_classification.py:1318: UndefinedMetricWarning: Precision and F-score are ill-defined and being set to 0.0 in labels with no predicted samples. Use `zero_division` parameter to control this behavior.\n",
            "  _warn_prf(average, modifier, msg_start, len(result))\n"
          ]
        }
      ]
    },
    {
      "cell_type": "markdown",
      "source": [
        "##### **Light GBM with PCA**"
      ],
      "metadata": {
        "id": "cNcyODrEfycd"
      }
    },
    {
      "cell_type": "code",
      "source": [
        "# Create a transformer pipeline \n",
        "transformer = make_pipeline(preprocessor, PCA(n_components=4))"
      ],
      "metadata": {
        "id": "4pgNV9ingINQ"
      },
      "execution_count": 127,
      "outputs": []
    },
    {
      "cell_type": "code",
      "source": [
        "# instantiate the KNN model with .n = 4 PCA level\n",
        "lgbm_4 = LGBMClassifier()\n",
        "\n",
        "# create and fit a pipeline with the transformer including the PCA and the model \n",
        "lgbm_pipe_4 = make_pipeline(transformer, lgbm_4)\n",
        "lgbm_pipe_4.fit(X_train, y_train)"
      ],
      "metadata": {
        "colab": {
          "base_uri": "https://localhost:8080/"
        },
        "id": "OMIcHXRef0sp",
        "outputId": "80aee9e6-4847-44bb-cd84-3699e0548632"
      },
      "execution_count": 128,
      "outputs": [
        {
          "output_type": "execute_result",
          "data": {
            "text/plain": [
              "Pipeline(steps=[('pipeline',\n",
              "                 Pipeline(steps=[('columntransformer',\n",
              "                                  ColumnTransformer(remainder='passthrough',\n",
              "                                                    transformers=[('onehotencoder',\n",
              "                                                                   OneHotEncoder(handle_unknown='ignore',\n",
              "                                                                                 sparse=False),\n",
              "                                                                   <sklearn.compose._column_transformer.make_column_selector object at 0x7f73d04544d0>),\n",
              "                                                                  ('pipeline',\n",
              "                                                                   Pipeline(steps=[('simpleimputer',\n",
              "                                                                                    SimpleImputer()),\n",
              "                                                                                   ('standardscaler',\n",
              "                                                                                    StandardScaler())]),\n",
              "                                                                   <sklearn.compose._column_transformer.make_column_selector object at 0x7f73d321a950>)])),\n",
              "                                 ('pca', PCA(n_components=4))])),\n",
              "                ('lgbmclassifier', LGBMClassifier())])"
            ]
          },
          "metadata": {},
          "execution_count": 128
        }
      ]
    },
    {
      "cell_type": "code",
      "source": [
        "eval_classification(lgbm_pipe_4, X_train, X_test, y_train, y_test)"
      ],
      "metadata": {
        "colab": {
          "base_uri": "https://localhost:8080/"
        },
        "id": "sxntrrjOgeBC",
        "outputId": "b12d60ff-abce-456a-d65d-47526e6bb7ba"
      },
      "execution_count": 129,
      "outputs": [
        {
          "output_type": "stream",
          "name": "stdout",
          "text": [
            "Model Training Accuracy: 0.9906\n",
            "Model Test Accuracy: 0.9358\n"
          ]
        }
      ]
    },
    {
      "cell_type": "markdown",
      "source": [
        "#### **XGBoost**"
      ],
      "metadata": {
        "id": "5jkNe7r7nsWs"
      }
    },
    {
      "cell_type": "code",
      "source": [
        "# Create a model pipeline with the preprocessor and a  XG Boost classifier model\n",
        "xgb = XGBClassifier()\n",
        "xgb_pipe = make_pipeline(preprocessor, xgb)\n",
        "xgb_pipe.fit(X_train, y_train)"
      ],
      "metadata": {
        "colab": {
          "base_uri": "https://localhost:8080/"
        },
        "id": "JN5Q0aTn-veK",
        "outputId": "a8552768-5bf4-486f-e491-810100be2fbe"
      },
      "execution_count": 130,
      "outputs": [
        {
          "output_type": "execute_result",
          "data": {
            "text/plain": [
              "Pipeline(steps=[('columntransformer',\n",
              "                 ColumnTransformer(remainder='passthrough',\n",
              "                                   transformers=[('onehotencoder',\n",
              "                                                  OneHotEncoder(handle_unknown='ignore',\n",
              "                                                                sparse=False),\n",
              "                                                  <sklearn.compose._column_transformer.make_column_selector object at 0x7f73d04544d0>),\n",
              "                                                 ('pipeline',\n",
              "                                                  Pipeline(steps=[('simpleimputer',\n",
              "                                                                   SimpleImputer()),\n",
              "                                                                  ('standardscaler',\n",
              "                                                                   StandardScaler())]),\n",
              "                                                  <sklearn.compose._column_transformer.make_column_selector object at 0x7f73d321a950>)])),\n",
              "                ('xgbclassifier', XGBClassifier())])"
            ]
          },
          "metadata": {},
          "execution_count": 130
        }
      ]
    },
    {
      "cell_type": "code",
      "source": [
        "eval_classification(xgb_pipe, X_train, X_test, y_train, y_test)"
      ],
      "metadata": {
        "colab": {
          "base_uri": "https://localhost:8080/"
        },
        "id": "JH4rE5qqFJvO",
        "outputId": "6f9f8329-7863-46fb-8a30-d835bf72c431"
      },
      "execution_count": 131,
      "outputs": [
        {
          "output_type": "stream",
          "name": "stdout",
          "text": [
            "Model Training Accuracy: 0.9564\n",
            "Model Test Accuracy: 0.9374\n"
          ]
        }
      ]
    },
    {
      "cell_type": "code",
      "source": [
        "xgb_test_preds = xgb_pipe.predict(X_test)\n",
        "print(classification_report(y_test, xgb_test_preds))"
      ],
      "metadata": {
        "colab": {
          "base_uri": "https://localhost:8080/"
        },
        "id": "hmFJG2nTk5cs",
        "outputId": "3e258231-3731-41fd-b91f-fbaf41c26a52"
      },
      "execution_count": 197,
      "outputs": [
        {
          "output_type": "stream",
          "name": "stdout",
          "text": [
            "              precision    recall  f1-score   support\n",
            "\n",
            "           0       0.94      1.00      0.97      1198\n",
            "           1       0.00      0.00      0.00        80\n",
            "\n",
            "    accuracy                           0.94      1278\n",
            "   macro avg       0.47      0.50      0.48      1278\n",
            "weighted avg       0.88      0.94      0.91      1278\n",
            "\n"
          ]
        },
        {
          "output_type": "stream",
          "name": "stderr",
          "text": [
            "/usr/local/lib/python3.7/dist-packages/sklearn/metrics/_classification.py:1318: UndefinedMetricWarning: Precision and F-score are ill-defined and being set to 0.0 in labels with no predicted samples. Use `zero_division` parameter to control this behavior.\n",
            "  _warn_prf(average, modifier, msg_start, len(result))\n",
            "/usr/local/lib/python3.7/dist-packages/sklearn/metrics/_classification.py:1318: UndefinedMetricWarning: Precision and F-score are ill-defined and being set to 0.0 in labels with no predicted samples. Use `zero_division` parameter to control this behavior.\n",
            "  _warn_prf(average, modifier, msg_start, len(result))\n",
            "/usr/local/lib/python3.7/dist-packages/sklearn/metrics/_classification.py:1318: UndefinedMetricWarning: Precision and F-score are ill-defined and being set to 0.0 in labels with no predicted samples. Use `zero_division` parameter to control this behavior.\n",
            "  _warn_prf(average, modifier, msg_start, len(result))\n"
          ]
        }
      ]
    },
    {
      "cell_type": "markdown",
      "source": [
        "**XGB TUNING**"
      ],
      "metadata": {
        "id": "jHxESd5vbFCO"
      }
    },
    {
      "cell_type": "code",
      "source": [
        "# instantiate XGB model and create a parameter grid dictionary\n",
        "xgb_model = XGBClassifier()\n",
        "\n",
        "xgb_model_pipe = make_pipeline(preprocessor, xgb_model)\n",
        "\n",
        "xgb_model_pipe.get_params()\n"
      ],
      "metadata": {
        "colab": {
          "base_uri": "https://localhost:8080/"
        },
        "id": "b0Cx_-huMLN4",
        "outputId": "4ac27528-a580-4d29-c22f-7826dd3fcbbf"
      },
      "execution_count": 132,
      "outputs": [
        {
          "output_type": "execute_result",
          "data": {
            "text/plain": [
              "{'memory': None,\n",
              " 'steps': [('columntransformer', ColumnTransformer(remainder='passthrough',\n",
              "                     transformers=[('onehotencoder',\n",
              "                                    OneHotEncoder(handle_unknown='ignore',\n",
              "                                                  sparse=False),\n",
              "                                    <sklearn.compose._column_transformer.make_column_selector object at 0x7f73d04544d0>),\n",
              "                                   ('pipeline',\n",
              "                                    Pipeline(steps=[('simpleimputer',\n",
              "                                                     SimpleImputer()),\n",
              "                                                    ('standardscaler',\n",
              "                                                     StandardScaler())]),\n",
              "                                    <sklearn.compose._column_transformer.make_column_selector object at 0x7f73d321a950>)])),\n",
              "  ('xgbclassifier', XGBClassifier())],\n",
              " 'verbose': False,\n",
              " 'columntransformer': ColumnTransformer(remainder='passthrough',\n",
              "                   transformers=[('onehotencoder',\n",
              "                                  OneHotEncoder(handle_unknown='ignore',\n",
              "                                                sparse=False),\n",
              "                                  <sklearn.compose._column_transformer.make_column_selector object at 0x7f73d04544d0>),\n",
              "                                 ('pipeline',\n",
              "                                  Pipeline(steps=[('simpleimputer',\n",
              "                                                   SimpleImputer()),\n",
              "                                                  ('standardscaler',\n",
              "                                                   StandardScaler())]),\n",
              "                                  <sklearn.compose._column_transformer.make_column_selector object at 0x7f73d321a950>)]),\n",
              " 'xgbclassifier': XGBClassifier(),\n",
              " 'columntransformer__n_jobs': None,\n",
              " 'columntransformer__remainder': 'passthrough',\n",
              " 'columntransformer__sparse_threshold': 0.3,\n",
              " 'columntransformer__transformer_weights': None,\n",
              " 'columntransformer__transformers': [('onehotencoder',\n",
              "   OneHotEncoder(handle_unknown='ignore', sparse=False),\n",
              "   <sklearn.compose._column_transformer.make_column_selector at 0x7f73d04544d0>),\n",
              "  ('pipeline', Pipeline(steps=[('simpleimputer', SimpleImputer()),\n",
              "                   ('standardscaler', StandardScaler())]), <sklearn.compose._column_transformer.make_column_selector at 0x7f73d321a950>)],\n",
              " 'columntransformer__verbose': False,\n",
              " 'columntransformer__verbose_feature_names_out': True,\n",
              " 'columntransformer__onehotencoder': OneHotEncoder(handle_unknown='ignore', sparse=False),\n",
              " 'columntransformer__pipeline': Pipeline(steps=[('simpleimputer', SimpleImputer()),\n",
              "                 ('standardscaler', StandardScaler())]),\n",
              " 'columntransformer__onehotencoder__categories': 'auto',\n",
              " 'columntransformer__onehotencoder__drop': None,\n",
              " 'columntransformer__onehotencoder__dtype': numpy.float64,\n",
              " 'columntransformer__onehotencoder__handle_unknown': 'ignore',\n",
              " 'columntransformer__onehotencoder__sparse': False,\n",
              " 'columntransformer__pipeline__memory': None,\n",
              " 'columntransformer__pipeline__steps': [('simpleimputer', SimpleImputer()),\n",
              "  ('standardscaler', StandardScaler())],\n",
              " 'columntransformer__pipeline__verbose': False,\n",
              " 'columntransformer__pipeline__simpleimputer': SimpleImputer(),\n",
              " 'columntransformer__pipeline__standardscaler': StandardScaler(),\n",
              " 'columntransformer__pipeline__simpleimputer__add_indicator': False,\n",
              " 'columntransformer__pipeline__simpleimputer__copy': True,\n",
              " 'columntransformer__pipeline__simpleimputer__fill_value': None,\n",
              " 'columntransformer__pipeline__simpleimputer__missing_values': nan,\n",
              " 'columntransformer__pipeline__simpleimputer__strategy': 'mean',\n",
              " 'columntransformer__pipeline__simpleimputer__verbose': 0,\n",
              " 'columntransformer__pipeline__standardscaler__copy': True,\n",
              " 'columntransformer__pipeline__standardscaler__with_mean': True,\n",
              " 'columntransformer__pipeline__standardscaler__with_std': True,\n",
              " 'xgbclassifier__base_score': 0.5,\n",
              " 'xgbclassifier__booster': 'gbtree',\n",
              " 'xgbclassifier__colsample_bylevel': 1,\n",
              " 'xgbclassifier__colsample_bynode': 1,\n",
              " 'xgbclassifier__colsample_bytree': 1,\n",
              " 'xgbclassifier__gamma': 0,\n",
              " 'xgbclassifier__learning_rate': 0.1,\n",
              " 'xgbclassifier__max_delta_step': 0,\n",
              " 'xgbclassifier__max_depth': 3,\n",
              " 'xgbclassifier__min_child_weight': 1,\n",
              " 'xgbclassifier__missing': None,\n",
              " 'xgbclassifier__n_estimators': 100,\n",
              " 'xgbclassifier__n_jobs': 1,\n",
              " 'xgbclassifier__nthread': None,\n",
              " 'xgbclassifier__objective': 'binary:logistic',\n",
              " 'xgbclassifier__random_state': 0,\n",
              " 'xgbclassifier__reg_alpha': 0,\n",
              " 'xgbclassifier__reg_lambda': 1,\n",
              " 'xgbclassifier__scale_pos_weight': 1,\n",
              " 'xgbclassifier__seed': None,\n",
              " 'xgbclassifier__silent': None,\n",
              " 'xgbclassifier__subsample': 1,\n",
              " 'xgbclassifier__verbosity': 1}"
            ]
          },
          "metadata": {},
          "execution_count": 132
        }
      ]
    },
    {
      "cell_type": "code",
      "source": [
        "xgb_param_grid = {'xgbclassifier__learning_rate':[0.1, 0.001, 0.0001, 1, 10],\n",
        "                  'xgbclassifier__n_estimators': (10, 500),\n",
        "                  'xgbclassifier__colsample_bynode': (1, 10)}\n"
      ],
      "metadata": {
        "id": "CTqAky4xMRzk"
      },
      "execution_count": 133,
      "outputs": []
    },
    {
      "cell_type": "code",
      "source": [
        "# instantiate the GridSearchCV Class\n",
        "xgb_grid_search = GridSearchCV(xgb_model_pipe, xgb_param_grid)\n"
      ],
      "metadata": {
        "id": "DOphQbvdM3mz"
      },
      "execution_count": 134,
      "outputs": []
    },
    {
      "cell_type": "code",
      "source": [
        "# fit xgb GridSeachCv on training data\n",
        "xgb_grid_search.fit(X_train, y_train)"
      ],
      "metadata": {
        "colab": {
          "base_uri": "https://localhost:8080/"
        },
        "id": "C07N7-09M6vb",
        "outputId": "40807af9-dc69-46a2-9911-9ee43cfadbca"
      },
      "execution_count": 135,
      "outputs": [
        {
          "output_type": "stream",
          "name": "stderr",
          "text": [
            "/usr/local/lib/python3.7/dist-packages/sklearn/model_selection/_validation.py:372: FitFailedWarning: \n",
            "50 fits failed out of a total of 100.\n",
            "The score on these train-test partitions for these parameters will be set to nan.\n",
            "If these failures are not expected, you can try to debug them by setting error_score='raise'.\n",
            "\n",
            "Below are more details about the failures:\n",
            "--------------------------------------------------------------------------------\n",
            "50 fits failed with the following error:\n",
            "Traceback (most recent call last):\n",
            "  File \"/usr/local/lib/python3.7/dist-packages/sklearn/model_selection/_validation.py\", line 680, in _fit_and_score\n",
            "    estimator.fit(X_train, y_train, **fit_params)\n",
            "  File \"/usr/local/lib/python3.7/dist-packages/sklearn/pipeline.py\", line 394, in fit\n",
            "    self._final_estimator.fit(Xt, y, **fit_params_last_step)\n",
            "  File \"/usr/local/lib/python3.7/dist-packages/xgboost/sklearn.py\", line 732, in fit\n",
            "    callbacks=callbacks)\n",
            "  File \"/usr/local/lib/python3.7/dist-packages/xgboost/training.py\", line 216, in train\n",
            "    xgb_model=xgb_model, callbacks=callbacks)\n",
            "  File \"/usr/local/lib/python3.7/dist-packages/xgboost/training.py\", line 74, in _train_internal\n",
            "    bst.update(dtrain, i, obj)\n",
            "  File \"/usr/local/lib/python3.7/dist-packages/xgboost/core.py\", line 1109, in update\n",
            "    dtrain.handle))\n",
            "  File \"/usr/local/lib/python3.7/dist-packages/xgboost/core.py\", line 176, in _check_call\n",
            "    raise XGBoostError(py_str(_LIB.XGBGetLastError()))\n",
            "xgboost.core.XGBoostError: value 10 for Parameter colsample_bynode exceed bound [0,1]\n",
            "\n",
            "  warnings.warn(some_fits_failed_message, FitFailedWarning)\n",
            "/usr/local/lib/python3.7/dist-packages/sklearn/model_selection/_search.py:972: UserWarning: One or more of the test scores are non-finite: [0.95588625 0.95197048 0.95510296 0.95588625 0.95510296 0.95510296\n",
            " 0.95197116 0.94022454 0.95588625 0.95536474        nan        nan\n",
            "        nan        nan        nan        nan        nan        nan\n",
            "        nan        nan]\n",
            "  category=UserWarning,\n"
          ]
        },
        {
          "output_type": "execute_result",
          "data": {
            "text/plain": [
              "GridSearchCV(estimator=Pipeline(steps=[('columntransformer',\n",
              "                                        ColumnTransformer(remainder='passthrough',\n",
              "                                                          transformers=[('onehotencoder',\n",
              "                                                                         OneHotEncoder(handle_unknown='ignore',\n",
              "                                                                                       sparse=False),\n",
              "                                                                         <sklearn.compose._column_transformer.make_column_selector object at 0x7f73d04544d0>),\n",
              "                                                                        ('pipeline',\n",
              "                                                                         Pipeline(steps=[('simpleimputer',\n",
              "                                                                                          SimpleImputer()),\n",
              "                                                                                         ('standardscaler',\n",
              "                                                                                          StandardScaler())]),\n",
              "                                                                         <sklearn.compose._column_transformer.make_column_selector object at 0x7f73d321a950>)])),\n",
              "                                       ('xgbclassifier', XGBClassifier())]),\n",
              "             param_grid={'xgbclassifier__colsample_bynode': (1, 10),\n",
              "                         'xgbclassifier__learning_rate': [0.1, 0.001, 0.0001, 1,\n",
              "                                                          10],\n",
              "                         'xgbclassifier__n_estimators': (10, 500)})"
            ]
          },
          "metadata": {},
          "execution_count": 135
        }
      ]
    },
    {
      "cell_type": "code",
      "source": [
        "# examine xgb best parameters found by search\n",
        "xgb_grid_search.best_params_"
      ],
      "metadata": {
        "colab": {
          "base_uri": "https://localhost:8080/"
        },
        "id": "mGSHVx1HM-Fn",
        "outputId": "94034e39-c796-4ecb-f5b9-16b6b654b675"
      },
      "execution_count": 136,
      "outputs": [
        {
          "output_type": "execute_result",
          "data": {
            "text/plain": [
              "{'xgbclassifier__colsample_bynode': 1,\n",
              " 'xgbclassifier__learning_rate': 0.1,\n",
              " 'xgbclassifier__n_estimators': 10}"
            ]
          },
          "metadata": {},
          "execution_count": 136
        }
      ]
    },
    {
      "cell_type": "code",
      "source": [
        "\n",
        "xgb_best_model = dt_grid_search.best_estimator_\n",
        "\n",
        "xgb_best_model.fit(X_train, y_train)\n",
        "\n",
        "xgb_best_model.score(X_test, y_test)\n"
      ],
      "metadata": {
        "colab": {
          "base_uri": "https://localhost:8080/"
        },
        "id": "qbPCBHRtLSBZ",
        "outputId": "33d1363c-d87e-4acd-bb3c-8c98521a5420"
      },
      "execution_count": 137,
      "outputs": [
        {
          "output_type": "execute_result",
          "data": {
            "text/plain": [
              "0.9374021909233177"
            ]
          },
          "metadata": {},
          "execution_count": 137
        }
      ]
    },
    {
      "cell_type": "code",
      "source": [
        "xgb_best_test_preds = xgb_best_model.predict(X_test)\n",
        "print(classification_report(y_test, xgb_best_test_preds))"
      ],
      "metadata": {
        "colab": {
          "base_uri": "https://localhost:8080/"
        },
        "id": "41Q5w5TJlD_b",
        "outputId": "206d834f-216d-4a26-becc-22da4695134f"
      },
      "execution_count": 198,
      "outputs": [
        {
          "output_type": "stream",
          "name": "stdout",
          "text": [
            "              precision    recall  f1-score   support\n",
            "\n",
            "           0       0.94      1.00      0.97      1198\n",
            "           1       0.00      0.00      0.00        80\n",
            "\n",
            "    accuracy                           0.94      1278\n",
            "   macro avg       0.47      0.50      0.48      1278\n",
            "weighted avg       0.88      0.94      0.91      1278\n",
            "\n"
          ]
        },
        {
          "output_type": "stream",
          "name": "stderr",
          "text": [
            "/usr/local/lib/python3.7/dist-packages/sklearn/metrics/_classification.py:1318: UndefinedMetricWarning: Precision and F-score are ill-defined and being set to 0.0 in labels with no predicted samples. Use `zero_division` parameter to control this behavior.\n",
            "  _warn_prf(average, modifier, msg_start, len(result))\n",
            "/usr/local/lib/python3.7/dist-packages/sklearn/metrics/_classification.py:1318: UndefinedMetricWarning: Precision and F-score are ill-defined and being set to 0.0 in labels with no predicted samples. Use `zero_division` parameter to control this behavior.\n",
            "  _warn_prf(average, modifier, msg_start, len(result))\n",
            "/usr/local/lib/python3.7/dist-packages/sklearn/metrics/_classification.py:1318: UndefinedMetricWarning: Precision and F-score are ill-defined and being set to 0.0 in labels with no predicted samples. Use `zero_division` parameter to control this behavior.\n",
            "  _warn_prf(average, modifier, msg_start, len(result))\n"
          ]
        }
      ]
    },
    {
      "cell_type": "markdown",
      "source": [
        "### *Production Model*"
      ],
      "metadata": {
        "id": "ajlqFIaoliLG"
      }
    },
    {
      "cell_type": "code",
      "source": [],
      "metadata": {
        "id": "FdA1_ImIlg9B"
      },
      "execution_count": null,
      "outputs": []
    }
  ]
}