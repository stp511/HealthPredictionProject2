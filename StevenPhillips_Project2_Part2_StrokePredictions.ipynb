{
  "nbformat": 4,
  "nbformat_minor": 0,
  "metadata": {
    "colab": {
      "provenance": [],
      "collapsed_sections": [],
      "authorship_tag": "ABX9TyNKM3n7OcohFakfuXH0gEbG",
      "include_colab_link": true
    },
    "kernelspec": {
      "name": "python3",
      "display_name": "Python 3"
    },
    "language_info": {
      "name": "python"
    }
  },
  "cells": [
    {
      "cell_type": "markdown",
      "metadata": {
        "id": "view-in-github",
        "colab_type": "text"
      },
      "source": [
        "<a href=\"https://colab.research.google.com/github/stp511/HealthPredictionProject2/blob/main/StevenPhillips_Project2_Part2_StrokePredictions.ipynb\" target=\"_parent\"><img src=\"https://colab.research.google.com/assets/colab-badge.svg\" alt=\"Open In Colab\"/></a>"
      ]
    },
    {
      "cell_type": "markdown",
      "source": [
        "# **Project 2 Part 2 - Stroke Predictions**\n",
        "- **Steven Phillips**\n",
        "- November 4, 2022\n",
        "\n",
        "The goal of this project will be to use the data set and create a best model for predicting the presence of stroke in patients.  "
      ],
      "metadata": {
        "id": "XAHuLTCOZsR-"
      }
    },
    {
      "cell_type": "markdown",
      "source": [
        "## **Import Libraries, Load, Copy and Explore Data**\n"
      ],
      "metadata": {
        "id": "PX9sd5dCZ8YZ"
      }
    },
    {
      "cell_type": "code",
      "source": [
        "#import the pandas and numpy library\n",
        "import pandas as pd\n",
        "import numpy as np\n",
        "import matplotlib.pyplot as plt"
      ],
      "metadata": {
        "id": "eZSJgu88aHSS"
      },
      "execution_count": 1,
      "outputs": []
    },
    {
      "cell_type": "code",
      "source": [
        "#mount data\n",
        "from google.colab import drive\n",
        "drive.mount('/content/drive')"
      ],
      "metadata": {
        "colab": {
          "base_uri": "https://localhost:8080/"
        },
        "id": "H5UyT7cqaPRs",
        "outputId": "9d0f9a8f-ee58-45f6-eca7-84ffa92845a1"
      },
      "execution_count": 2,
      "outputs": [
        {
          "output_type": "stream",
          "name": "stdout",
          "text": [
            "Mounted at /content/drive\n"
          ]
        }
      ]
    },
    {
      "cell_type": "code",
      "source": [
        "#Load the data for Stroke Prediction Data Set csv file as a data frame, copy the data frame and present the first five rows\n",
        "filename = '/content/healthcare-dataset-stroke-data.csv'\n",
        "df = pd.read_csv(filename)\n",
        "df_ml = df.copy()\n",
        "df_ml.head()"
      ],
      "metadata": {
        "colab": {
          "base_uri": "https://localhost:8080/",
          "height": 305
        },
        "id": "gdCv1SdwaV-w",
        "outputId": "ebb0a7ce-92a0-4683-9e32-8758664aa260"
      },
      "execution_count": 3,
      "outputs": [
        {
          "output_type": "execute_result",
          "data": {
            "text/plain": [
              "      id  gender   age  hypertension  heart_disease ever_married  \\\n",
              "0   9046    Male  67.0             0              1          Yes   \n",
              "1  51676  Female  61.0             0              0          Yes   \n",
              "2  31112    Male  80.0             0              1          Yes   \n",
              "3  60182  Female  49.0             0              0          Yes   \n",
              "4   1665  Female  79.0             1              0          Yes   \n",
              "\n",
              "       work_type Residence_type  avg_glucose_level   bmi   smoking_status  \\\n",
              "0        Private          Urban             228.69  36.6  formerly smoked   \n",
              "1  Self-employed          Rural             202.21   NaN     never smoked   \n",
              "2        Private          Rural             105.92  32.5     never smoked   \n",
              "3        Private          Urban             171.23  34.4           smokes   \n",
              "4  Self-employed          Rural             174.12  24.0     never smoked   \n",
              "\n",
              "   stroke  \n",
              "0       1  \n",
              "1       1  \n",
              "2       1  \n",
              "3       1  \n",
              "4       1  "
            ],
            "text/html": [
              "\n",
              "  <div id=\"df-53e185e8-4419-4e5f-9026-4c7b6488d4e5\">\n",
              "    <div class=\"colab-df-container\">\n",
              "      <div>\n",
              "<style scoped>\n",
              "    .dataframe tbody tr th:only-of-type {\n",
              "        vertical-align: middle;\n",
              "    }\n",
              "\n",
              "    .dataframe tbody tr th {\n",
              "        vertical-align: top;\n",
              "    }\n",
              "\n",
              "    .dataframe thead th {\n",
              "        text-align: right;\n",
              "    }\n",
              "</style>\n",
              "<table border=\"1\" class=\"dataframe\">\n",
              "  <thead>\n",
              "    <tr style=\"text-align: right;\">\n",
              "      <th></th>\n",
              "      <th>id</th>\n",
              "      <th>gender</th>\n",
              "      <th>age</th>\n",
              "      <th>hypertension</th>\n",
              "      <th>heart_disease</th>\n",
              "      <th>ever_married</th>\n",
              "      <th>work_type</th>\n",
              "      <th>Residence_type</th>\n",
              "      <th>avg_glucose_level</th>\n",
              "      <th>bmi</th>\n",
              "      <th>smoking_status</th>\n",
              "      <th>stroke</th>\n",
              "    </tr>\n",
              "  </thead>\n",
              "  <tbody>\n",
              "    <tr>\n",
              "      <th>0</th>\n",
              "      <td>9046</td>\n",
              "      <td>Male</td>\n",
              "      <td>67.0</td>\n",
              "      <td>0</td>\n",
              "      <td>1</td>\n",
              "      <td>Yes</td>\n",
              "      <td>Private</td>\n",
              "      <td>Urban</td>\n",
              "      <td>228.69</td>\n",
              "      <td>36.6</td>\n",
              "      <td>formerly smoked</td>\n",
              "      <td>1</td>\n",
              "    </tr>\n",
              "    <tr>\n",
              "      <th>1</th>\n",
              "      <td>51676</td>\n",
              "      <td>Female</td>\n",
              "      <td>61.0</td>\n",
              "      <td>0</td>\n",
              "      <td>0</td>\n",
              "      <td>Yes</td>\n",
              "      <td>Self-employed</td>\n",
              "      <td>Rural</td>\n",
              "      <td>202.21</td>\n",
              "      <td>NaN</td>\n",
              "      <td>never smoked</td>\n",
              "      <td>1</td>\n",
              "    </tr>\n",
              "    <tr>\n",
              "      <th>2</th>\n",
              "      <td>31112</td>\n",
              "      <td>Male</td>\n",
              "      <td>80.0</td>\n",
              "      <td>0</td>\n",
              "      <td>1</td>\n",
              "      <td>Yes</td>\n",
              "      <td>Private</td>\n",
              "      <td>Rural</td>\n",
              "      <td>105.92</td>\n",
              "      <td>32.5</td>\n",
              "      <td>never smoked</td>\n",
              "      <td>1</td>\n",
              "    </tr>\n",
              "    <tr>\n",
              "      <th>3</th>\n",
              "      <td>60182</td>\n",
              "      <td>Female</td>\n",
              "      <td>49.0</td>\n",
              "      <td>0</td>\n",
              "      <td>0</td>\n",
              "      <td>Yes</td>\n",
              "      <td>Private</td>\n",
              "      <td>Urban</td>\n",
              "      <td>171.23</td>\n",
              "      <td>34.4</td>\n",
              "      <td>smokes</td>\n",
              "      <td>1</td>\n",
              "    </tr>\n",
              "    <tr>\n",
              "      <th>4</th>\n",
              "      <td>1665</td>\n",
              "      <td>Female</td>\n",
              "      <td>79.0</td>\n",
              "      <td>1</td>\n",
              "      <td>0</td>\n",
              "      <td>Yes</td>\n",
              "      <td>Self-employed</td>\n",
              "      <td>Rural</td>\n",
              "      <td>174.12</td>\n",
              "      <td>24.0</td>\n",
              "      <td>never smoked</td>\n",
              "      <td>1</td>\n",
              "    </tr>\n",
              "  </tbody>\n",
              "</table>\n",
              "</div>\n",
              "      <button class=\"colab-df-convert\" onclick=\"convertToInteractive('df-53e185e8-4419-4e5f-9026-4c7b6488d4e5')\"\n",
              "              title=\"Convert this dataframe to an interactive table.\"\n",
              "              style=\"display:none;\">\n",
              "        \n",
              "  <svg xmlns=\"http://www.w3.org/2000/svg\" height=\"24px\"viewBox=\"0 0 24 24\"\n",
              "       width=\"24px\">\n",
              "    <path d=\"M0 0h24v24H0V0z\" fill=\"none\"/>\n",
              "    <path d=\"M18.56 5.44l.94 2.06.94-2.06 2.06-.94-2.06-.94-.94-2.06-.94 2.06-2.06.94zm-11 1L8.5 8.5l.94-2.06 2.06-.94-2.06-.94L8.5 2.5l-.94 2.06-2.06.94zm10 10l.94 2.06.94-2.06 2.06-.94-2.06-.94-.94-2.06-.94 2.06-2.06.94z\"/><path d=\"M17.41 7.96l-1.37-1.37c-.4-.4-.92-.59-1.43-.59-.52 0-1.04.2-1.43.59L10.3 9.45l-7.72 7.72c-.78.78-.78 2.05 0 2.83L4 21.41c.39.39.9.59 1.41.59.51 0 1.02-.2 1.41-.59l7.78-7.78 2.81-2.81c.8-.78.8-2.07 0-2.86zM5.41 20L4 18.59l7.72-7.72 1.47 1.35L5.41 20z\"/>\n",
              "  </svg>\n",
              "      </button>\n",
              "      \n",
              "  <style>\n",
              "    .colab-df-container {\n",
              "      display:flex;\n",
              "      flex-wrap:wrap;\n",
              "      gap: 12px;\n",
              "    }\n",
              "\n",
              "    .colab-df-convert {\n",
              "      background-color: #E8F0FE;\n",
              "      border: none;\n",
              "      border-radius: 50%;\n",
              "      cursor: pointer;\n",
              "      display: none;\n",
              "      fill: #1967D2;\n",
              "      height: 32px;\n",
              "      padding: 0 0 0 0;\n",
              "      width: 32px;\n",
              "    }\n",
              "\n",
              "    .colab-df-convert:hover {\n",
              "      background-color: #E2EBFA;\n",
              "      box-shadow: 0px 1px 2px rgba(60, 64, 67, 0.3), 0px 1px 3px 1px rgba(60, 64, 67, 0.15);\n",
              "      fill: #174EA6;\n",
              "    }\n",
              "\n",
              "    [theme=dark] .colab-df-convert {\n",
              "      background-color: #3B4455;\n",
              "      fill: #D2E3FC;\n",
              "    }\n",
              "\n",
              "    [theme=dark] .colab-df-convert:hover {\n",
              "      background-color: #434B5C;\n",
              "      box-shadow: 0px 1px 3px 1px rgba(0, 0, 0, 0.15);\n",
              "      filter: drop-shadow(0px 1px 2px rgba(0, 0, 0, 0.3));\n",
              "      fill: #FFFFFF;\n",
              "    }\n",
              "  </style>\n",
              "\n",
              "      <script>\n",
              "        const buttonEl =\n",
              "          document.querySelector('#df-53e185e8-4419-4e5f-9026-4c7b6488d4e5 button.colab-df-convert');\n",
              "        buttonEl.style.display =\n",
              "          google.colab.kernel.accessAllowed ? 'block' : 'none';\n",
              "\n",
              "        async function convertToInteractive(key) {\n",
              "          const element = document.querySelector('#df-53e185e8-4419-4e5f-9026-4c7b6488d4e5');\n",
              "          const dataTable =\n",
              "            await google.colab.kernel.invokeFunction('convertToInteractive',\n",
              "                                                     [key], {});\n",
              "          if (!dataTable) return;\n",
              "\n",
              "          const docLinkHtml = 'Like what you see? Visit the ' +\n",
              "            '<a target=\"_blank\" href=https://colab.research.google.com/notebooks/data_table.ipynb>data table notebook</a>'\n",
              "            + ' to learn more about interactive tables.';\n",
              "          element.innerHTML = '';\n",
              "          dataTable['output_type'] = 'display_data';\n",
              "          await google.colab.output.renderOutput(dataTable, element);\n",
              "          const docLink = document.createElement('div');\n",
              "          docLink.innerHTML = docLinkHtml;\n",
              "          element.appendChild(docLink);\n",
              "        }\n",
              "      </script>\n",
              "    </div>\n",
              "  </div>\n",
              "  "
            ]
          },
          "metadata": {},
          "execution_count": 3
        }
      ]
    },
    {
      "cell_type": "markdown",
      "source": [
        "## **Project 2 - Part 1 Questions**\n",
        "\n",
        "1. Source of Data\n",
        "2. Brief description of data\n",
        "3. What is the target?\n",
        "4. What does one row represent?\n",
        "5. Is this a regression or classification problem?\n",
        "6. How many features does the data have?\n",
        "7. How many rows in the data set?\n",
        "8. What, if any, challenges do you foresee in cleaning, exploring, or modeling with this dataset?"
      ],
      "metadata": {
        "id": "aGyomfWibdhX"
      }
    },
    {
      "cell_type": "markdown",
      "source": [
        "### **1. Source of data**"
      ],
      "metadata": {
        "id": "fBk9VDf4bieb"
      }
    },
    {
      "cell_type": "markdown",
      "source": [
        "1. The source of this data is the Kaggle website and here is the link:\n",
        "\n",
        "https://www.kaggle.com/datasets/fedesoriano/stroke-prediction-dataset"
      ],
      "metadata": {
        "id": "dSwUiY0WcnqA"
      }
    },
    {
      "cell_type": "markdown",
      "source": [
        "### **2. Brief description of data**\n",
        "\n",
        "\"This dataset is used to predict whether a patient is likely to get stroke based on the input parameters like gender, age, various diseases, and smoking status. Each row in the data provides relavant information about the patient.\" \n",
        "\n",
        "Source: https://www.kaggle.com/datasets/fedesoriano/stroke-prediction-dataset"
      ],
      "metadata": {
        "id": "F2TsawIOdNBh"
      }
    },
    {
      "cell_type": "markdown",
      "source": [
        "### **3. What is the target?**\n",
        "\n",
        "The target for this data set will be the 'stroke' feature.  Specifically, whether or not each patient had a stroke."
      ],
      "metadata": {
        "id": "6CwvMaJ6dg3D"
      }
    },
    {
      "cell_type": "markdown",
      "source": [
        "### **4. What does one row represent?**\n",
        "\n",
        "Each row represents a patient from the study."
      ],
      "metadata": {
        "id": "YmEBkZLydybj"
      }
    },
    {
      "cell_type": "markdown",
      "source": [
        "### **5. Is this a regression or a classification problem?**\n",
        "\n",
        "The model will predict the stroke feature, which is a binary classification problem, 'stroke' or 'no stroke'."
      ],
      "metadata": {
        "id": "Y3tkAv_Md6vc"
      }
    },
    {
      "cell_type": "markdown",
      "source": [
        "### **6. How many features does the data have?**\n",
        "\n",
        "The data comes with 12 features, as seen in the first five rows of the data frame above.  However, the first feature, essentially the patient id, will not be used in modeling.  So there will be 10 features, including a mix of categorical and numerical, to choose from and one target feature."
      ],
      "metadata": {
        "id": "pQOBh0UteP-b"
      }
    },
    {
      "cell_type": "markdown",
      "source": [
        "### **7. How many rows in the data set?**\n",
        "\n",
        "There are 5,110 observations or rows."
      ],
      "metadata": {
        "id": "7S3RkpA8epGg"
      }
    },
    {
      "cell_type": "code",
      "source": [
        "# shape of the data  (rows, columns)\n",
        "df_ml.shape"
      ],
      "metadata": {
        "colab": {
          "base_uri": "https://localhost:8080/"
        },
        "id": "XFMvHjfWeu9X",
        "outputId": "3a859a98-b00c-4924-af6d-9fec5f3a455c"
      },
      "execution_count": 4,
      "outputs": [
        {
          "output_type": "execute_result",
          "data": {
            "text/plain": [
              "(5110, 12)"
            ]
          },
          "metadata": {},
          "execution_count": 4
        }
      ]
    },
    {
      "cell_type": "markdown",
      "source": [
        "### **8. What, if any, challenges do you foresee in cleaning, exploring, or modeling with this dataset?**\n",
        "\n",
        "There are a few issues that present challenges.  Choosing the best classification model will be a challenge.  Initially, cleaning the data set will have issues including dealing with missing entries from the bmi feature and checking the naming is consistent for the object data type features."
      ],
      "metadata": {
        "id": "4r4RGW9bez53"
      }
    },
    {
      "cell_type": "code",
      "source": [
        "# missing data by feature\n",
        "df_ml.isna().sum()"
      ],
      "metadata": {
        "colab": {
          "base_uri": "https://localhost:8080/"
        },
        "id": "UwmhJ8zCfJ31",
        "outputId": "9e163216-3068-49ea-853a-d1266f170521"
      },
      "execution_count": 5,
      "outputs": [
        {
          "output_type": "execute_result",
          "data": {
            "text/plain": [
              "id                     0\n",
              "gender                 0\n",
              "age                    0\n",
              "hypertension           0\n",
              "heart_disease          0\n",
              "ever_married           0\n",
              "work_type              0\n",
              "Residence_type         0\n",
              "avg_glucose_level      0\n",
              "bmi                  201\n",
              "smoking_status         0\n",
              "stroke                 0\n",
              "dtype: int64"
            ]
          },
          "metadata": {},
          "execution_count": 5
        }
      ]
    },
    {
      "cell_type": "markdown",
      "source": [
        "## **Project 2 - Part 2 Clean and Explore the Data Set**"
      ],
      "metadata": {
        "id": "vlE9NAaeskI3"
      }
    },
    {
      "cell_type": "markdown",
      "source": [
        "## **Data Cleaning**"
      ],
      "metadata": {
        "id": "lDDtjgpWa4R7"
      }
    },
    {
      "cell_type": "markdown",
      "source": [
        "**Be sure to address:**\n",
        "- delete unnecessary columns\n",
        "- delete duplicate rows\n",
        "- identify and address missing values\n",
        "- identify and correct inconsistencies in data for categorical values\n"
      ],
      "metadata": {
        "id": "zJFlIuPe45Lk"
      }
    },
    {
      "cell_type": "code",
      "source": [
        "# check number of unique values by feature\n",
        "df_ml.nunique()"
      ],
      "metadata": {
        "colab": {
          "base_uri": "https://localhost:8080/"
        },
        "id": "wc5-mvTOtS9r",
        "outputId": "374d8ab4-17f1-4a24-f8af-fcf414438a26"
      },
      "execution_count": 6,
      "outputs": [
        {
          "output_type": "execute_result",
          "data": {
            "text/plain": [
              "id                   5110\n",
              "gender                  3\n",
              "age                   104\n",
              "hypertension            2\n",
              "heart_disease           2\n",
              "ever_married            2\n",
              "work_type               5\n",
              "Residence_type          2\n",
              "avg_glucose_level    3979\n",
              "bmi                   418\n",
              "smoking_status          4\n",
              "stroke                  2\n",
              "dtype: int64"
            ]
          },
          "metadata": {},
          "execution_count": 6
        }
      ]
    },
    {
      "cell_type": "markdown",
      "source": [
        "### **'id' unnecessary for analysis and will be dropped here:**"
      ],
      "metadata": {
        "id": "fAZtI5i16iha"
      }
    },
    {
      "cell_type": "code",
      "source": [
        "# drop 'id' feature\n",
        "df_ml = df_ml.drop(columns = ['id'])\n"
      ],
      "metadata": {
        "id": "hZLX0MHG5t1R"
      },
      "execution_count": 7,
      "outputs": []
    },
    {
      "cell_type": "markdown",
      "source": [
        "### **No duplicated rows to address:**"
      ],
      "metadata": {
        "id": "L2e1VdPj6r8G"
      }
    },
    {
      "cell_type": "code",
      "source": [
        "# check for duplicate rows\n",
        "df_ml.duplicated().sum()"
      ],
      "metadata": {
        "colab": {
          "base_uri": "https://localhost:8080/"
        },
        "id": "0Sc_f2_r6sTj",
        "outputId": "666d3c9f-3632-4333-ebc2-fec55f76dee5"
      },
      "execution_count": 8,
      "outputs": [
        {
          "output_type": "execute_result",
          "data": {
            "text/plain": [
              "0"
            ]
          },
          "metadata": {},
          "execution_count": 8
        }
      ]
    },
    {
      "cell_type": "markdown",
      "source": [
        "### **Check for missing values:**"
      ],
      "metadata": {
        "id": "jOVEh9cj7IQ8"
      }
    },
    {
      "cell_type": "code",
      "source": [
        "df_ml.isna().sum()"
      ],
      "metadata": {
        "colab": {
          "base_uri": "https://localhost:8080/"
        },
        "id": "WGjVxJbA7Iq-",
        "outputId": "d37feda0-d0bf-4e4c-fb93-a6404913303b"
      },
      "execution_count": 9,
      "outputs": [
        {
          "output_type": "execute_result",
          "data": {
            "text/plain": [
              "gender                 0\n",
              "age                    0\n",
              "hypertension           0\n",
              "heart_disease          0\n",
              "ever_married           0\n",
              "work_type              0\n",
              "Residence_type         0\n",
              "avg_glucose_level      0\n",
              "bmi                  201\n",
              "smoking_status         0\n",
              "stroke                 0\n",
              "dtype: int64"
            ]
          },
          "metadata": {},
          "execution_count": 9
        }
      ]
    },
    {
      "cell_type": "markdown",
      "source": [
        "### **'bmi' missing 201 values:**"
      ],
      "metadata": {
        "id": "1k1NWyuV78XU"
      }
    },
    {
      "cell_type": "markdown",
      "source": [
        "Impute the mean bmi into the 201 missing values."
      ],
      "metadata": {
        "id": "2rSIHQVq-izJ"
      }
    },
    {
      "cell_type": "code",
      "source": [
        "# calculate the mean 'bmi' and impute into the missing values\n",
        "mean_bmi = df_ml['bmi'].mean()\n",
        "df_ml['bmi'].fillna(mean_bmi, inplace=True)\n",
        "df_ml.isna().sum()"
      ],
      "metadata": {
        "colab": {
          "base_uri": "https://localhost:8080/"
        },
        "id": "B_-Z8giD-SEe",
        "outputId": "14231353-a0a9-49bb-bd99-93f49793023a"
      },
      "execution_count": 10,
      "outputs": [
        {
          "output_type": "execute_result",
          "data": {
            "text/plain": [
              "gender               0\n",
              "age                  0\n",
              "hypertension         0\n",
              "heart_disease        0\n",
              "ever_married         0\n",
              "work_type            0\n",
              "Residence_type       0\n",
              "avg_glucose_level    0\n",
              "bmi                  0\n",
              "smoking_status       0\n",
              "stroke               0\n",
              "dtype: int64"
            ]
          },
          "metadata": {},
          "execution_count": 10
        }
      ]
    },
    {
      "cell_type": "markdown",
      "source": [],
      "metadata": {
        "id": "_Vyig4VG-8Fr"
      }
    },
    {
      "cell_type": "code",
      "source": [
        "df.info()"
      ],
      "metadata": {
        "colab": {
          "base_uri": "https://localhost:8080/"
        },
        "id": "X2lpruuf_FqD",
        "outputId": "092bb2ef-8435-4d9e-eab2-c9f73a276aaf"
      },
      "execution_count": 11,
      "outputs": [
        {
          "output_type": "stream",
          "name": "stdout",
          "text": [
            "<class 'pandas.core.frame.DataFrame'>\n",
            "RangeIndex: 5110 entries, 0 to 5109\n",
            "Data columns (total 12 columns):\n",
            " #   Column             Non-Null Count  Dtype  \n",
            "---  ------             --------------  -----  \n",
            " 0   id                 5110 non-null   int64  \n",
            " 1   gender             5110 non-null   object \n",
            " 2   age                5110 non-null   float64\n",
            " 3   hypertension       5110 non-null   int64  \n",
            " 4   heart_disease      5110 non-null   int64  \n",
            " 5   ever_married       5110 non-null   object \n",
            " 6   work_type          5110 non-null   object \n",
            " 7   Residence_type     5110 non-null   object \n",
            " 8   avg_glucose_level  5110 non-null   float64\n",
            " 9   bmi                4909 non-null   float64\n",
            " 10  smoking_status     5110 non-null   object \n",
            " 11  stroke             5110 non-null   int64  \n",
            "dtypes: float64(3), int64(4), object(5)\n",
            "memory usage: 479.2+ KB\n"
          ]
        }
      ]
    },
    {
      "cell_type": "code",
      "source": [
        "# Check categories for inconsistencies\n",
        "\n",
        "for col in df_ml.select_dtypes('object'):\n",
        "  print(f'{df_ml[col].value_counts()} \\n')"
      ],
      "metadata": {
        "colab": {
          "base_uri": "https://localhost:8080/"
        },
        "id": "mKdkvvfS_aGh",
        "outputId": "aeebed5c-e8c5-4788-a8d6-e2b3c88e4861"
      },
      "execution_count": 29,
      "outputs": [
        {
          "output_type": "stream",
          "name": "stdout",
          "text": [
            "Female    2994\n",
            "Male      2115\n",
            "Other        1\n",
            "Name: gender, dtype: int64 \n",
            "\n",
            "Yes    3353\n",
            "No     1757\n",
            "Name: ever_married, dtype: int64 \n",
            "\n",
            "Private          2925\n",
            "Self-employed     819\n",
            "children          687\n",
            "Govt_job          657\n",
            "Never_worked       22\n",
            "Name: work_type, dtype: int64 \n",
            "\n",
            "Urban    2596\n",
            "Rural    2514\n",
            "Name: Residence_type, dtype: int64 \n",
            "\n",
            "never smoked       1892\n",
            "Unknown            1544\n",
            "formerly smoked     885\n",
            "smokes              789\n",
            "Name: smoking_status, dtype: int64 \n",
            "\n"
          ]
        }
      ]
    },
    {
      "cell_type": "markdown",
      "source": [
        "## **Exploratory Visuals**"
      ],
      "metadata": {
        "id": "5QfmOx1aa9fM"
      }
    },
    {
      "cell_type": "markdown",
      "source": [
        "- produce univariate visuals for the target and all features\n",
        "- identify outliers"
      ],
      "metadata": {
        "id": "1thsOylm5G0g"
      }
    },
    {
      "cell_type": "markdown",
      "source": [
        "### **'stroke'**"
      ],
      "metadata": {
        "id": "p5D-byjlPRou"
      }
    },
    {
      "cell_type": "code",
      "source": [
        "#create a 'stroke' counts bar graph\n",
        "stroke_counts = df_ml['stroke'].value_counts().sort_values()\n",
        "\n",
        "# Plot the counts of each stroke level\n",
        "\n",
        "stroke_counts.plot(kind = 'barh')\n",
        "plt.title('Stroke Counts', fontsize = 25)\n",
        "plt.ylabel('Stroke', fontsize = 15)\n",
        "plt.xlabel('Count', fontsize = 15)\n",
        "\n",
        "#Show the figure\n",
        "plt.show();"
      ],
      "metadata": {
        "colab": {
          "base_uri": "https://localhost:8080/",
          "height": 309
        },
        "id": "h9RxJTNkRynz",
        "outputId": "f16cc2f3-918c-44c5-cb32-0ad74e0a1ab3"
      },
      "execution_count": 13,
      "outputs": [
        {
          "output_type": "display_data",
          "data": {
            "text/plain": [
              "<Figure size 432x288 with 1 Axes>"
            ],
            "image/png": "[encoded data removed]"
          },
          "metadata": {
            "needs_background": "light"
          }
        }
      ]
    },
    {
      "cell_type": "code",
      "source": [
        "#create a 'stroke' counts bar graph\n",
        "stroke_counts2 = df_ml['stroke'].value_counts()\n",
        "\n",
        "# Plot the counts of each stroke level\n",
        "\n",
        "stroke_counts2.plot(kind = 'barh')\n",
        "plt.title('Stroke Counts', fontsize = 25)\n",
        "plt.ylabel('Stroke', fontsize = 15)\n",
        "plt.xlabel('Count', fontsize = 15)\n",
        "\n",
        "#Show the figure\n",
        "plt.show();"
      ],
      "metadata": {
        "colab": {
          "base_uri": "https://localhost:8080/",
          "height": 309
        },
        "id": "OqVUMZ0VSN44",
        "outputId": "b7776c73-a3bb-4395-97f8-54aeeccf06f7"
      },
      "execution_count": 14,
      "outputs": [
        {
          "output_type": "display_data",
          "data": {
            "text/plain": [
              "<Figure size 432x288 with 1 Axes>"
            ],
            "image/png": "[encoded data removed]"
          },
          "metadata": {
            "needs_background": "light"
          }
        }
      ]
    },
    {
      "cell_type": "markdown",
      "source": [
        "### **'gender'**"
      ],
      "metadata": {
        "id": "ZBx818KmPR22"
      }
    },
    {
      "cell_type": "code",
      "source": [
        "#create a 'gender' counts bar graph\n",
        "gender_counts = df_ml['gender'].value_counts().sort_values()\n",
        "\n",
        "# Plot the counts of each gender level\n",
        "\n",
        "gender_counts.plot(kind = 'barh')\n",
        "plt.title('Gender Counts', fontsize = 25)\n",
        "plt.ylabel('Gender', fontsize = 15)\n",
        "plt.xlabel('Count', fontsize = 15)\n",
        "\n",
        "#Show the figure\n",
        "plt.show();"
      ],
      "metadata": {
        "colab": {
          "base_uri": "https://localhost:8080/",
          "height": 309
        },
        "id": "Oee7MIUuSV8f",
        "outputId": "4c17c2ba-6fde-4aa5-8d06-c35c3527d55b"
      },
      "execution_count": 15,
      "outputs": [
        {
          "output_type": "display_data",
          "data": {
            "text/plain": [
              "<Figure size 432x288 with 1 Axes>"
            ],
            "image/png": "[encoded data removed]"
          },
          "metadata": {
            "needs_background": "light"
          }
        }
      ]
    },
    {
      "cell_type": "markdown",
      "source": [
        "### **'ever-married'**"
      ],
      "metadata": {
        "id": "djIzMa81PTPk"
      }
    },
    {
      "cell_type": "code",
      "source": [
        "#create a 'ever_married' counts bar graph\n",
        "marriage_counts = df_ml['ever_married'].value_counts().sort_values()\n",
        "\n",
        "# Plot the counts of each marriage level\n",
        "\n",
        "marriage_counts.plot(kind = 'barh')\n",
        "plt.title('Ever Married Counts', fontsize = 25)\n",
        "plt.ylabel('Ever Married', fontsize = 15)\n",
        "plt.xlabel('Count', fontsize = 15)\n",
        "\n",
        "#Show the figure\n",
        "plt.show();"
      ],
      "metadata": {
        "colab": {
          "base_uri": "https://localhost:8080/",
          "height": 309
        },
        "id": "rS5xyUkQSgEl",
        "outputId": "be718030-fa29-4771-8da8-750db69b6cbf"
      },
      "execution_count": 16,
      "outputs": [
        {
          "output_type": "display_data",
          "data": {
            "text/plain": [
              "<Figure size 432x288 with 1 Axes>"
            ],
            "image/png": "[encoded data removed]"
          },
          "metadata": {
            "needs_background": "light"
          }
        }
      ]
    },
    {
      "cell_type": "markdown",
      "source": [
        "### **'work_type'**"
      ],
      "metadata": {
        "id": "hYnKf27SPTX7"
      }
    },
    {
      "cell_type": "code",
      "source": [
        "#create a 'work_type' counts bar graph\n",
        "work_counts = df_ml['work_type'].value_counts().sort_values()\n",
        "\n",
        "# Plot the counts of each work type level\n",
        "\n",
        "work_counts.plot(kind = 'barh')\n",
        "plt.title('Work Counts', fontsize = 25)\n",
        "plt.ylabel('Work', fontsize = 15)\n",
        "plt.xlabel('Count', fontsize = 15)\n",
        "\n",
        "#Show the figure\n",
        "plt.show();"
      ],
      "metadata": {
        "colab": {
          "base_uri": "https://localhost:8080/",
          "height": 309
        },
        "id": "QspOPuGGS4q8",
        "outputId": "8dff27ea-9c94-4762-d207-dad848939bc8"
      },
      "execution_count": 17,
      "outputs": [
        {
          "output_type": "display_data",
          "data": {
            "text/plain": [
              "<Figure size 432x288 with 1 Axes>"
            ],
            "image/png": "[encoded data removed]"
          },
          "metadata": {
            "needs_background": "light"
          }
        }
      ]
    },
    {
      "cell_type": "markdown",
      "source": [
        "### **'Residence_type'**"
      ],
      "metadata": {
        "id": "ave7K6j6PThB"
      }
    },
    {
      "cell_type": "code",
      "source": [
        "#create a 'residence_type' counts bar graph\n",
        "residence_counts = df_ml['Residence_type'].value_counts().sort_values()\n",
        "\n",
        "# Plot the counts of each residence type level\n",
        "\n",
        "residence_counts.plot(kind = 'barh')\n",
        "plt.title('Residence Counts', fontsize = 25)\n",
        "plt.ylabel('Residence', fontsize = 15)\n",
        "plt.xlabel('Count', fontsize = 15)\n",
        "\n",
        "#Show the figure\n",
        "plt.show();"
      ],
      "metadata": {
        "colab": {
          "base_uri": "https://localhost:8080/",
          "height": 309
        },
        "id": "6lqo3v98TjFK",
        "outputId": "94738b59-f777-4088-8c57-5725e703ad57"
      },
      "execution_count": 18,
      "outputs": [
        {
          "output_type": "display_data",
          "data": {
            "text/plain": [
              "<Figure size 432x288 with 1 Axes>"
            ],
            "image/png": "[encoded data removed]"
          },
          "metadata": {
            "needs_background": "light"
          }
        }
      ]
    },
    {
      "cell_type": "markdown",
      "source": [
        "### **'smoking_status'**"
      ],
      "metadata": {
        "id": "nPEIbAtVPTos"
      }
    },
    {
      "cell_type": "code",
      "source": [
        "#create a 'smoking_status' counts bar graph\n",
        "smoking_counts = df_ml['smoking_status'].value_counts().sort_values()\n",
        "\n",
        "# Plot the counts of each smoking status level\n",
        "\n",
        "smoking_counts.plot(kind = 'barh')\n",
        "plt.title('Smoking Status Counts', fontsize = 25)\n",
        "plt.ylabel('Smoking', fontsize = 15)\n",
        "plt.xlabel('Count', fontsize = 15)\n",
        "\n",
        "#Show the figure\n",
        "plt.show();"
      ],
      "metadata": {
        "colab": {
          "base_uri": "https://localhost:8080/",
          "height": 309
        },
        "id": "gqmSZJ7NTwoK",
        "outputId": "bfb78bdf-69f6-4105-dea8-d64dcbb58420"
      },
      "execution_count": 19,
      "outputs": [
        {
          "output_type": "display_data",
          "data": {
            "text/plain": [
              "<Figure size 432x288 with 1 Axes>"
            ],
            "image/png": "[encoded data removed]"
          },
          "metadata": {
            "needs_background": "light"
          }
        }
      ]
    },
    {
      "cell_type": "markdown",
      "source": [
        "### **'heart_disease'**"
      ],
      "metadata": {
        "id": "SXYOqxUkPTvT"
      }
    },
    {
      "cell_type": "code",
      "source": [
        "#create a 'heart_disease' counts bar graph\n",
        "heartdisease_counts = df_ml['heart_disease'].value_counts().sort_values()\n",
        "\n",
        "# Plot the counts of each heart disease level\n",
        "\n",
        "heartdisease_counts.plot(kind = 'barh')\n",
        "plt.title('Heart Disease Counts', fontsize = 25)\n",
        "plt.ylabel('Heart Disease', fontsize = 15)\n",
        "plt.xlabel('Count', fontsize = 15)\n",
        "\n",
        "#Show the figure\n",
        "plt.show();"
      ],
      "metadata": {
        "colab": {
          "base_uri": "https://localhost:8080/",
          "height": 309
        },
        "id": "OZW-Pp6LUBzS",
        "outputId": "d95aada4-72ae-4d77-9bb1-f68ef21d323b"
      },
      "execution_count": 20,
      "outputs": [
        {
          "output_type": "display_data",
          "data": {
            "text/plain": [
              "<Figure size 432x288 with 1 Axes>"
            ],
            "image/png": "[encoded data removed]"
          },
          "metadata": {
            "needs_background": "light"
          }
        }
      ]
    },
    {
      "cell_type": "markdown",
      "source": [
        "### **'hypertension'**"
      ],
      "metadata": {
        "id": "8DkB0C-fPT1L"
      }
    },
    {
      "cell_type": "code",
      "source": [
        "#create a 'hypertension' counts bar graph\n",
        "hypertension_counts = df_ml['hypertension'].value_counts().sort_values()\n",
        "\n",
        "# Plot the counts of each heart disease level\n",
        "\n",
        "hypertension_counts.plot(kind = 'barh')\n",
        "plt.title('Hypertension Counts', fontsize = 25)\n",
        "plt.ylabel('Hypertension', fontsize = 15)\n",
        "plt.xlabel('Count', fontsize = 15)\n",
        "\n",
        "#Show the figure\n",
        "plt.show();"
      ],
      "metadata": {
        "colab": {
          "base_uri": "https://localhost:8080/",
          "height": 309
        },
        "id": "jFScoC6zZCup",
        "outputId": "e39b2f89-bab3-4a36-a14a-c9c00d82fe2c"
      },
      "execution_count": 21,
      "outputs": [
        {
          "output_type": "display_data",
          "data": {
            "text/plain": [
              "<Figure size 432x288 with 1 Axes>"
            ],
            "image/png": "[encoded data removed]"
          },
          "metadata": {
            "needs_background": "light"
          }
        }
      ]
    },
    {
      "cell_type": "markdown",
      "source": [
        "### **'age'**"
      ],
      "metadata": {
        "id": "ujeDXpp3PT-e"
      }
    },
    {
      "cell_type": "code",
      "source": [
        "## histogram of ages\n",
        "plt.figure(figsize = (8,4))\n",
        "plt.hist(df_ml['age'], bins = 'auto')\n",
        "\n",
        "## including the median Age\n",
        "median_age = df_ml['age'].median().round(2)\n",
        "\n",
        "## titling and labeling\n",
        "plt.xlabel('Age', fontsize = 15)\n",
        "plt.ylabel('Count', fontsize = 15)\n",
        "plt.title('Distribution of Ages', fontsize = 25)\n",
        "\n",
        "plt.axvline(median_age, color = 'black', linestyle = '--', label = f'Median Age is {median_age}')\n",
        "plt.legend();"
      ],
      "metadata": {
        "colab": {
          "base_uri": "https://localhost:8080/",
          "height": 309
        },
        "id": "_I4hhgDTZYUq",
        "outputId": "11816656-2f58-42e6-e808-cf53cd71d76e"
      },
      "execution_count": 22,
      "outputs": [
        {
          "output_type": "display_data",
          "data": {
            "text/plain": [
              "<Figure size 576x288 with 1 Axes>"
            ],
            "image/png": "[encoded data removed]"
          },
          "metadata": {
            "needs_background": "light"
          }
        }
      ]
    },
    {
      "cell_type": "markdown",
      "source": [
        "The histogram above is displaying the distribution of the 'age' variable.  The distribution is somewhate uniform with a few small peaks in values, and with ages ranging from very young (close to newborns) all the way to individuals just over 80, and with a median age of 45."
      ],
      "metadata": {
        "id": "MTXWxcnxWq8Z"
      }
    },
    {
      "cell_type": "markdown",
      "source": [
        "### **'bmi'**"
      ],
      "metadata": {
        "id": "sgFOgTNpP3dI"
      }
    },
    {
      "cell_type": "code",
      "source": [
        "## histogram of bmi\n",
        "plt.figure(figsize = (8,4))\n",
        "plt.hist(df_ml['bmi'], bins = 'auto')\n",
        "\n",
        "## including the median Age\n",
        "median_bmi = df_ml['bmi'].median().round(2)\n",
        "\n",
        "## titling and labeling\n",
        "plt.xlabel('BMI', fontsize = 15)\n",
        "plt.ylabel('Count', fontsize = 15)\n",
        "plt.title('Distribution of BMI', fontsize = 25)\n",
        "\n",
        "plt.axvline(median_bmi, color = 'black', linestyle = '--', label = f'Median BMI is {median_bmi}')\n",
        "plt.legend();"
      ],
      "metadata": {
        "colab": {
          "base_uri": "https://localhost:8080/",
          "height": 309
        },
        "id": "gHWbUYj3ZsRO",
        "outputId": "63e6ded7-c235-47f0-be80-1514d4d5db2d"
      },
      "execution_count": 23,
      "outputs": [
        {
          "output_type": "display_data",
          "data": {
            "text/plain": [
              "<Figure size 576x288 with 1 Axes>"
            ],
            "image/png": "[encoded data removed]"
          },
          "metadata": {
            "needs_background": "light"
          }
        }
      ]
    },
    {
      "cell_type": "markdown",
      "source": [
        "The histogram above is displaying the distribution of the 'bmi' variable.  The distribution is fairly symmetric except for several larger outliers."
      ],
      "metadata": {
        "id": "gnJk3FwFWbul"
      }
    },
    {
      "cell_type": "markdown",
      "source": [
        "### ** bold text'avg_glucose_level'**"
      ],
      "metadata": {
        "id": "01Jq9hv2PUCD"
      }
    },
    {
      "cell_type": "code",
      "source": [
        "## histogram of Average Glucose Level\n",
        "plt.figure(figsize = (8,4))\n",
        "plt.hist(df_ml['avg_glucose_level'], bins = 'auto')\n",
        "\n",
        "## including the median Age\n",
        "median_agl = df_ml['avg_glucose_level'].median().round(2)\n",
        "\n",
        "## titling and labeling\n",
        "plt.xlabel('Average Glucose Level', fontsize = 15)\n",
        "plt.ylabel('Count', fontsize = 15)\n",
        "plt.title('Distribution of Average Glucose Levels', fontsize = 25)\n",
        "\n",
        "plt.axvline(median_agl, color = 'black', linestyle = '--', label = f'Median Average Glucose Level is {median_agl}')\n",
        "plt.legend();"
      ],
      "metadata": {
        "colab": {
          "base_uri": "https://localhost:8080/",
          "height": 309
        },
        "id": "2IFUjg5rZ8uV",
        "outputId": "c5a7b43c-fbff-4171-c56c-19b3b283b1b2"
      },
      "execution_count": 24,
      "outputs": [
        {
          "output_type": "display_data",
          "data": {
            "text/plain": [
              "<Figure size 576x288 with 1 Axes>"
            ],
            "image/png": "[encoded data removed]"
          },
          "metadata": {
            "needs_background": "light"
          }
        }
      ]
    },
    {
      "cell_type": "markdown",
      "source": [
        "The histogram above is displaying the distribution of the 'avg_glucose_level' variable.  The distribution is not symmetric, and has some skewness to the right.  The median is below 100 and the maximum value is above 250."
      ],
      "metadata": {
        "id": "SJwxEnoaWHw4"
      }
    },
    {
      "cell_type": "markdown",
      "source": [
        "### **Check for outliers in 'avg-glucose_level', 'bmi', and 'ages'**"
      ],
      "metadata": {
        "id": "GqxrF72WMIob"
      }
    },
    {
      "cell_type": "markdown",
      "source": [
        "#### **.describe() for initial investigation**"
      ],
      "metadata": {
        "id": "h5q9HWGYO9Y-"
      }
    },
    {
      "cell_type": "code",
      "source": [
        "# common summary statistics\n",
        "df_ml.describe().round(4)"
      ],
      "metadata": {
        "colab": {
          "base_uri": "https://localhost:8080/",
          "height": 300
        },
        "id": "2EqHFS_LMch2",
        "outputId": "13ebf01c-b7b4-4be7-9647-e0af58a8e521"
      },
      "execution_count": 44,
      "outputs": [
        {
          "output_type": "execute_result",
          "data": {
            "text/plain": [
              "             age  hypertension  heart_disease  avg_glucose_level        bmi  \\\n",
              "count  5110.0000     5110.0000      5110.0000          5110.0000  5110.0000   \n",
              "mean     43.2266        0.0975         0.0540           106.1477    28.8932   \n",
              "std      22.6126        0.2966         0.2261            45.2836     7.6980   \n",
              "min       0.0800        0.0000         0.0000            55.1200    10.3000   \n",
              "25%      25.0000        0.0000         0.0000            77.2450    23.8000   \n",
              "50%      45.0000        0.0000         0.0000            91.8850    28.4000   \n",
              "75%      61.0000        0.0000         0.0000           114.0900    32.8000   \n",
              "max      82.0000        1.0000         1.0000           271.7400    97.6000   \n",
              "\n",
              "          stroke  \n",
              "count  5110.0000  \n",
              "mean      0.0487  \n",
              "std       0.2153  \n",
              "min       0.0000  \n",
              "25%       0.0000  \n",
              "50%       0.0000  \n",
              "75%       0.0000  \n",
              "max       1.0000  "
            ],
            "text/html": [
              "\n",
              "  <div id=\"df-b77dd5c1-e669-4caf-862e-e78b0288ac2a\">\n",
              "    <div class=\"colab-df-container\">\n",
              "      <div>\n",
              "<style scoped>\n",
              "    .dataframe tbody tr th:only-of-type {\n",
              "        vertical-align: middle;\n",
              "    }\n",
              "\n",
              "    .dataframe tbody tr th {\n",
              "        vertical-align: top;\n",
              "    }\n",
              "\n",
              "    .dataframe thead th {\n",
              "        text-align: right;\n",
              "    }\n",
              "</style>\n",
              "<table border=\"1\" class=\"dataframe\">\n",
              "  <thead>\n",
              "    <tr style=\"text-align: right;\">\n",
              "      <th></th>\n",
              "      <th>age</th>\n",
              "      <th>hypertension</th>\n",
              "      <th>heart_disease</th>\n",
              "      <th>avg_glucose_level</th>\n",
              "      <th>bmi</th>\n",
              "      <th>stroke</th>\n",
              "    </tr>\n",
              "  </thead>\n",
              "  <tbody>\n",
              "    <tr>\n",
              "      <th>count</th>\n",
              "      <td>5110.0000</td>\n",
              "      <td>5110.0000</td>\n",
              "      <td>5110.0000</td>\n",
              "      <td>5110.0000</td>\n",
              "      <td>5110.0000</td>\n",
              "      <td>5110.0000</td>\n",
              "    </tr>\n",
              "    <tr>\n",
              "      <th>mean</th>\n",
              "      <td>43.2266</td>\n",
              "      <td>0.0975</td>\n",
              "      <td>0.0540</td>\n",
              "      <td>106.1477</td>\n",
              "      <td>28.8932</td>\n",
              "      <td>0.0487</td>\n",
              "    </tr>\n",
              "    <tr>\n",
              "      <th>std</th>\n",
              "      <td>22.6126</td>\n",
              "      <td>0.2966</td>\n",
              "      <td>0.2261</td>\n",
              "      <td>45.2836</td>\n",
              "      <td>7.6980</td>\n",
              "      <td>0.2153</td>\n",
              "    </tr>\n",
              "    <tr>\n",
              "      <th>min</th>\n",
              "      <td>0.0800</td>\n",
              "      <td>0.0000</td>\n",
              "      <td>0.0000</td>\n",
              "      <td>55.1200</td>\n",
              "      <td>10.3000</td>\n",
              "      <td>0.0000</td>\n",
              "    </tr>\n",
              "    <tr>\n",
              "      <th>25%</th>\n",
              "      <td>25.0000</td>\n",
              "      <td>0.0000</td>\n",
              "      <td>0.0000</td>\n",
              "      <td>77.2450</td>\n",
              "      <td>23.8000</td>\n",
              "      <td>0.0000</td>\n",
              "    </tr>\n",
              "    <tr>\n",
              "      <th>50%</th>\n",
              "      <td>45.0000</td>\n",
              "      <td>0.0000</td>\n",
              "      <td>0.0000</td>\n",
              "      <td>91.8850</td>\n",
              "      <td>28.4000</td>\n",
              "      <td>0.0000</td>\n",
              "    </tr>\n",
              "    <tr>\n",
              "      <th>75%</th>\n",
              "      <td>61.0000</td>\n",
              "      <td>0.0000</td>\n",
              "      <td>0.0000</td>\n",
              "      <td>114.0900</td>\n",
              "      <td>32.8000</td>\n",
              "      <td>0.0000</td>\n",
              "    </tr>\n",
              "    <tr>\n",
              "      <th>max</th>\n",
              "      <td>82.0000</td>\n",
              "      <td>1.0000</td>\n",
              "      <td>1.0000</td>\n",
              "      <td>271.7400</td>\n",
              "      <td>97.6000</td>\n",
              "      <td>1.0000</td>\n",
              "    </tr>\n",
              "  </tbody>\n",
              "</table>\n",
              "</div>\n",
              "      <button class=\"colab-df-convert\" onclick=\"convertToInteractive('df-b77dd5c1-e669-4caf-862e-e78b0288ac2a')\"\n",
              "              title=\"Convert this dataframe to an interactive table.\"\n",
              "              style=\"display:none;\">\n",
              "        \n",
              "  <svg xmlns=\"http://www.w3.org/2000/svg\" height=\"24px\"viewBox=\"0 0 24 24\"\n",
              "       width=\"24px\">\n",
              "    <path d=\"M0 0h24v24H0V0z\" fill=\"none\"/>\n",
              "    <path d=\"M18.56 5.44l.94 2.06.94-2.06 2.06-.94-2.06-.94-.94-2.06-.94 2.06-2.06.94zm-11 1L8.5 8.5l.94-2.06 2.06-.94-2.06-.94L8.5 2.5l-.94 2.06-2.06.94zm10 10l.94 2.06.94-2.06 2.06-.94-2.06-.94-.94-2.06-.94 2.06-2.06.94z\"/><path d=\"M17.41 7.96l-1.37-1.37c-.4-.4-.92-.59-1.43-.59-.52 0-1.04.2-1.43.59L10.3 9.45l-7.72 7.72c-.78.78-.78 2.05 0 2.83L4 21.41c.39.39.9.59 1.41.59.51 0 1.02-.2 1.41-.59l7.78-7.78 2.81-2.81c.8-.78.8-2.07 0-2.86zM5.41 20L4 18.59l7.72-7.72 1.47 1.35L5.41 20z\"/>\n",
              "  </svg>\n",
              "      </button>\n",
              "      \n",
              "  <style>\n",
              "    .colab-df-container {\n",
              "      display:flex;\n",
              "      flex-wrap:wrap;\n",
              "      gap: 12px;\n",
              "    }\n",
              "\n",
              "    .colab-df-convert {\n",
              "      background-color: #E8F0FE;\n",
              "      border: none;\n",
              "      border-radius: 50%;\n",
              "      cursor: pointer;\n",
              "      display: none;\n",
              "      fill: #1967D2;\n",
              "      height: 32px;\n",
              "      padding: 0 0 0 0;\n",
              "      width: 32px;\n",
              "    }\n",
              "\n",
              "    .colab-df-convert:hover {\n",
              "      background-color: #E2EBFA;\n",
              "      box-shadow: 0px 1px 2px rgba(60, 64, 67, 0.3), 0px 1px 3px 1px rgba(60, 64, 67, 0.15);\n",
              "      fill: #174EA6;\n",
              "    }\n",
              "\n",
              "    [theme=dark] .colab-df-convert {\n",
              "      background-color: #3B4455;\n",
              "      fill: #D2E3FC;\n",
              "    }\n",
              "\n",
              "    [theme=dark] .colab-df-convert:hover {\n",
              "      background-color: #434B5C;\n",
              "      box-shadow: 0px 1px 3px 1px rgba(0, 0, 0, 0.15);\n",
              "      filter: drop-shadow(0px 1px 2px rgba(0, 0, 0, 0.3));\n",
              "      fill: #FFFFFF;\n",
              "    }\n",
              "  </style>\n",
              "\n",
              "      <script>\n",
              "        const buttonEl =\n",
              "          document.querySelector('#df-b77dd5c1-e669-4caf-862e-e78b0288ac2a button.colab-df-convert');\n",
              "        buttonEl.style.display =\n",
              "          google.colab.kernel.accessAllowed ? 'block' : 'none';\n",
              "\n",
              "        async function convertToInteractive(key) {\n",
              "          const element = document.querySelector('#df-b77dd5c1-e669-4caf-862e-e78b0288ac2a');\n",
              "          const dataTable =\n",
              "            await google.colab.kernel.invokeFunction('convertToInteractive',\n",
              "                                                     [key], {});\n",
              "          if (!dataTable) return;\n",
              "\n",
              "          const docLinkHtml = 'Like what you see? Visit the ' +\n",
              "            '<a target=\"_blank\" href=https://colab.research.google.com/notebooks/data_table.ipynb>data table notebook</a>'\n",
              "            + ' to learn more about interactive tables.';\n",
              "          element.innerHTML = '';\n",
              "          dataTable['output_type'] = 'display_data';\n",
              "          await google.colab.output.renderOutput(dataTable, element);\n",
              "          const docLink = document.createElement('div');\n",
              "          docLink.innerHTML = docLinkHtml;\n",
              "          element.appendChild(docLink);\n",
              "        }\n",
              "      </script>\n",
              "    </div>\n",
              "  </div>\n",
              "  "
            ]
          },
          "metadata": {},
          "execution_count": 44
        }
      ]
    },
    {
      "cell_type": "markdown",
      "source": [
        "### **Boxplots showing the outliers in the numerical columns:**"
      ],
      "metadata": {
        "id": "YDvAQOVYO4p8"
      }
    },
    {
      "cell_type": "code",
      "source": [
        "df_ml.boxplot(column = 'age');"
      ],
      "metadata": {
        "colab": {
          "base_uri": "https://localhost:8080/",
          "height": 265
        },
        "id": "JWuwkYvGNTi6",
        "outputId": "e6fbe0a5-7b9b-4a14-e134-23d2efbbc097"
      },
      "execution_count": 38,
      "outputs": [
        {
          "output_type": "display_data",
          "data": {
            "text/plain": [
              "<Figure size 432x288 with 1 Axes>"
            ],
            "image/png": "[encoded data removed]"
          },
          "metadata": {
            "needs_background": "light"
          }
        }
      ]
    },
    {
      "cell_type": "markdown",
      "source": [
        "No outliers in the 'Age' column."
      ],
      "metadata": {
        "id": "wa2lmeITS8sE"
      }
    },
    {
      "cell_type": "code",
      "source": [
        "df.boxplot(column = 'avg_glucose_level');"
      ],
      "metadata": {
        "colab": {
          "base_uri": "https://localhost:8080/",
          "height": 266
        },
        "id": "G1O1b2xaOdE-",
        "outputId": "1eedcd33-de3d-4445-8df0-ab07397816eb"
      },
      "execution_count": 39,
      "outputs": [
        {
          "output_type": "display_data",
          "data": {
            "text/plain": [
              "<Figure size 432x288 with 1 Axes>"
            ],
            "image/png": "[encoded data removed]"
          },
          "metadata": {
            "needs_background": "light"
          }
        }
      ]
    },
    {
      "cell_type": "markdown",
      "source": [
        "Many outliers in the 'avg_glucose_level' column."
      ],
      "metadata": {
        "id": "6DfvweUeS_ey"
      }
    },
    {
      "cell_type": "code",
      "source": [
        "df.boxplot(column = 'bmi',);"
      ],
      "metadata": {
        "colab": {
          "base_uri": "https://localhost:8080/",
          "height": 265
        },
        "id": "cCdeDtqOOu_3",
        "outputId": "ea74cba3-2b78-45cf-a0e2-f2cdf6cba108"
      },
      "execution_count": 40,
      "outputs": [
        {
          "output_type": "display_data",
          "data": {
            "text/plain": [
              "<Figure size 432x288 with 1 Axes>"
            ],
            "image/png": "[encoded data removed]"
          },
          "metadata": {
            "needs_background": "light"
          }
        }
      ]
    },
    {
      "cell_type": "markdown",
      "source": [
        "Several outliers in the 'bmi' values."
      ],
      "metadata": {
        "id": "IQmK6tZsTET9"
      }
    },
    {
      "cell_type": "markdown",
      "source": [
        "The following function was adapted from https://careerfoundry.com/en/blog/data-analytics/how-to-find-outliers/"
      ],
      "metadata": {
        "id": "6jfXAaeTTTeR"
      }
    },
    {
      "cell_type": "code",
      "source": [
        "#create a function to find outliers using IQR\n",
        "\n",
        "def find_outliers_IQR(df):\n",
        "\n",
        "   q1=df.quantile(0.25)\n",
        "\n",
        "   q3=df.quantile(0.75)\n",
        "\n",
        "   IQR=q3-q1\n",
        "   print(f'The first quartile is: {q1:.2f}.')\n",
        "   print(f'The third quartile is: {q3:.2f}.')\n",
        "   print(f'The upper fence is {(q3+1.5*IQR):.02f}.')\n",
        "   print(f'The lower fence is {(q1 - 1.5*IQR):.02f}.')\n",
        "\n",
        "   outliers = df[((df<(q1-1.5*IQR)) | (df>(q3+1.5*IQR)))]\n",
        "\n",
        "   return outliers"
      ],
      "metadata": {
        "id": "wfaRe8c4TT44"
      },
      "execution_count": 62,
      "outputs": []
    },
    {
      "cell_type": "markdown",
      "source": [
        "### Outlier information for 'bmi' column."
      ],
      "metadata": {
        "id": "BfBZUXBPTYzH"
      }
    },
    {
      "cell_type": "code",
      "source": [
        "outliers = find_outliers_IQR(df_ml['bmi'])\n",
        "\n",
        "print('number of outliers: ' + str(len(outliers)))\n",
        "\n",
        "print('max outlier value: ' + str(outliers.max()))\n",
        "\n",
        "print('min outlier value: ' + str(outliers.min()))"
      ],
      "metadata": {
        "colab": {
          "base_uri": "https://localhost:8080/"
        },
        "id": "fl2uiP8LTYOm",
        "outputId": "006cdbe3-0a3f-44ff-efbb-947b00f856f4"
      },
      "execution_count": 61,
      "outputs": [
        {
          "output_type": "stream",
          "name": "stdout",
          "text": [
            "23.8\n",
            "32.8\n",
            "The upper fence is 46.30.\n",
            "The lower fence is 10.30.\n",
            "number of outliers: 126\n",
            "max outlier value: 97.6\n",
            "min outlier value: 10.3\n"
          ]
        }
      ]
    },
    {
      "cell_type": "markdown",
      "source": [
        "### Outlier information for 'avg_glucose_level' column."
      ],
      "metadata": {
        "id": "uBxnV_DoTaVl"
      }
    },
    {
      "cell_type": "code",
      "source": [
        "outliers = find_outliers_IQR(df_ml['avg_glucose_level'])\n",
        "\n",
        "print('number of outliers: ' + str(len(outliers)))\n",
        "\n",
        "print('max outlier value: ' + str(outliers.max()))\n",
        "\n",
        "print('min outlier value: ' + str(outliers.min()))"
      ],
      "metadata": {
        "colab": {
          "base_uri": "https://localhost:8080/"
        },
        "id": "xm2l5v7zTajk",
        "outputId": "8fec2be3-5668-449e-b07f-739679c3e29e"
      },
      "execution_count": 59,
      "outputs": [
        {
          "output_type": "stream",
          "name": "stdout",
          "text": [
            "77.245\n",
            "114.09\n",
            "The upper is 169.36.\n",
            "The lower is 21.98.\n",
            "number of outliers: 627\n",
            "max outlier value: 271.74\n",
            "min outlier value: 169.43\n"
          ]
        }
      ]
    },
    {
      "cell_type": "markdown",
      "source": [
        "### Outlier information for 'age' column."
      ],
      "metadata": {
        "id": "5q5YRrG1Taxu"
      }
    },
    {
      "cell_type": "code",
      "source": [
        "outliers = find_outliers_IQR(df_ml['age'])\n",
        "\n",
        "print('number of outliers: ' + str(len(outliers)))\n",
        "\n",
        "print('max outlier value: ' + str(outliers.max()))\n",
        "\n",
        "print('min outlier value: ' + str(outliers.min()))"
      ],
      "metadata": {
        "colab": {
          "base_uri": "https://localhost:8080/"
        },
        "id": "8awHIjIUTa8E",
        "outputId": "53630718-73b8-4770-8c2e-c50b6cb023e7"
      },
      "execution_count": 63,
      "outputs": [
        {
          "output_type": "stream",
          "name": "stdout",
          "text": [
            "The first quartile is: 25.00.\n",
            "The third quartile is: 61.00.\n",
            "The upper fence is 115.00.\n",
            "The lower fence is -29.00.\n",
            "number of outliers: 0\n",
            "max outlier value: nan\n",
            "min outlier value: nan\n"
          ]
        }
      ]
    },
    {
      "cell_type": "markdown",
      "source": [
        "## **Explanatory Visuals**"
      ],
      "metadata": {
        "id": "FQSKvA2kbEY8"
      }
    },
    {
      "cell_type": "markdown",
      "source": [
        "## **Models, Prediction and Analysis**"
      ],
      "metadata": {
        "id": "wVqx662PbKr8"
      }
    }
  ]
}